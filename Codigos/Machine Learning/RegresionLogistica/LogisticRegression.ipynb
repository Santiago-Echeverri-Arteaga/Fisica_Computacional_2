{
 "cells": [
  {
   "cell_type": "markdown",
   "id": "39355100-3b9e-449b-9c36-5cffb8c5e24d",
   "metadata": {},
   "source": [
    "# Regresión Logística (y breve recuento de la regresión Lineal)\n",
    "\n",
    "**Creado por Ph.D. Santiago Echeverri Arteaga para la asignatura de Física Computacional I**"
   ]
  },
  {
   "cell_type": "code",
   "execution_count": null,
   "id": "8e874d96-a8d2-4243-b78e-f9982c6d86f6",
   "metadata": {},
   "outputs": [],
   "source": [
    "import numpy as np\n",
    "import pandas as pd\n",
    "import matplotlib.pyplot as plt\n",
    "\n",
    "from sklearn.datasets import load_boston\n",
    "\n",
    "from scipy.stats import boxcox\n",
    "from scipy.special import inv_boxcox\n",
    "\n",
    "from sklearn.linear_model import LinearRegression, Lasso, Ridge, LogisticRegression, LogisticRegressionCV\n",
    "\n",
    "from sklearn.metrics import r2_score, confusion_matrix, accuracy_score, roc_auc_score\n",
    "from sklearn.metrics import precision_recall_fscore_support as score\n",
    "\n",
    "from sklearn.model_selection import train_test_split, GridSearchCV, KFold, StratifiedShuffleSplit\n",
    "\n",
    "from sklearn.feature_selection import RFE\n",
    "\n",
    "from sklearn.preprocessing import StandardScaler, PolynomialFeatures, label_binarize, LabelEncoder\n",
    "\n",
    "from sklearn.pipeline import Pipeline\n",
    "\n",
    "import matplotlib.pyplot as plt\n",
    "import seaborn as sns\n",
    "%matplotlib inline\n",
    "\n",
    "import pickle"
   ]
  },
  {
   "cell_type": "code",
   "execution_count": 2,
   "id": "f61dddbe-fff6-41ff-af9d-e7b986cf203a",
   "metadata": {},
   "outputs": [],
   "source": [
    "import warnings\n",
    "warnings.simplefilter(\"ignore\")"
   ]
  },
  {
   "cell_type": "markdown",
   "id": "0bb2f320-d883-4206-8cb2-43ca824cc8e0",
   "metadata": {},
   "source": [
    "**datasets de juguete para importar desde scikit-learn**\n",
    "\n",
    "load_boston(*[, return_X_y])\n",
    "\n",
    "load_iris(*[, return_X_y, as_frame])\n",
    "\n",
    "load_diabetes(*[, return_X_y, as_frame, scaled])\n",
    "\n",
    "load_digits(*[, n_class, return_X_y, as_frame])\n",
    "\n",
    "load_linnerud(*[, return_X_y, as_frame])\n",
    "\n",
    "load_wine(*[, return_X_y, as_frame])\n",
    "\n",
    "load_breast_cancer(*[, return_X_y, as_frame])"
   ]
  },
  {
   "cell_type": "markdown",
   "id": "72551141-8026-4cea-9969-6a624c3f25e4",
   "metadata": {},
   "source": [
    "## Recordando la regresión lineal"
   ]
  },
  {
   "cell_type": "code",
   "execution_count": 3,
   "id": "12672bb4-3d79-4ca8-ab82-6a8949f22ceb",
   "metadata": {},
   "outputs": [],
   "source": [
    "np.random.seed(72018)\n",
    "def boston_dataframe():\n",
    "    boston = load_boston() \n",
    "    description = boston.DESCR\n",
    "    X = boston.data\n",
    "    y = boston.target\n",
    "    #y = target.reshape(target.shape[0],)\n",
    "    # To DataFrame\n",
    "    X = pd.DataFrame(X,columns=boston.feature_names)\n",
    "    y = pd.Series(y)\n",
    "    df = pd.concat([X,pd.DataFrame(y,columns=np.array(['MEDV']))],axis=1)\n",
    "    feature_names = np.concatenate([boston.feature_names, np.array(['MEDV'])], axis=0)\n",
    "    return(X, y, df, feature_names, description)"
   ]
  },
  {
   "cell_type": "code",
   "execution_count": 4,
   "id": "3bc2c182-3e75-4dd3-9094-90f47203ce1f",
   "metadata": {},
   "outputs": [],
   "source": [
    "X, y, df, feature_names, description =  boston_dataframe()"
   ]
  },
  {
   "cell_type": "code",
   "execution_count": 5,
   "id": "390662ea-a272-4d63-bd68-dd0fbc1db9e7",
   "metadata": {},
   "outputs": [],
   "source": [
    "# Define los estimadores\n",
    "estimator_lr = Pipeline([(\"scaler\", StandardScaler()),\n",
    "        (\"polynomial_features\", PolynomialFeatures(include_bias=False)),\n",
    "        (\"linear_regression\", LinearRegression())])\n",
    "\n",
    "estimator_L2 = Pipeline([(\"scaler\", StandardScaler()),\n",
    "        (\"polynomial_features\", PolynomialFeatures(include_bias=False)),\n",
    "        (\"Ridge\", Ridge())])\n",
    "# Define los parámetros a variar\n",
    "params_lr = {'polynomial_features__degree': [1, 2, 3, 4, 5]}\n",
    "params_L2 = {'polynomial_features__degree': [1, 2, 3, 4, 5],\n",
    "    'Ridge__alpha': np.logspace(-3, 3, 10)}\n",
    "# Define el KFold\n",
    "kf = KFold(shuffle=True, random_state=72018, n_splits=3)\n",
    "# Define los Grids\n",
    "grid_lr = GridSearchCV(estimator_lr, params_lr, cv=kf, verbose=1)\n",
    "grid_L2 = GridSearchCV(estimator_L2, params_L2, cv=kf, verbose=1)\n",
    "# División en Entrenamiento/Prueba\n",
    "X_train, X_test, y_train, y_test = train_test_split(X, y, test_size=0.3, random_state=72018)"
   ]
  },
  {
   "cell_type": "code",
   "execution_count": 6,
   "id": "ad6dcede-e06a-4815-ac61-ae1b3a1730ec",
   "metadata": {},
   "outputs": [
    {
     "name": "stdout",
     "output_type": "stream",
     "text": [
      "Fitting 3 folds for each of 5 candidates, totalling 15 fits\n",
      "CPU times: total: 5.47 s\n",
      "Wall time: 2.74 s\n"
     ]
    },
    {
     "data": {
      "text/html": [
       "<style>#sk-container-id-1 {color: black;background-color: white;}#sk-container-id-1 pre{padding: 0;}#sk-container-id-1 div.sk-toggleable {background-color: white;}#sk-container-id-1 label.sk-toggleable__label {cursor: pointer;display: block;width: 100%;margin-bottom: 0;padding: 0.3em;box-sizing: border-box;text-align: center;}#sk-container-id-1 label.sk-toggleable__label-arrow:before {content: \"▸\";float: left;margin-right: 0.25em;color: #696969;}#sk-container-id-1 label.sk-toggleable__label-arrow:hover:before {color: black;}#sk-container-id-1 div.sk-estimator:hover label.sk-toggleable__label-arrow:before {color: black;}#sk-container-id-1 div.sk-toggleable__content {max-height: 0;max-width: 0;overflow: hidden;text-align: left;background-color: #f0f8ff;}#sk-container-id-1 div.sk-toggleable__content pre {margin: 0.2em;color: black;border-radius: 0.25em;background-color: #f0f8ff;}#sk-container-id-1 input.sk-toggleable__control:checked~div.sk-toggleable__content {max-height: 200px;max-width: 100%;overflow: auto;}#sk-container-id-1 input.sk-toggleable__control:checked~label.sk-toggleable__label-arrow:before {content: \"▾\";}#sk-container-id-1 div.sk-estimator input.sk-toggleable__control:checked~label.sk-toggleable__label {background-color: #d4ebff;}#sk-container-id-1 div.sk-label input.sk-toggleable__control:checked~label.sk-toggleable__label {background-color: #d4ebff;}#sk-container-id-1 input.sk-hidden--visually {border: 0;clip: rect(1px 1px 1px 1px);clip: rect(1px, 1px, 1px, 1px);height: 1px;margin: -1px;overflow: hidden;padding: 0;position: absolute;width: 1px;}#sk-container-id-1 div.sk-estimator {font-family: monospace;background-color: #f0f8ff;border: 1px dotted black;border-radius: 0.25em;box-sizing: border-box;margin-bottom: 0.5em;}#sk-container-id-1 div.sk-estimator:hover {background-color: #d4ebff;}#sk-container-id-1 div.sk-parallel-item::after {content: \"\";width: 100%;border-bottom: 1px solid gray;flex-grow: 1;}#sk-container-id-1 div.sk-label:hover label.sk-toggleable__label {background-color: #d4ebff;}#sk-container-id-1 div.sk-serial::before {content: \"\";position: absolute;border-left: 1px solid gray;box-sizing: border-box;top: 0;bottom: 0;left: 50%;z-index: 0;}#sk-container-id-1 div.sk-serial {display: flex;flex-direction: column;align-items: center;background-color: white;padding-right: 0.2em;padding-left: 0.2em;position: relative;}#sk-container-id-1 div.sk-item {position: relative;z-index: 1;}#sk-container-id-1 div.sk-parallel {display: flex;align-items: stretch;justify-content: center;background-color: white;position: relative;}#sk-container-id-1 div.sk-item::before, #sk-container-id-1 div.sk-parallel-item::before {content: \"\";position: absolute;border-left: 1px solid gray;box-sizing: border-box;top: 0;bottom: 0;left: 50%;z-index: -1;}#sk-container-id-1 div.sk-parallel-item {display: flex;flex-direction: column;z-index: 1;position: relative;background-color: white;}#sk-container-id-1 div.sk-parallel-item:first-child::after {align-self: flex-end;width: 50%;}#sk-container-id-1 div.sk-parallel-item:last-child::after {align-self: flex-start;width: 50%;}#sk-container-id-1 div.sk-parallel-item:only-child::after {width: 0;}#sk-container-id-1 div.sk-dashed-wrapped {border: 1px dashed gray;margin: 0 0.4em 0.5em 0.4em;box-sizing: border-box;padding-bottom: 0.4em;background-color: white;}#sk-container-id-1 div.sk-label label {font-family: monospace;font-weight: bold;display: inline-block;line-height: 1.2em;}#sk-container-id-1 div.sk-label-container {text-align: center;}#sk-container-id-1 div.sk-container {/* jupyter's `normalize.less` sets `[hidden] { display: none; }` but bootstrap.min.css set `[hidden] { display: none !important; }` so we also need the `!important` here to be able to override the default hidden behavior on the sphinx rendered scikit-learn.org. See: https://github.com/scikit-learn/scikit-learn/issues/21755 */display: inline-block !important;position: relative;}#sk-container-id-1 div.sk-text-repr-fallback {display: none;}</style><div id=\"sk-container-id-1\" class=\"sk-top-container\"><div class=\"sk-text-repr-fallback\"><pre>GridSearchCV(cv=KFold(n_splits=3, random_state=72018, shuffle=True),\n",
       "             estimator=Pipeline(steps=[(&#x27;scaler&#x27;, StandardScaler()),\n",
       "                                       (&#x27;polynomial_features&#x27;,\n",
       "                                        PolynomialFeatures(include_bias=False)),\n",
       "                                       (&#x27;linear_regression&#x27;,\n",
       "                                        LinearRegression())]),\n",
       "             param_grid={&#x27;polynomial_features__degree&#x27;: [1, 2, 3, 4, 5]},\n",
       "             verbose=1)</pre><b>In a Jupyter environment, please rerun this cell to show the HTML representation or trust the notebook. <br />On GitHub, the HTML representation is unable to render, please try loading this page with nbviewer.org.</b></div><div class=\"sk-container\" hidden><div class=\"sk-item sk-dashed-wrapped\"><div class=\"sk-label-container\"><div class=\"sk-label sk-toggleable\"><input class=\"sk-toggleable__control sk-hidden--visually\" id=\"sk-estimator-id-1\" type=\"checkbox\" ><label for=\"sk-estimator-id-1\" class=\"sk-toggleable__label sk-toggleable__label-arrow\">GridSearchCV</label><div class=\"sk-toggleable__content\"><pre>GridSearchCV(cv=KFold(n_splits=3, random_state=72018, shuffle=True),\n",
       "             estimator=Pipeline(steps=[(&#x27;scaler&#x27;, StandardScaler()),\n",
       "                                       (&#x27;polynomial_features&#x27;,\n",
       "                                        PolynomialFeatures(include_bias=False)),\n",
       "                                       (&#x27;linear_regression&#x27;,\n",
       "                                        LinearRegression())]),\n",
       "             param_grid={&#x27;polynomial_features__degree&#x27;: [1, 2, 3, 4, 5]},\n",
       "             verbose=1)</pre></div></div></div><div class=\"sk-parallel\"><div class=\"sk-parallel-item\"><div class=\"sk-item\"><div class=\"sk-label-container\"><div class=\"sk-label sk-toggleable\"><input class=\"sk-toggleable__control sk-hidden--visually\" id=\"sk-estimator-id-2\" type=\"checkbox\" ><label for=\"sk-estimator-id-2\" class=\"sk-toggleable__label sk-toggleable__label-arrow\">estimator: Pipeline</label><div class=\"sk-toggleable__content\"><pre>Pipeline(steps=[(&#x27;scaler&#x27;, StandardScaler()),\n",
       "                (&#x27;polynomial_features&#x27;, PolynomialFeatures(include_bias=False)),\n",
       "                (&#x27;linear_regression&#x27;, LinearRegression())])</pre></div></div></div><div class=\"sk-serial\"><div class=\"sk-item\"><div class=\"sk-serial\"><div class=\"sk-item\"><div class=\"sk-estimator sk-toggleable\"><input class=\"sk-toggleable__control sk-hidden--visually\" id=\"sk-estimator-id-3\" type=\"checkbox\" ><label for=\"sk-estimator-id-3\" class=\"sk-toggleable__label sk-toggleable__label-arrow\">StandardScaler</label><div class=\"sk-toggleable__content\"><pre>StandardScaler()</pre></div></div></div><div class=\"sk-item\"><div class=\"sk-estimator sk-toggleable\"><input class=\"sk-toggleable__control sk-hidden--visually\" id=\"sk-estimator-id-4\" type=\"checkbox\" ><label for=\"sk-estimator-id-4\" class=\"sk-toggleable__label sk-toggleable__label-arrow\">PolynomialFeatures</label><div class=\"sk-toggleable__content\"><pre>PolynomialFeatures(include_bias=False)</pre></div></div></div><div class=\"sk-item\"><div class=\"sk-estimator sk-toggleable\"><input class=\"sk-toggleable__control sk-hidden--visually\" id=\"sk-estimator-id-5\" type=\"checkbox\" ><label for=\"sk-estimator-id-5\" class=\"sk-toggleable__label sk-toggleable__label-arrow\">LinearRegression</label><div class=\"sk-toggleable__content\"><pre>LinearRegression()</pre></div></div></div></div></div></div></div></div></div></div></div></div>"
      ],
      "text/plain": [
       "GridSearchCV(cv=KFold(n_splits=3, random_state=72018, shuffle=True),\n",
       "             estimator=Pipeline(steps=[('scaler', StandardScaler()),\n",
       "                                       ('polynomial_features',\n",
       "                                        PolynomialFeatures(include_bias=False)),\n",
       "                                       ('linear_regression',\n",
       "                                        LinearRegression())]),\n",
       "             param_grid={'polynomial_features__degree': [1, 2, 3, 4, 5]},\n",
       "             verbose=1)"
      ]
     },
     "execution_count": 6,
     "metadata": {},
     "output_type": "execute_result"
    }
   ],
   "source": [
    "# Ajuste en el conjunto de entrenamiento buscando los mejores parámetros\n",
    "%time grid_lr.fit(X_train, y_train);"
   ]
  },
  {
   "cell_type": "code",
   "execution_count": 7,
   "id": "37ad9196-4b4c-4e7c-abd2-c33ac3a144fb",
   "metadata": {},
   "outputs": [
    {
     "name": "stdout",
     "output_type": "stream",
     "text": [
      "Fitting 3 folds for each of 50 candidates, totalling 150 fits\n",
      "CPU times: total: 6.61 s\n",
      "Wall time: 5 s\n"
     ]
    },
    {
     "data": {
      "text/html": [
       "<style>#sk-container-id-2 {color: black;background-color: white;}#sk-container-id-2 pre{padding: 0;}#sk-container-id-2 div.sk-toggleable {background-color: white;}#sk-container-id-2 label.sk-toggleable__label {cursor: pointer;display: block;width: 100%;margin-bottom: 0;padding: 0.3em;box-sizing: border-box;text-align: center;}#sk-container-id-2 label.sk-toggleable__label-arrow:before {content: \"▸\";float: left;margin-right: 0.25em;color: #696969;}#sk-container-id-2 label.sk-toggleable__label-arrow:hover:before {color: black;}#sk-container-id-2 div.sk-estimator:hover label.sk-toggleable__label-arrow:before {color: black;}#sk-container-id-2 div.sk-toggleable__content {max-height: 0;max-width: 0;overflow: hidden;text-align: left;background-color: #f0f8ff;}#sk-container-id-2 div.sk-toggleable__content pre {margin: 0.2em;color: black;border-radius: 0.25em;background-color: #f0f8ff;}#sk-container-id-2 input.sk-toggleable__control:checked~div.sk-toggleable__content {max-height: 200px;max-width: 100%;overflow: auto;}#sk-container-id-2 input.sk-toggleable__control:checked~label.sk-toggleable__label-arrow:before {content: \"▾\";}#sk-container-id-2 div.sk-estimator input.sk-toggleable__control:checked~label.sk-toggleable__label {background-color: #d4ebff;}#sk-container-id-2 div.sk-label input.sk-toggleable__control:checked~label.sk-toggleable__label {background-color: #d4ebff;}#sk-container-id-2 input.sk-hidden--visually {border: 0;clip: rect(1px 1px 1px 1px);clip: rect(1px, 1px, 1px, 1px);height: 1px;margin: -1px;overflow: hidden;padding: 0;position: absolute;width: 1px;}#sk-container-id-2 div.sk-estimator {font-family: monospace;background-color: #f0f8ff;border: 1px dotted black;border-radius: 0.25em;box-sizing: border-box;margin-bottom: 0.5em;}#sk-container-id-2 div.sk-estimator:hover {background-color: #d4ebff;}#sk-container-id-2 div.sk-parallel-item::after {content: \"\";width: 100%;border-bottom: 1px solid gray;flex-grow: 1;}#sk-container-id-2 div.sk-label:hover label.sk-toggleable__label {background-color: #d4ebff;}#sk-container-id-2 div.sk-serial::before {content: \"\";position: absolute;border-left: 1px solid gray;box-sizing: border-box;top: 0;bottom: 0;left: 50%;z-index: 0;}#sk-container-id-2 div.sk-serial {display: flex;flex-direction: column;align-items: center;background-color: white;padding-right: 0.2em;padding-left: 0.2em;position: relative;}#sk-container-id-2 div.sk-item {position: relative;z-index: 1;}#sk-container-id-2 div.sk-parallel {display: flex;align-items: stretch;justify-content: center;background-color: white;position: relative;}#sk-container-id-2 div.sk-item::before, #sk-container-id-2 div.sk-parallel-item::before {content: \"\";position: absolute;border-left: 1px solid gray;box-sizing: border-box;top: 0;bottom: 0;left: 50%;z-index: -1;}#sk-container-id-2 div.sk-parallel-item {display: flex;flex-direction: column;z-index: 1;position: relative;background-color: white;}#sk-container-id-2 div.sk-parallel-item:first-child::after {align-self: flex-end;width: 50%;}#sk-container-id-2 div.sk-parallel-item:last-child::after {align-self: flex-start;width: 50%;}#sk-container-id-2 div.sk-parallel-item:only-child::after {width: 0;}#sk-container-id-2 div.sk-dashed-wrapped {border: 1px dashed gray;margin: 0 0.4em 0.5em 0.4em;box-sizing: border-box;padding-bottom: 0.4em;background-color: white;}#sk-container-id-2 div.sk-label label {font-family: monospace;font-weight: bold;display: inline-block;line-height: 1.2em;}#sk-container-id-2 div.sk-label-container {text-align: center;}#sk-container-id-2 div.sk-container {/* jupyter's `normalize.less` sets `[hidden] { display: none; }` but bootstrap.min.css set `[hidden] { display: none !important; }` so we also need the `!important` here to be able to override the default hidden behavior on the sphinx rendered scikit-learn.org. See: https://github.com/scikit-learn/scikit-learn/issues/21755 */display: inline-block !important;position: relative;}#sk-container-id-2 div.sk-text-repr-fallback {display: none;}</style><div id=\"sk-container-id-2\" class=\"sk-top-container\"><div class=\"sk-text-repr-fallback\"><pre>GridSearchCV(cv=KFold(n_splits=3, random_state=72018, shuffle=True),\n",
       "             estimator=Pipeline(steps=[(&#x27;scaler&#x27;, StandardScaler()),\n",
       "                                       (&#x27;polynomial_features&#x27;,\n",
       "                                        PolynomialFeatures(include_bias=False)),\n",
       "                                       (&#x27;Ridge&#x27;, Ridge())]),\n",
       "             param_grid={&#x27;Ridge__alpha&#x27;: array([1.00000000e-03, 4.64158883e-03, 2.15443469e-02, 1.00000000e-01,\n",
       "       4.64158883e-01, 2.15443469e+00, 1.00000000e+01, 4.64158883e+01,\n",
       "       2.15443469e+02, 1.00000000e+03]),\n",
       "                         &#x27;polynomial_features__degree&#x27;: [1, 2, 3, 4, 5]},\n",
       "             verbose=1)</pre><b>In a Jupyter environment, please rerun this cell to show the HTML representation or trust the notebook. <br />On GitHub, the HTML representation is unable to render, please try loading this page with nbviewer.org.</b></div><div class=\"sk-container\" hidden><div class=\"sk-item sk-dashed-wrapped\"><div class=\"sk-label-container\"><div class=\"sk-label sk-toggleable\"><input class=\"sk-toggleable__control sk-hidden--visually\" id=\"sk-estimator-id-6\" type=\"checkbox\" ><label for=\"sk-estimator-id-6\" class=\"sk-toggleable__label sk-toggleable__label-arrow\">GridSearchCV</label><div class=\"sk-toggleable__content\"><pre>GridSearchCV(cv=KFold(n_splits=3, random_state=72018, shuffle=True),\n",
       "             estimator=Pipeline(steps=[(&#x27;scaler&#x27;, StandardScaler()),\n",
       "                                       (&#x27;polynomial_features&#x27;,\n",
       "                                        PolynomialFeatures(include_bias=False)),\n",
       "                                       (&#x27;Ridge&#x27;, Ridge())]),\n",
       "             param_grid={&#x27;Ridge__alpha&#x27;: array([1.00000000e-03, 4.64158883e-03, 2.15443469e-02, 1.00000000e-01,\n",
       "       4.64158883e-01, 2.15443469e+00, 1.00000000e+01, 4.64158883e+01,\n",
       "       2.15443469e+02, 1.00000000e+03]),\n",
       "                         &#x27;polynomial_features__degree&#x27;: [1, 2, 3, 4, 5]},\n",
       "             verbose=1)</pre></div></div></div><div class=\"sk-parallel\"><div class=\"sk-parallel-item\"><div class=\"sk-item\"><div class=\"sk-label-container\"><div class=\"sk-label sk-toggleable\"><input class=\"sk-toggleable__control sk-hidden--visually\" id=\"sk-estimator-id-7\" type=\"checkbox\" ><label for=\"sk-estimator-id-7\" class=\"sk-toggleable__label sk-toggleable__label-arrow\">estimator: Pipeline</label><div class=\"sk-toggleable__content\"><pre>Pipeline(steps=[(&#x27;scaler&#x27;, StandardScaler()),\n",
       "                (&#x27;polynomial_features&#x27;, PolynomialFeatures(include_bias=False)),\n",
       "                (&#x27;Ridge&#x27;, Ridge())])</pre></div></div></div><div class=\"sk-serial\"><div class=\"sk-item\"><div class=\"sk-serial\"><div class=\"sk-item\"><div class=\"sk-estimator sk-toggleable\"><input class=\"sk-toggleable__control sk-hidden--visually\" id=\"sk-estimator-id-8\" type=\"checkbox\" ><label for=\"sk-estimator-id-8\" class=\"sk-toggleable__label sk-toggleable__label-arrow\">StandardScaler</label><div class=\"sk-toggleable__content\"><pre>StandardScaler()</pre></div></div></div><div class=\"sk-item\"><div class=\"sk-estimator sk-toggleable\"><input class=\"sk-toggleable__control sk-hidden--visually\" id=\"sk-estimator-id-9\" type=\"checkbox\" ><label for=\"sk-estimator-id-9\" class=\"sk-toggleable__label sk-toggleable__label-arrow\">PolynomialFeatures</label><div class=\"sk-toggleable__content\"><pre>PolynomialFeatures(include_bias=False)</pre></div></div></div><div class=\"sk-item\"><div class=\"sk-estimator sk-toggleable\"><input class=\"sk-toggleable__control sk-hidden--visually\" id=\"sk-estimator-id-10\" type=\"checkbox\" ><label for=\"sk-estimator-id-10\" class=\"sk-toggleable__label sk-toggleable__label-arrow\">Ridge</label><div class=\"sk-toggleable__content\"><pre>Ridge()</pre></div></div></div></div></div></div></div></div></div></div></div></div>"
      ],
      "text/plain": [
       "GridSearchCV(cv=KFold(n_splits=3, random_state=72018, shuffle=True),\n",
       "             estimator=Pipeline(steps=[('scaler', StandardScaler()),\n",
       "                                       ('polynomial_features',\n",
       "                                        PolynomialFeatures(include_bias=False)),\n",
       "                                       ('Ridge', Ridge())]),\n",
       "             param_grid={'Ridge__alpha': array([1.00000000e-03, 4.64158883e-03, 2.15443469e-02, 1.00000000e-01,\n",
       "       4.64158883e-01, 2.15443469e+00, 1.00000000e+01, 4.64158883e+01,\n",
       "       2.15443469e+02, 1.00000000e+03]),\n",
       "                         'polynomial_features__degree': [1, 2, 3, 4, 5]},\n",
       "             verbose=1)"
      ]
     },
     "execution_count": 7,
     "metadata": {},
     "output_type": "execute_result"
    }
   ],
   "source": [
    "%time grid_L2.fit(X_train, y_train);"
   ]
  },
  {
   "cell_type": "code",
   "execution_count": 8,
   "id": "2ecd6891-f8df-4311-b2be-1d18e6adaf22",
   "metadata": {},
   "outputs": [
    {
     "name": "stdout",
     "output_type": "stream",
     "text": [
      "Los mejores parámetros para la regresión lineal:\n",
      "{'polynomial_features__degree': 1}\n",
      "Y para la regresión Ridge:\n",
      "{'Ridge__alpha': 46.41588833612773, 'polynomial_features__degree': 2}\n",
      "R2 para la regresión lineal:\n",
      "0.5832942094971796\n",
      "Y para la regresión Ridge:\n",
      "0.7987401243173189\n"
     ]
    }
   ],
   "source": [
    "# Predicción\n",
    "y_pred_lr = grid_lr.predict(X_test)\n",
    "y_pred_L2 = grid_L2.predict(X_test)\n",
    "# Se calcula el R2 del ajuste\n",
    "r2_lr = r2_score(y_pred_lr,y_test)\n",
    "r2_L2 = r2_score(y_pred_L2,y_test)\n",
    "#Se imprimen los resultados\n",
    "print(\"Los mejores parámetros para la regresión lineal:\\n{}\\nY para la regresión Ridge:\\n{}\".format(grid_lr.best_params_,grid_L2.best_params_))\n",
    "print(\"R2 para la regresión lineal:\\n{}\\nY para la regresión Ridge:\\n{}\".format(r2_lr,r2_L2))"
   ]
  },
  {
   "cell_type": "code",
   "execution_count": 9,
   "id": "41c27c06-9b0f-45ba-a271-39149633b746",
   "metadata": {},
   "outputs": [
    {
     "data": {
      "text/plain": [
       "<matplotlib.legend.Legend at 0x1350e6de950>"
      ]
     },
     "execution_count": 9,
     "metadata": {},
     "output_type": "execute_result"
    },
    {
     "data": {
      "image/png": "[encoded data removed]",
      "text/plain": [
       "<Figure size 432x288 with 1 Axes>"
      ]
     },
     "metadata": {},
     "output_type": "display_data"
    }
   ],
   "source": [
    "sns.set_context('talk')\n",
    "sns.set_style('ticks')\n",
    "sns.set_palette('dark')\n",
    "\n",
    "ax = plt.axes()\n",
    "ax.scatter(y_test, y_pred_lr, alpha=.5, c='b', label=('Regresión Lineal sin Regularización'))\n",
    "ax.scatter(y_test, y_pred_L2, alpha=.5, c='r', label=('Regresión Ridge'))\n",
    "\n",
    "ax.set(xlabel='Valor real', \n",
    "       ylabel='Predicciones');\n",
    "ax.legend(bbox_to_anchor=[2, 0.5])"
   ]
  },
  {
   "cell_type": "code",
   "execution_count": 10,
   "id": "851815db-fa4a-47cd-a23c-b9da4d8eb4d7",
   "metadata": {},
   "outputs": [
    {
     "data": {
      "text/plain": [
       "array([-1.16576115,  1.12036442,  0.68239408,  0.2831966 , -2.3213703 ,\n",
       "        2.96011149, -0.30566034, -3.13440301,  2.39753515, -2.15253833,\n",
       "       -1.94362785,  0.65567361, -3.39784996])"
      ]
     },
     "execution_count": 10,
     "metadata": {},
     "output_type": "execute_result"
    }
   ],
   "source": [
    "grid_lr.best_estimator_[2].coef_"
   ]
  },
  {
   "cell_type": "code",
   "execution_count": 11,
   "id": "53a79656-ef43-4e86-a171-de02c4ff3d98",
   "metadata": {},
   "outputs": [
    {
     "data": {
      "text/plain": [
       "array([-1.55200549e-01,  8.36502244e-02, -1.47596700e-01,  4.88876750e-02,\n",
       "       -6.49320205e-01,  2.87608394e+00, -5.82603659e-01, -8.11276213e-01,\n",
       "        2.61117862e-01, -6.47561793e-01, -7.46555948e-01,  4.05282909e-01,\n",
       "       -2.52367350e+00,  7.29103020e-02,  3.88645527e-02,  2.19684828e-03,\n",
       "        4.99793164e-01, -4.02597142e-01,  1.96661059e-01,  1.64227220e-01,\n",
       "        2.22090702e-01, -4.17778222e-01,  1.75301630e-02, -5.22765126e-03,\n",
       "       -2.57341860e-02, -3.44140043e-02,  2.39406801e-01, -2.36098149e-02,\n",
       "        2.79765567e-01,  7.99250551e-02,  6.19973871e-02,  9.52130831e-02,\n",
       "       -9.12130009e-02, -1.53438024e-01,  8.95510387e-02,  5.61776169e-02,\n",
       "        5.31008267e-02,  8.61291842e-02,  3.77011778e-01,  7.31806686e-02,\n",
       "        2.65709111e-01,  3.12808955e-01,  6.55482705e-01,  3.02792198e-01,\n",
       "        7.49067470e-02,  3.96894985e-02, -2.88384303e-01,  6.85049113e-02,\n",
       "       -6.03688066e-01,  1.72572736e-01, -4.88086700e-01, -4.89648958e-01,\n",
       "        3.45887581e-01, -3.49043482e-02,  1.76244637e-02,  3.33441008e-01,\n",
       "        1.38252714e-01,  4.23071197e-02, -1.38570841e-01, -2.68689461e-01,\n",
       "       -6.71277711e-01, -1.42514563e-01,  5.66040420e-01, -6.50094134e-01,\n",
       "       -1.74819965e-01, -1.96292514e-01, -2.11562246e-01, -2.76622447e-02,\n",
       "        3.35177495e-01, -4.84793040e-01, -1.61013816e-01, -6.01143269e-01,\n",
       "       -5.19301603e-01, -9.04715652e-01, -5.51147745e-02, -1.00922808e+00,\n",
       "        1.21071649e-01, -7.15988044e-02,  6.07298900e-01,  5.78292474e-01,\n",
       "       -1.67772486e-01, -3.84233109e-01, -6.64272599e-01,  3.80921548e-01,\n",
       "        9.94617864e-02,  2.11603142e-01,  1.28936263e-01, -1.66586017e-01,\n",
       "        6.11943956e-01, -1.87845518e-01,  4.99176190e-01,  4.13337959e-01,\n",
       "       -1.19374522e-01, -6.24372058e-01,  1.27479702e-01,  6.30794769e-01,\n",
       "       -2.09912430e-01, -6.66139711e-01, -1.31977261e-01, -1.13469579e-01,\n",
       "        1.12593806e-01, -4.18419009e-01, -6.18437785e-01,  4.07204127e-01])"
      ]
     },
     "execution_count": 11,
     "metadata": {},
     "output_type": "execute_result"
    }
   ],
   "source": [
    "grid_L2.best_estimator_[2].coef_"
   ]
  },
  {
   "cell_type": "markdown",
   "id": "173fdfc0-b8b6-42f5-8174-3b43d8b0917c",
   "metadata": {},
   "source": [
    "## Regresión Logística: Primer ejemplo"
   ]
  },
  {
   "cell_type": "markdown",
   "id": "84d98c99-7a21-4dc2-ad0b-9fac58f3da9e",
   "metadata": {},
   "source": [
    "Usaremos la base de datos de reconocimiento de actividad humana [Human Activity Recognition with Smartphones](https://archive.ics.uci.edu/ml/datasets/Human+Activity+Recognition+Using+Smartphones?utm_medium=Exinfluencer&utm_source=Exinfluencer&utm_content=000026UJ&utm_term=10006555&utm_id=NA-SkillsNetwork-Channel-SkillsNetworkCoursesIBMML241ENSkillsNetwork31576874-2022-01-01) con teléfonos inteligentes, que se creó a partir de las grabaciones de los participantes del estudio que llevaban un teléfono inteligente con un sensor de inercia incorporado mientras realizaban actividades de la vida diaria (ADL). El objetivo es clasificar las actividades realizadas por los participantes en una de las seis categorías siguientes: caminar, subir escaleras, bajar escaleras, sentarse, pararse y acostarse.\n",
    "\n",
    "La siguiente información se proporciona para cada registro en el conjunto de datos:\n",
    "\n",
    "* Aceleración triaxial del acelerómetro (aceleración total) y la aceleración corporal estimada\n",
    "* Velocidad angular triaxial del giroscopio\n",
    "* Un vector de 561 características con variables de dominio de tiempo y frecuencia\n",
    "* La etiqueta de actividad"
   ]
  },
  {
   "cell_type": "code",
   "execution_count": 12,
   "id": "f340fdc4-22c2-44e3-91d5-1d565aa5993f",
   "metadata": {},
   "outputs": [
    {
     "name": "stdout",
     "output_type": "stream",
     "text": [
      "CPU times: total: 1.86 s\n",
      "Wall time: 25.5 s\n"
     ]
    }
   ],
   "source": [
    "%time data = pd.read_csv(\"https://cf-courses-data.s3.us.cloud-object-storage.appdomain.cloud/IBM-ML241EN-SkillsNetwork/labs/datasets/Human_Activity_Recognition_Using_Smartphones_Data.csv\", sep=',')"
   ]
  },
  {
   "cell_type": "code",
   "execution_count": 13,
   "id": "676ea820-e5d0-470e-b827-265eab13e405",
   "metadata": {},
   "outputs": [
    {
     "data": {
      "text/plain": [
       "(10299, 562)"
      ]
     },
     "execution_count": 13,
     "metadata": {},
     "output_type": "execute_result"
    }
   ],
   "source": [
    "data.shape"
   ]
  },
  {
   "cell_type": "code",
   "execution_count": 14,
   "id": "8a146c33-791d-465d-8cf1-0ed252490b83",
   "metadata": {},
   "outputs": [
    {
     "data": {
      "text/plain": [
       "5788038"
      ]
     },
     "execution_count": 14,
     "metadata": {},
     "output_type": "execute_result"
    }
   ],
   "source": [
    "data.shape[0]*data.shape[1]"
   ]
  },
  {
   "cell_type": "code",
   "execution_count": 15,
   "id": "8e9ba143-3b96-42aa-8832-756e0c52699a",
   "metadata": {},
   "outputs": [
    {
     "data": {
      "text/html": [
       "<div>\n",
       "<style scoped>\n",
       "    .dataframe tbody tr th:only-of-type {\n",
       "        vertical-align: middle;\n",
       "    }\n",
       "\n",
       "    .dataframe tbody tr th {\n",
       "        vertical-align: top;\n",
       "    }\n",
       "\n",
       "    .dataframe thead th {\n",
       "        text-align: right;\n",
       "    }\n",
       "</style>\n",
       "<table border=\"1\" class=\"dataframe\">\n",
       "  <thead>\n",
       "    <tr style=\"text-align: right;\">\n",
       "      <th></th>\n",
       "      <th>tBodyAcc-mean()-X</th>\n",
       "      <th>tBodyAcc-mean()-Y</th>\n",
       "      <th>tBodyAcc-mean()-Z</th>\n",
       "      <th>tBodyAcc-std()-X</th>\n",
       "      <th>tBodyAcc-std()-Y</th>\n",
       "      <th>tBodyAcc-std()-Z</th>\n",
       "      <th>tBodyAcc-mad()-X</th>\n",
       "      <th>tBodyAcc-mad()-Y</th>\n",
       "      <th>tBodyAcc-mad()-Z</th>\n",
       "      <th>tBodyAcc-max()-X</th>\n",
       "      <th>...</th>\n",
       "      <th>fBodyBodyGyroJerkMag-meanFreq()</th>\n",
       "      <th>fBodyBodyGyroJerkMag-skewness()</th>\n",
       "      <th>fBodyBodyGyroJerkMag-kurtosis()</th>\n",
       "      <th>angle(tBodyAccMean,gravity)</th>\n",
       "      <th>angle(tBodyAccJerkMean),gravityMean)</th>\n",
       "      <th>angle(tBodyGyroMean,gravityMean)</th>\n",
       "      <th>angle(tBodyGyroJerkMean,gravityMean)</th>\n",
       "      <th>angle(X,gravityMean)</th>\n",
       "      <th>angle(Y,gravityMean)</th>\n",
       "      <th>angle(Z,gravityMean)</th>\n",
       "    </tr>\n",
       "  </thead>\n",
       "  <tbody>\n",
       "    <tr>\n",
       "      <th>count</th>\n",
       "      <td>10299.000000</td>\n",
       "      <td>10299.000000</td>\n",
       "      <td>10299.000000</td>\n",
       "      <td>10299.000000</td>\n",
       "      <td>10299.000000</td>\n",
       "      <td>10299.000000</td>\n",
       "      <td>10299.000000</td>\n",
       "      <td>10299.000000</td>\n",
       "      <td>10299.000000</td>\n",
       "      <td>10299.000000</td>\n",
       "      <td>...</td>\n",
       "      <td>10299.000000</td>\n",
       "      <td>10299.000000</td>\n",
       "      <td>10299.000000</td>\n",
       "      <td>10299.000000</td>\n",
       "      <td>10299.000000</td>\n",
       "      <td>10299.000000</td>\n",
       "      <td>10299.000000</td>\n",
       "      <td>10299.000000</td>\n",
       "      <td>10299.000000</td>\n",
       "      <td>10299.000000</td>\n",
       "    </tr>\n",
       "    <tr>\n",
       "      <th>mean</th>\n",
       "      <td>0.274347</td>\n",
       "      <td>-0.017743</td>\n",
       "      <td>-0.108925</td>\n",
       "      <td>-0.607784</td>\n",
       "      <td>-0.510191</td>\n",
       "      <td>-0.613064</td>\n",
       "      <td>-0.633593</td>\n",
       "      <td>-0.525697</td>\n",
       "      <td>-0.614989</td>\n",
       "      <td>-0.466732</td>\n",
       "      <td>...</td>\n",
       "      <td>0.126708</td>\n",
       "      <td>-0.298592</td>\n",
       "      <td>-0.617700</td>\n",
       "      <td>0.007705</td>\n",
       "      <td>0.002648</td>\n",
       "      <td>0.017683</td>\n",
       "      <td>-0.009219</td>\n",
       "      <td>-0.496522</td>\n",
       "      <td>0.063255</td>\n",
       "      <td>-0.054284</td>\n",
       "    </tr>\n",
       "    <tr>\n",
       "      <th>std</th>\n",
       "      <td>0.067628</td>\n",
       "      <td>0.037128</td>\n",
       "      <td>0.053033</td>\n",
       "      <td>0.438694</td>\n",
       "      <td>0.500240</td>\n",
       "      <td>0.403657</td>\n",
       "      <td>0.413333</td>\n",
       "      <td>0.484201</td>\n",
       "      <td>0.399034</td>\n",
       "      <td>0.538707</td>\n",
       "      <td>...</td>\n",
       "      <td>0.245443</td>\n",
       "      <td>0.320199</td>\n",
       "      <td>0.308796</td>\n",
       "      <td>0.336591</td>\n",
       "      <td>0.447364</td>\n",
       "      <td>0.616188</td>\n",
       "      <td>0.484770</td>\n",
       "      <td>0.511158</td>\n",
       "      <td>0.305468</td>\n",
       "      <td>0.268898</td>\n",
       "    </tr>\n",
       "    <tr>\n",
       "      <th>min</th>\n",
       "      <td>-1.000000</td>\n",
       "      <td>-1.000000</td>\n",
       "      <td>-1.000000</td>\n",
       "      <td>-1.000000</td>\n",
       "      <td>-1.000000</td>\n",
       "      <td>-1.000000</td>\n",
       "      <td>-1.000000</td>\n",
       "      <td>-1.000000</td>\n",
       "      <td>-1.000000</td>\n",
       "      <td>-1.000000</td>\n",
       "      <td>...</td>\n",
       "      <td>-1.000000</td>\n",
       "      <td>-1.000000</td>\n",
       "      <td>-1.000000</td>\n",
       "      <td>-1.000000</td>\n",
       "      <td>-1.000000</td>\n",
       "      <td>-1.000000</td>\n",
       "      <td>-1.000000</td>\n",
       "      <td>-1.000000</td>\n",
       "      <td>-1.000000</td>\n",
       "      <td>-1.000000</td>\n",
       "    </tr>\n",
       "    <tr>\n",
       "      <th>25%</th>\n",
       "      <td>0.262625</td>\n",
       "      <td>-0.024902</td>\n",
       "      <td>-0.121019</td>\n",
       "      <td>-0.992360</td>\n",
       "      <td>-0.976990</td>\n",
       "      <td>-0.979137</td>\n",
       "      <td>-0.993293</td>\n",
       "      <td>-0.977017</td>\n",
       "      <td>-0.979064</td>\n",
       "      <td>-0.935788</td>\n",
       "      <td>...</td>\n",
       "      <td>-0.019481</td>\n",
       "      <td>-0.536174</td>\n",
       "      <td>-0.841847</td>\n",
       "      <td>-0.124694</td>\n",
       "      <td>-0.287031</td>\n",
       "      <td>-0.493108</td>\n",
       "      <td>-0.389041</td>\n",
       "      <td>-0.817288</td>\n",
       "      <td>0.002151</td>\n",
       "      <td>-0.131880</td>\n",
       "    </tr>\n",
       "    <tr>\n",
       "      <th>50%</th>\n",
       "      <td>0.277174</td>\n",
       "      <td>-0.017162</td>\n",
       "      <td>-0.108596</td>\n",
       "      <td>-0.943030</td>\n",
       "      <td>-0.835032</td>\n",
       "      <td>-0.850773</td>\n",
       "      <td>-0.948244</td>\n",
       "      <td>-0.843670</td>\n",
       "      <td>-0.845068</td>\n",
       "      <td>-0.874825</td>\n",
       "      <td>...</td>\n",
       "      <td>0.136245</td>\n",
       "      <td>-0.335160</td>\n",
       "      <td>-0.703402</td>\n",
       "      <td>0.008146</td>\n",
       "      <td>0.007668</td>\n",
       "      <td>0.017192</td>\n",
       "      <td>-0.007186</td>\n",
       "      <td>-0.715631</td>\n",
       "      <td>0.182028</td>\n",
       "      <td>-0.003882</td>\n",
       "    </tr>\n",
       "    <tr>\n",
       "      <th>75%</th>\n",
       "      <td>0.288354</td>\n",
       "      <td>-0.010625</td>\n",
       "      <td>-0.097589</td>\n",
       "      <td>-0.250293</td>\n",
       "      <td>-0.057336</td>\n",
       "      <td>-0.278737</td>\n",
       "      <td>-0.302033</td>\n",
       "      <td>-0.087405</td>\n",
       "      <td>-0.288149</td>\n",
       "      <td>-0.014641</td>\n",
       "      <td>...</td>\n",
       "      <td>0.288960</td>\n",
       "      <td>-0.113167</td>\n",
       "      <td>-0.487981</td>\n",
       "      <td>0.149005</td>\n",
       "      <td>0.291490</td>\n",
       "      <td>0.536137</td>\n",
       "      <td>0.365996</td>\n",
       "      <td>-0.521503</td>\n",
       "      <td>0.250790</td>\n",
       "      <td>0.102970</td>\n",
       "    </tr>\n",
       "    <tr>\n",
       "      <th>max</th>\n",
       "      <td>1.000000</td>\n",
       "      <td>1.000000</td>\n",
       "      <td>1.000000</td>\n",
       "      <td>1.000000</td>\n",
       "      <td>1.000000</td>\n",
       "      <td>1.000000</td>\n",
       "      <td>1.000000</td>\n",
       "      <td>1.000000</td>\n",
       "      <td>1.000000</td>\n",
       "      <td>1.000000</td>\n",
       "      <td>...</td>\n",
       "      <td>1.000000</td>\n",
       "      <td>1.000000</td>\n",
       "      <td>1.000000</td>\n",
       "      <td>1.000000</td>\n",
       "      <td>1.000000</td>\n",
       "      <td>1.000000</td>\n",
       "      <td>1.000000</td>\n",
       "      <td>1.000000</td>\n",
       "      <td>1.000000</td>\n",
       "      <td>1.000000</td>\n",
       "    </tr>\n",
       "  </tbody>\n",
       "</table>\n",
       "<p>8 rows × 561 columns</p>\n",
       "</div>"
      ],
      "text/plain": [
       "       tBodyAcc-mean()-X  tBodyAcc-mean()-Y  tBodyAcc-mean()-Z  \\\n",
       "count       10299.000000       10299.000000       10299.000000   \n",
       "mean            0.274347          -0.017743          -0.108925   \n",
       "std             0.067628           0.037128           0.053033   \n",
       "min            -1.000000          -1.000000          -1.000000   \n",
       "25%             0.262625          -0.024902          -0.121019   \n",
       "50%             0.277174          -0.017162          -0.108596   \n",
       "75%             0.288354          -0.010625          -0.097589   \n",
       "max             1.000000           1.000000           1.000000   \n",
       "\n",
       "       tBodyAcc-std()-X  tBodyAcc-std()-Y  tBodyAcc-std()-Z  tBodyAcc-mad()-X  \\\n",
       "count      10299.000000      10299.000000      10299.000000      10299.000000   \n",
       "mean          -0.607784         -0.510191         -0.613064         -0.633593   \n",
       "std            0.438694          0.500240          0.403657          0.413333   \n",
       "min           -1.000000         -1.000000         -1.000000         -1.000000   \n",
       "25%           -0.992360         -0.976990         -0.979137         -0.993293   \n",
       "50%           -0.943030         -0.835032         -0.850773         -0.948244   \n",
       "75%           -0.250293         -0.057336         -0.278737         -0.302033   \n",
       "max            1.000000          1.000000          1.000000          1.000000   \n",
       "\n",
       "       tBodyAcc-mad()-Y  tBodyAcc-mad()-Z  tBodyAcc-max()-X  ...  \\\n",
       "count      10299.000000      10299.000000      10299.000000  ...   \n",
       "mean          -0.525697         -0.614989         -0.466732  ...   \n",
       "std            0.484201          0.399034          0.538707  ...   \n",
       "min           -1.000000         -1.000000         -1.000000  ...   \n",
       "25%           -0.977017         -0.979064         -0.935788  ...   \n",
       "50%           -0.843670         -0.845068         -0.874825  ...   \n",
       "75%           -0.087405         -0.288149         -0.014641  ...   \n",
       "max            1.000000          1.000000          1.000000  ...   \n",
       "\n",
       "       fBodyBodyGyroJerkMag-meanFreq()  fBodyBodyGyroJerkMag-skewness()  \\\n",
       "count                     10299.000000                     10299.000000   \n",
       "mean                          0.126708                        -0.298592   \n",
       "std                           0.245443                         0.320199   \n",
       "min                          -1.000000                        -1.000000   \n",
       "25%                          -0.019481                        -0.536174   \n",
       "50%                           0.136245                        -0.335160   \n",
       "75%                           0.288960                        -0.113167   \n",
       "max                           1.000000                         1.000000   \n",
       "\n",
       "       fBodyBodyGyroJerkMag-kurtosis()  angle(tBodyAccMean,gravity)  \\\n",
       "count                     10299.000000                 10299.000000   \n",
       "mean                         -0.617700                     0.007705   \n",
       "std                           0.308796                     0.336591   \n",
       "min                          -1.000000                    -1.000000   \n",
       "25%                          -0.841847                    -0.124694   \n",
       "50%                          -0.703402                     0.008146   \n",
       "75%                          -0.487981                     0.149005   \n",
       "max                           1.000000                     1.000000   \n",
       "\n",
       "       angle(tBodyAccJerkMean),gravityMean)  angle(tBodyGyroMean,gravityMean)  \\\n",
       "count                          10299.000000                      10299.000000   \n",
       "mean                               0.002648                          0.017683   \n",
       "std                                0.447364                          0.616188   \n",
       "min                               -1.000000                         -1.000000   \n",
       "25%                               -0.287031                         -0.493108   \n",
       "50%                                0.007668                          0.017192   \n",
       "75%                                0.291490                          0.536137   \n",
       "max                                1.000000                          1.000000   \n",
       "\n",
       "       angle(tBodyGyroJerkMean,gravityMean)  angle(X,gravityMean)  \\\n",
       "count                          10299.000000          10299.000000   \n",
       "mean                              -0.009219             -0.496522   \n",
       "std                                0.484770              0.511158   \n",
       "min                               -1.000000             -1.000000   \n",
       "25%                               -0.389041             -0.817288   \n",
       "50%                               -0.007186             -0.715631   \n",
       "75%                                0.365996             -0.521503   \n",
       "max                                1.000000              1.000000   \n",
       "\n",
       "       angle(Y,gravityMean)  angle(Z,gravityMean)  \n",
       "count          10299.000000          10299.000000  \n",
       "mean               0.063255             -0.054284  \n",
       "std                0.305468              0.268898  \n",
       "min               -1.000000             -1.000000  \n",
       "25%                0.002151             -0.131880  \n",
       "50%                0.182028             -0.003882  \n",
       "75%                0.250790              0.102970  \n",
       "max                1.000000              1.000000  \n",
       "\n",
       "[8 rows x 561 columns]"
      ]
     },
     "execution_count": 15,
     "metadata": {},
     "output_type": "execute_result"
    }
   ],
   "source": [
    "data.describe()"
   ]
  },
  {
   "cell_type": "code",
   "execution_count": 17,
   "id": "a1faf875-9f5b-43cb-b192-d0564cc14e82",
   "metadata": {},
   "outputs": [
    {
     "data": {
      "text/plain": [
       "float64    561\n",
       "object       1\n",
       "dtype: int64"
      ]
     },
     "execution_count": 17,
     "metadata": {},
     "output_type": "execute_result"
    }
   ],
   "source": [
    "data.dtypes.value_counts()"
   ]
  },
  {
   "cell_type": "code",
   "execution_count": 18,
   "id": "d76edf1e-9eb8-45f6-b1e3-842034cb0d91",
   "metadata": {},
   "outputs": [
    {
     "data": {
      "text/plain": [
       "LAYING                0.188756\n",
       "STANDING              0.185067\n",
       "SITTING               0.172541\n",
       "WALKING               0.167201\n",
       "WALKING_UPSTAIRS      0.149917\n",
       "WALKING_DOWNSTAIRS    0.136518\n",
       "Name: Activity, dtype: float64"
      ]
     },
     "execution_count": 18,
     "metadata": {},
     "output_type": "execute_result"
    },
    {
     "data": {
      "image/png": "[encoded data removed]",
      "text/plain": [
       "<Figure size 432x288 with 1 Axes>"
      ]
     },
     "metadata": {},
     "output_type": "display_data"
    }
   ],
   "source": [
    "data.Activity.value_counts().plot.bar(color=['green', 'red', 'blue', 'c', 'm', 'k'])\n",
    "data.Activity.value_counts(normalize=True)"
   ]
  },
  {
   "cell_type": "code",
   "execution_count": 19,
   "id": "b9efbf45-5b21-4738-acb4-7b3ef42e5b88",
   "metadata": {},
   "outputs": [
    {
     "data": {
      "text/plain": [
       "5766    0\n",
       "2988    3\n",
       "3418    4\n",
       "3849    1\n",
       "6348    0\n",
       "5500    2\n",
       "6878    0\n",
       "4334    4\n",
       "1804    1\n",
       "5854    4\n",
       "Name: Activity, dtype: int32"
      ]
     },
     "execution_count": 19,
     "metadata": {},
     "output_type": "execute_result"
    }
   ],
   "source": [
    "le = LabelEncoder()\n",
    "data['Activity'] = le.fit_transform(data.Activity)\n",
    "data['Activity'].sample(10)"
   ]
  },
  {
   "cell_type": "code",
   "execution_count": 20,
   "id": "89ffbc79-e081-4a78-85f7-aa1e4b072106",
   "metadata": {},
   "outputs": [],
   "source": [
    "feature_cols = data.columns[:-1]\n",
    "correlacion = data[feature_cols].corr()"
   ]
  },
  {
   "cell_type": "code",
   "execution_count": 21,
   "id": "91c05d5a-a9ec-4459-9b67-29f6b6ae1ae4",
   "metadata": {},
   "outputs": [
    {
     "data": {
      "text/html": [
       "<div>\n",
       "<style scoped>\n",
       "    .dataframe tbody tr th:only-of-type {\n",
       "        vertical-align: middle;\n",
       "    }\n",
       "\n",
       "    .dataframe tbody tr th {\n",
       "        vertical-align: top;\n",
       "    }\n",
       "\n",
       "    .dataframe thead th {\n",
       "        text-align: right;\n",
       "    }\n",
       "</style>\n",
       "<table border=\"1\" class=\"dataframe\">\n",
       "  <thead>\n",
       "    <tr style=\"text-align: right;\">\n",
       "      <th></th>\n",
       "      <th>tBodyAcc-mean()-X</th>\n",
       "      <th>tBodyAcc-mean()-Y</th>\n",
       "      <th>tBodyAcc-mean()-Z</th>\n",
       "      <th>tBodyAcc-std()-X</th>\n",
       "      <th>tBodyAcc-std()-Y</th>\n",
       "      <th>tBodyAcc-std()-Z</th>\n",
       "      <th>tBodyAcc-mad()-X</th>\n",
       "      <th>tBodyAcc-mad()-Y</th>\n",
       "      <th>tBodyAcc-mad()-Z</th>\n",
       "      <th>tBodyAcc-max()-X</th>\n",
       "      <th>...</th>\n",
       "      <th>fBodyBodyGyroJerkMag-meanFreq()</th>\n",
       "      <th>fBodyBodyGyroJerkMag-skewness()</th>\n",
       "      <th>fBodyBodyGyroJerkMag-kurtosis()</th>\n",
       "      <th>angle(tBodyAccMean,gravity)</th>\n",
       "      <th>angle(tBodyAccJerkMean),gravityMean)</th>\n",
       "      <th>angle(tBodyGyroMean,gravityMean)</th>\n",
       "      <th>angle(tBodyGyroJerkMean,gravityMean)</th>\n",
       "      <th>angle(X,gravityMean)</th>\n",
       "      <th>angle(Y,gravityMean)</th>\n",
       "      <th>angle(Z,gravityMean)</th>\n",
       "    </tr>\n",
       "  </thead>\n",
       "  <tbody>\n",
       "    <tr>\n",
       "      <th>tBodyAcc-mean()-X</th>\n",
       "      <td>1.000000</td>\n",
       "      <td>0.128037</td>\n",
       "      <td>-0.230302</td>\n",
       "      <td>0.004590</td>\n",
       "      <td>-0.016785</td>\n",
       "      <td>-0.036071</td>\n",
       "      <td>0.010303</td>\n",
       "      <td>-0.017488</td>\n",
       "      <td>-0.038805</td>\n",
       "      <td>0.046943</td>\n",
       "      <td>...</td>\n",
       "      <td>0.029901</td>\n",
       "      <td>-0.006179</td>\n",
       "      <td>-0.002255</td>\n",
       "      <td>-0.552989</td>\n",
       "      <td>0.015754</td>\n",
       "      <td>0.036047</td>\n",
       "      <td>0.034296</td>\n",
       "      <td>-0.041021</td>\n",
       "      <td>0.034053</td>\n",
       "      <td>0.030656</td>\n",
       "    </tr>\n",
       "    <tr>\n",
       "      <th>tBodyAcc-mean()-Y</th>\n",
       "      <td>0.128037</td>\n",
       "      <td>1.000000</td>\n",
       "      <td>-0.029882</td>\n",
       "      <td>-0.046352</td>\n",
       "      <td>-0.046996</td>\n",
       "      <td>-0.054153</td>\n",
       "      <td>-0.045247</td>\n",
       "      <td>-0.047673</td>\n",
       "      <td>-0.055524</td>\n",
       "      <td>-0.039445</td>\n",
       "      <td>...</td>\n",
       "      <td>-0.014402</td>\n",
       "      <td>-0.000649</td>\n",
       "      <td>-0.002842</td>\n",
       "      <td>0.077750</td>\n",
       "      <td>-0.027567</td>\n",
       "      <td>0.013241</td>\n",
       "      <td>0.077627</td>\n",
       "      <td>-0.007513</td>\n",
       "      <td>-0.005616</td>\n",
       "      <td>-0.016233</td>\n",
       "    </tr>\n",
       "    <tr>\n",
       "      <th>tBodyAcc-mean()-Z</th>\n",
       "      <td>-0.230302</td>\n",
       "      <td>-0.029882</td>\n",
       "      <td>1.000000</td>\n",
       "      <td>-0.024185</td>\n",
       "      <td>-0.023745</td>\n",
       "      <td>-0.015632</td>\n",
       "      <td>-0.022872</td>\n",
       "      <td>-0.022966</td>\n",
       "      <td>-0.009577</td>\n",
       "      <td>-0.040218</td>\n",
       "      <td>...</td>\n",
       "      <td>-0.015358</td>\n",
       "      <td>0.023050</td>\n",
       "      <td>0.023122</td>\n",
       "      <td>0.055020</td>\n",
       "      <td>-0.042083</td>\n",
       "      <td>-0.066233</td>\n",
       "      <td>-0.030748</td>\n",
       "      <td>0.003215</td>\n",
       "      <td>-0.012986</td>\n",
       "      <td>-0.028406</td>\n",
       "    </tr>\n",
       "    <tr>\n",
       "      <th>tBodyAcc-std()-X</th>\n",
       "      <td>0.004590</td>\n",
       "      <td>-0.046352</td>\n",
       "      <td>-0.024185</td>\n",
       "      <td>1.000000</td>\n",
       "      <td>0.922525</td>\n",
       "      <td>0.861910</td>\n",
       "      <td>0.998662</td>\n",
       "      <td>0.916087</td>\n",
       "      <td>0.856497</td>\n",
       "      <td>0.981226</td>\n",
       "      <td>...</td>\n",
       "      <td>-0.068807</td>\n",
       "      <td>0.165552</td>\n",
       "      <td>0.135171</td>\n",
       "      <td>-0.034334</td>\n",
       "      <td>-0.017096</td>\n",
       "      <td>0.027464</td>\n",
       "      <td>-0.027123</td>\n",
       "      <td>-0.374104</td>\n",
       "      <td>0.449425</td>\n",
       "      <td>0.393063</td>\n",
       "    </tr>\n",
       "    <tr>\n",
       "      <th>tBodyAcc-std()-Y</th>\n",
       "      <td>-0.016785</td>\n",
       "      <td>-0.046996</td>\n",
       "      <td>-0.023745</td>\n",
       "      <td>0.922525</td>\n",
       "      <td>1.000000</td>\n",
       "      <td>0.888259</td>\n",
       "      <td>0.918561</td>\n",
       "      <td>0.997510</td>\n",
       "      <td>0.887052</td>\n",
       "      <td>0.911137</td>\n",
       "      <td>...</td>\n",
       "      <td>-0.109941</td>\n",
       "      <td>0.220279</td>\n",
       "      <td>0.191164</td>\n",
       "      <td>-0.020806</td>\n",
       "      <td>-0.006605</td>\n",
       "      <td>0.001902</td>\n",
       "      <td>-0.015784</td>\n",
       "      <td>-0.381391</td>\n",
       "      <td>0.506106</td>\n",
       "      <td>0.425511</td>\n",
       "    </tr>\n",
       "    <tr>\n",
       "      <th>...</th>\n",
       "      <td>...</td>\n",
       "      <td>...</td>\n",
       "      <td>...</td>\n",
       "      <td>...</td>\n",
       "      <td>...</td>\n",
       "      <td>...</td>\n",
       "      <td>...</td>\n",
       "      <td>...</td>\n",
       "      <td>...</td>\n",
       "      <td>...</td>\n",
       "      <td>...</td>\n",
       "      <td>...</td>\n",
       "      <td>...</td>\n",
       "      <td>...</td>\n",
       "      <td>...</td>\n",
       "      <td>...</td>\n",
       "      <td>...</td>\n",
       "      <td>...</td>\n",
       "      <td>...</td>\n",
       "      <td>...</td>\n",
       "      <td>...</td>\n",
       "    </tr>\n",
       "    <tr>\n",
       "      <th>angle(tBodyGyroMean,gravityMean)</th>\n",
       "      <td>0.036047</td>\n",
       "      <td>0.013241</td>\n",
       "      <td>-0.066233</td>\n",
       "      <td>0.027464</td>\n",
       "      <td>0.001902</td>\n",
       "      <td>-0.004984</td>\n",
       "      <td>0.027729</td>\n",
       "      <td>-0.002924</td>\n",
       "      <td>-0.009873</td>\n",
       "      <td>0.033533</td>\n",
       "      <td>...</td>\n",
       "      <td>-0.029273</td>\n",
       "      <td>0.042123</td>\n",
       "      <td>0.035684</td>\n",
       "      <td>-0.013009</td>\n",
       "      <td>0.010679</td>\n",
       "      <td>1.000000</td>\n",
       "      <td>-0.112454</td>\n",
       "      <td>-0.007095</td>\n",
       "      <td>-0.006444</td>\n",
       "      <td>-0.015380</td>\n",
       "    </tr>\n",
       "    <tr>\n",
       "      <th>angle(tBodyGyroJerkMean,gravityMean)</th>\n",
       "      <td>0.034296</td>\n",
       "      <td>0.077627</td>\n",
       "      <td>-0.030748</td>\n",
       "      <td>-0.027123</td>\n",
       "      <td>-0.015784</td>\n",
       "      <td>-0.012196</td>\n",
       "      <td>-0.027097</td>\n",
       "      <td>-0.013411</td>\n",
       "      <td>-0.012800</td>\n",
       "      <td>-0.030908</td>\n",
       "      <td>...</td>\n",
       "      <td>-0.002618</td>\n",
       "      <td>-0.013065</td>\n",
       "      <td>-0.011829</td>\n",
       "      <td>-0.027478</td>\n",
       "      <td>0.023605</td>\n",
       "      <td>-0.112454</td>\n",
       "      <td>1.000000</td>\n",
       "      <td>0.024822</td>\n",
       "      <td>-0.004582</td>\n",
       "      <td>-0.012549</td>\n",
       "    </tr>\n",
       "    <tr>\n",
       "      <th>angle(X,gravityMean)</th>\n",
       "      <td>-0.041021</td>\n",
       "      <td>-0.007513</td>\n",
       "      <td>0.003215</td>\n",
       "      <td>-0.374104</td>\n",
       "      <td>-0.381391</td>\n",
       "      <td>-0.353271</td>\n",
       "      <td>-0.371168</td>\n",
       "      <td>-0.378013</td>\n",
       "      <td>-0.355836</td>\n",
       "      <td>-0.384244</td>\n",
       "      <td>...</td>\n",
       "      <td>0.087571</td>\n",
       "      <td>-0.085226</td>\n",
       "      <td>-0.081971</td>\n",
       "      <td>0.008050</td>\n",
       "      <td>0.017534</td>\n",
       "      <td>-0.007095</td>\n",
       "      <td>0.024822</td>\n",
       "      <td>1.000000</td>\n",
       "      <td>-0.748249</td>\n",
       "      <td>-0.635231</td>\n",
       "    </tr>\n",
       "    <tr>\n",
       "      <th>angle(Y,gravityMean)</th>\n",
       "      <td>0.034053</td>\n",
       "      <td>-0.005616</td>\n",
       "      <td>-0.012986</td>\n",
       "      <td>0.449425</td>\n",
       "      <td>0.506106</td>\n",
       "      <td>0.459092</td>\n",
       "      <td>0.444926</td>\n",
       "      <td>0.507947</td>\n",
       "      <td>0.460345</td>\n",
       "      <td>0.458832</td>\n",
       "      <td>...</td>\n",
       "      <td>-0.105752</td>\n",
       "      <td>0.087671</td>\n",
       "      <td>0.078010</td>\n",
       "      <td>0.003082</td>\n",
       "      <td>-0.007256</td>\n",
       "      <td>-0.006444</td>\n",
       "      <td>-0.004582</td>\n",
       "      <td>-0.748249</td>\n",
       "      <td>1.000000</td>\n",
       "      <td>0.545614</td>\n",
       "    </tr>\n",
       "    <tr>\n",
       "      <th>angle(Z,gravityMean)</th>\n",
       "      <td>0.030656</td>\n",
       "      <td>-0.016233</td>\n",
       "      <td>-0.028406</td>\n",
       "      <td>0.393063</td>\n",
       "      <td>0.425511</td>\n",
       "      <td>0.483424</td>\n",
       "      <td>0.389481</td>\n",
       "      <td>0.424479</td>\n",
       "      <td>0.480032</td>\n",
       "      <td>0.402873</td>\n",
       "      <td>...</td>\n",
       "      <td>-0.061105</td>\n",
       "      <td>0.058759</td>\n",
       "      <td>0.054008</td>\n",
       "      <td>-0.003242</td>\n",
       "      <td>-0.013130</td>\n",
       "      <td>-0.015380</td>\n",
       "      <td>-0.012549</td>\n",
       "      <td>-0.635231</td>\n",
       "      <td>0.545614</td>\n",
       "      <td>1.000000</td>\n",
       "    </tr>\n",
       "  </tbody>\n",
       "</table>\n",
       "<p>561 rows × 561 columns</p>\n",
       "</div>"
      ],
      "text/plain": [
       "                                      tBodyAcc-mean()-X  tBodyAcc-mean()-Y  \\\n",
       "tBodyAcc-mean()-X                              1.000000           0.128037   \n",
       "tBodyAcc-mean()-Y                              0.128037           1.000000   \n",
       "tBodyAcc-mean()-Z                             -0.230302          -0.029882   \n",
       "tBodyAcc-std()-X                               0.004590          -0.046352   \n",
       "tBodyAcc-std()-Y                              -0.016785          -0.046996   \n",
       "...                                                 ...                ...   \n",
       "angle(tBodyGyroMean,gravityMean)               0.036047           0.013241   \n",
       "angle(tBodyGyroJerkMean,gravityMean)           0.034296           0.077627   \n",
       "angle(X,gravityMean)                          -0.041021          -0.007513   \n",
       "angle(Y,gravityMean)                           0.034053          -0.005616   \n",
       "angle(Z,gravityMean)                           0.030656          -0.016233   \n",
       "\n",
       "                                      tBodyAcc-mean()-Z  tBodyAcc-std()-X  \\\n",
       "tBodyAcc-mean()-X                             -0.230302          0.004590   \n",
       "tBodyAcc-mean()-Y                             -0.029882         -0.046352   \n",
       "tBodyAcc-mean()-Z                              1.000000         -0.024185   \n",
       "tBodyAcc-std()-X                              -0.024185          1.000000   \n",
       "tBodyAcc-std()-Y                              -0.023745          0.922525   \n",
       "...                                                 ...               ...   \n",
       "angle(tBodyGyroMean,gravityMean)              -0.066233          0.027464   \n",
       "angle(tBodyGyroJerkMean,gravityMean)          -0.030748         -0.027123   \n",
       "angle(X,gravityMean)                           0.003215         -0.374104   \n",
       "angle(Y,gravityMean)                          -0.012986          0.449425   \n",
       "angle(Z,gravityMean)                          -0.028406          0.393063   \n",
       "\n",
       "                                      tBodyAcc-std()-Y  tBodyAcc-std()-Z  \\\n",
       "tBodyAcc-mean()-X                            -0.016785         -0.036071   \n",
       "tBodyAcc-mean()-Y                            -0.046996         -0.054153   \n",
       "tBodyAcc-mean()-Z                            -0.023745         -0.015632   \n",
       "tBodyAcc-std()-X                              0.922525          0.861910   \n",
       "tBodyAcc-std()-Y                              1.000000          0.888259   \n",
       "...                                                ...               ...   \n",
       "angle(tBodyGyroMean,gravityMean)              0.001902         -0.004984   \n",
       "angle(tBodyGyroJerkMean,gravityMean)         -0.015784         -0.012196   \n",
       "angle(X,gravityMean)                         -0.381391         -0.353271   \n",
       "angle(Y,gravityMean)                          0.506106          0.459092   \n",
       "angle(Z,gravityMean)                          0.425511          0.483424   \n",
       "\n",
       "                                      tBodyAcc-mad()-X  tBodyAcc-mad()-Y  \\\n",
       "tBodyAcc-mean()-X                             0.010303         -0.017488   \n",
       "tBodyAcc-mean()-Y                            -0.045247         -0.047673   \n",
       "tBodyAcc-mean()-Z                            -0.022872         -0.022966   \n",
       "tBodyAcc-std()-X                              0.998662          0.916087   \n",
       "tBodyAcc-std()-Y                              0.918561          0.997510   \n",
       "...                                                ...               ...   \n",
       "angle(tBodyGyroMean,gravityMean)              0.027729         -0.002924   \n",
       "angle(tBodyGyroJerkMean,gravityMean)         -0.027097         -0.013411   \n",
       "angle(X,gravityMean)                         -0.371168         -0.378013   \n",
       "angle(Y,gravityMean)                          0.444926          0.507947   \n",
       "angle(Z,gravityMean)                          0.389481          0.424479   \n",
       "\n",
       "                                      tBodyAcc-mad()-Z  tBodyAcc-max()-X  ...  \\\n",
       "tBodyAcc-mean()-X                            -0.038805          0.046943  ...   \n",
       "tBodyAcc-mean()-Y                            -0.055524         -0.039445  ...   \n",
       "tBodyAcc-mean()-Z                            -0.009577         -0.040218  ...   \n",
       "tBodyAcc-std()-X                              0.856497          0.981226  ...   \n",
       "tBodyAcc-std()-Y                              0.887052          0.911137  ...   \n",
       "...                                                ...               ...  ...   \n",
       "angle(tBodyGyroMean,gravityMean)             -0.009873          0.033533  ...   \n",
       "angle(tBodyGyroJerkMean,gravityMean)         -0.012800         -0.030908  ...   \n",
       "angle(X,gravityMean)                         -0.355836         -0.384244  ...   \n",
       "angle(Y,gravityMean)                          0.460345          0.458832  ...   \n",
       "angle(Z,gravityMean)                          0.480032          0.402873  ...   \n",
       "\n",
       "                                      fBodyBodyGyroJerkMag-meanFreq()  \\\n",
       "tBodyAcc-mean()-X                                            0.029901   \n",
       "tBodyAcc-mean()-Y                                           -0.014402   \n",
       "tBodyAcc-mean()-Z                                           -0.015358   \n",
       "tBodyAcc-std()-X                                            -0.068807   \n",
       "tBodyAcc-std()-Y                                            -0.109941   \n",
       "...                                                               ...   \n",
       "angle(tBodyGyroMean,gravityMean)                            -0.029273   \n",
       "angle(tBodyGyroJerkMean,gravityMean)                        -0.002618   \n",
       "angle(X,gravityMean)                                         0.087571   \n",
       "angle(Y,gravityMean)                                        -0.105752   \n",
       "angle(Z,gravityMean)                                        -0.061105   \n",
       "\n",
       "                                      fBodyBodyGyroJerkMag-skewness()  \\\n",
       "tBodyAcc-mean()-X                                           -0.006179   \n",
       "tBodyAcc-mean()-Y                                           -0.000649   \n",
       "tBodyAcc-mean()-Z                                            0.023050   \n",
       "tBodyAcc-std()-X                                             0.165552   \n",
       "tBodyAcc-std()-Y                                             0.220279   \n",
       "...                                                               ...   \n",
       "angle(tBodyGyroMean,gravityMean)                             0.042123   \n",
       "angle(tBodyGyroJerkMean,gravityMean)                        -0.013065   \n",
       "angle(X,gravityMean)                                        -0.085226   \n",
       "angle(Y,gravityMean)                                         0.087671   \n",
       "angle(Z,gravityMean)                                         0.058759   \n",
       "\n",
       "                                      fBodyBodyGyroJerkMag-kurtosis()  \\\n",
       "tBodyAcc-mean()-X                                           -0.002255   \n",
       "tBodyAcc-mean()-Y                                           -0.002842   \n",
       "tBodyAcc-mean()-Z                                            0.023122   \n",
       "tBodyAcc-std()-X                                             0.135171   \n",
       "tBodyAcc-std()-Y                                             0.191164   \n",
       "...                                                               ...   \n",
       "angle(tBodyGyroMean,gravityMean)                             0.035684   \n",
       "angle(tBodyGyroJerkMean,gravityMean)                        -0.011829   \n",
       "angle(X,gravityMean)                                        -0.081971   \n",
       "angle(Y,gravityMean)                                         0.078010   \n",
       "angle(Z,gravityMean)                                         0.054008   \n",
       "\n",
       "                                      angle(tBodyAccMean,gravity)  \\\n",
       "tBodyAcc-mean()-X                                       -0.552989   \n",
       "tBodyAcc-mean()-Y                                        0.077750   \n",
       "tBodyAcc-mean()-Z                                        0.055020   \n",
       "tBodyAcc-std()-X                                        -0.034334   \n",
       "tBodyAcc-std()-Y                                        -0.020806   \n",
       "...                                                           ...   \n",
       "angle(tBodyGyroMean,gravityMean)                        -0.013009   \n",
       "angle(tBodyGyroJerkMean,gravityMean)                    -0.027478   \n",
       "angle(X,gravityMean)                                     0.008050   \n",
       "angle(Y,gravityMean)                                     0.003082   \n",
       "angle(Z,gravityMean)                                    -0.003242   \n",
       "\n",
       "                                      angle(tBodyAccJerkMean),gravityMean)  \\\n",
       "tBodyAcc-mean()-X                                                 0.015754   \n",
       "tBodyAcc-mean()-Y                                                -0.027567   \n",
       "tBodyAcc-mean()-Z                                                -0.042083   \n",
       "tBodyAcc-std()-X                                                 -0.017096   \n",
       "tBodyAcc-std()-Y                                                 -0.006605   \n",
       "...                                                                    ...   \n",
       "angle(tBodyGyroMean,gravityMean)                                  0.010679   \n",
       "angle(tBodyGyroJerkMean,gravityMean)                              0.023605   \n",
       "angle(X,gravityMean)                                              0.017534   \n",
       "angle(Y,gravityMean)                                             -0.007256   \n",
       "angle(Z,gravityMean)                                             -0.013130   \n",
       "\n",
       "                                      angle(tBodyGyroMean,gravityMean)  \\\n",
       "tBodyAcc-mean()-X                                             0.036047   \n",
       "tBodyAcc-mean()-Y                                             0.013241   \n",
       "tBodyAcc-mean()-Z                                            -0.066233   \n",
       "tBodyAcc-std()-X                                              0.027464   \n",
       "tBodyAcc-std()-Y                                              0.001902   \n",
       "...                                                                ...   \n",
       "angle(tBodyGyroMean,gravityMean)                              1.000000   \n",
       "angle(tBodyGyroJerkMean,gravityMean)                         -0.112454   \n",
       "angle(X,gravityMean)                                         -0.007095   \n",
       "angle(Y,gravityMean)                                         -0.006444   \n",
       "angle(Z,gravityMean)                                         -0.015380   \n",
       "\n",
       "                                      angle(tBodyGyroJerkMean,gravityMean)  \\\n",
       "tBodyAcc-mean()-X                                                 0.034296   \n",
       "tBodyAcc-mean()-Y                                                 0.077627   \n",
       "tBodyAcc-mean()-Z                                                -0.030748   \n",
       "tBodyAcc-std()-X                                                 -0.027123   \n",
       "tBodyAcc-std()-Y                                                 -0.015784   \n",
       "...                                                                    ...   \n",
       "angle(tBodyGyroMean,gravityMean)                                 -0.112454   \n",
       "angle(tBodyGyroJerkMean,gravityMean)                              1.000000   \n",
       "angle(X,gravityMean)                                              0.024822   \n",
       "angle(Y,gravityMean)                                             -0.004582   \n",
       "angle(Z,gravityMean)                                             -0.012549   \n",
       "\n",
       "                                      angle(X,gravityMean)  \\\n",
       "tBodyAcc-mean()-X                                -0.041021   \n",
       "tBodyAcc-mean()-Y                                -0.007513   \n",
       "tBodyAcc-mean()-Z                                 0.003215   \n",
       "tBodyAcc-std()-X                                 -0.374104   \n",
       "tBodyAcc-std()-Y                                 -0.381391   \n",
       "...                                                    ...   \n",
       "angle(tBodyGyroMean,gravityMean)                 -0.007095   \n",
       "angle(tBodyGyroJerkMean,gravityMean)              0.024822   \n",
       "angle(X,gravityMean)                              1.000000   \n",
       "angle(Y,gravityMean)                             -0.748249   \n",
       "angle(Z,gravityMean)                             -0.635231   \n",
       "\n",
       "                                      angle(Y,gravityMean)  \\\n",
       "tBodyAcc-mean()-X                                 0.034053   \n",
       "tBodyAcc-mean()-Y                                -0.005616   \n",
       "tBodyAcc-mean()-Z                                -0.012986   \n",
       "tBodyAcc-std()-X                                  0.449425   \n",
       "tBodyAcc-std()-Y                                  0.506106   \n",
       "...                                                    ...   \n",
       "angle(tBodyGyroMean,gravityMean)                 -0.006444   \n",
       "angle(tBodyGyroJerkMean,gravityMean)             -0.004582   \n",
       "angle(X,gravityMean)                             -0.748249   \n",
       "angle(Y,gravityMean)                              1.000000   \n",
       "angle(Z,gravityMean)                              0.545614   \n",
       "\n",
       "                                      angle(Z,gravityMean)  \n",
       "tBodyAcc-mean()-X                                 0.030656  \n",
       "tBodyAcc-mean()-Y                                -0.016233  \n",
       "tBodyAcc-mean()-Z                                -0.028406  \n",
       "tBodyAcc-std()-X                                  0.393063  \n",
       "tBodyAcc-std()-Y                                  0.425511  \n",
       "...                                                    ...  \n",
       "angle(tBodyGyroMean,gravityMean)                 -0.015380  \n",
       "angle(tBodyGyroJerkMean,gravityMean)             -0.012549  \n",
       "angle(X,gravityMean)                             -0.635231  \n",
       "angle(Y,gravityMean)                              0.545614  \n",
       "angle(Z,gravityMean)                              1.000000  \n",
       "\n",
       "[561 rows x 561 columns]"
      ]
     },
     "execution_count": 21,
     "metadata": {},
     "output_type": "execute_result"
    }
   ],
   "source": [
    "correlacion"
   ]
  },
  {
   "cell_type": "markdown",
   "id": "cf333feb-174b-45bc-83de-0278e1836eed",
   "metadata": {},
   "source": [
    "### Otra forma de hacerlo"
   ]
  },
  {
   "cell_type": "code",
   "execution_count": 12,
   "id": "593fda20-dc3a-4722-aa85-fc9c41343e64",
   "metadata": {},
   "outputs": [],
   "source": [
    "# Calculate the correlation values\n",
    "feature_cols = data.columns[:-1]\n",
    "corr_values = data[feature_cols].corr()\n",
    "\n",
    "# Selecciona los índices de la triangular inferior para luego hacer los valores igual a np.NaN\n",
    "tril_index = np.tril_indices_from(corr_values)\n",
    "\n",
    "# Make the unused values NaNs\n",
    "for coord in zip(*tril_index):\n",
    "    corr_values.iloc[coord[0], coord[1]] = np.NaN\n",
    "    \n",
    "# Stack the data and convert to a data frame\n",
    "corr_values = (corr_values\n",
    "               .stack()\n",
    "               .to_frame()\n",
    "               .reset_index()\n",
    "               .rename(columns={'level_0':'feature1',\n",
    "                                'level_1':'feature2',\n",
    "                                0:'correlation'}))\n",
    "\n",
    "# Get the absolute values for sorting\n",
    "corr_values['abs_correlation'] = corr_values.correlation.abs()"
   ]
  },
  {
   "cell_type": "code",
   "execution_count": 13,
   "id": "307de2ef-4e27-4697-9537-21288e656816",
   "metadata": {},
   "outputs": [],
   "source": [
    "import matplotlib.pyplot as plt\n",
    "import seaborn as sns\n",
    "%matplotlib inline"
   ]
  },
  {
   "cell_type": "code",
   "execution_count": 14,
   "id": "f8b8ff31-5d77-4f32-8605-274508be4359",
   "metadata": {},
   "outputs": [
    {
     "data": {
      "image/png": "[encoded data removed]",
      "text/plain": [
       "<Figure size 864x576 with 1 Axes>"
      ]
     },
     "metadata": {},
     "output_type": "display_data"
    }
   ],
   "source": [
    "sns.set_context('talk')\n",
    "sns.set_style('white')\n",
    "\n",
    "ax = corr_values.abs_correlation.hist(bins=50, figsize=(12, 8))\n",
    "ax.set(xlabel='Absolute Correlation', ylabel='Frequency');"
   ]
  },
  {
   "cell_type": "code",
   "execution_count": 15,
   "id": "1fc0a267-5683-4c1f-8252-aebffdbdc335",
   "metadata": {},
   "outputs": [
    {
     "data": {
      "text/html": [
       "<div>\n",
       "<style scoped>\n",
       "    .dataframe tbody tr th:only-of-type {\n",
       "        vertical-align: middle;\n",
       "    }\n",
       "\n",
       "    .dataframe tbody tr th {\n",
       "        vertical-align: top;\n",
       "    }\n",
       "\n",
       "    .dataframe thead th {\n",
       "        text-align: right;\n",
       "    }\n",
       "</style>\n",
       "<table border=\"1\" class=\"dataframe\">\n",
       "  <thead>\n",
       "    <tr style=\"text-align: right;\">\n",
       "      <th></th>\n",
       "      <th>feature1</th>\n",
       "      <th>feature2</th>\n",
       "      <th>correlation</th>\n",
       "      <th>abs_correlation</th>\n",
       "    </tr>\n",
       "  </thead>\n",
       "  <tbody>\n",
       "    <tr>\n",
       "      <th>156894</th>\n",
       "      <td>fBodyBodyGyroJerkMag-mean()</td>\n",
       "      <td>fBodyBodyGyroJerkMag-sma()</td>\n",
       "      <td>1.000000</td>\n",
       "      <td>1.000000</td>\n",
       "    </tr>\n",
       "    <tr>\n",
       "      <th>93902</th>\n",
       "      <td>tBodyAccMag-sma()</td>\n",
       "      <td>tGravityAccMag-sma()</td>\n",
       "      <td>1.000000</td>\n",
       "      <td>1.000000</td>\n",
       "    </tr>\n",
       "    <tr>\n",
       "      <th>101139</th>\n",
       "      <td>tBodyAccJerkMag-mean()</td>\n",
       "      <td>tBodyAccJerkMag-sma()</td>\n",
       "      <td>1.000000</td>\n",
       "      <td>1.000000</td>\n",
       "    </tr>\n",
       "    <tr>\n",
       "      <th>96706</th>\n",
       "      <td>tGravityAccMag-mean()</td>\n",
       "      <td>tGravityAccMag-sma()</td>\n",
       "      <td>1.000000</td>\n",
       "      <td>1.000000</td>\n",
       "    </tr>\n",
       "    <tr>\n",
       "      <th>94257</th>\n",
       "      <td>tBodyAccMag-energy()</td>\n",
       "      <td>tGravityAccMag-energy()</td>\n",
       "      <td>1.000000</td>\n",
       "      <td>1.000000</td>\n",
       "    </tr>\n",
       "    <tr>\n",
       "      <th>...</th>\n",
       "      <td>...</td>\n",
       "      <td>...</td>\n",
       "      <td>...</td>\n",
       "      <td>...</td>\n",
       "    </tr>\n",
       "    <tr>\n",
       "      <th>22657</th>\n",
       "      <td>tGravityAcc-mean()-Y</td>\n",
       "      <td>angle(Y,gravityMean)</td>\n",
       "      <td>-0.993425</td>\n",
       "      <td>0.993425</td>\n",
       "    </tr>\n",
       "    <tr>\n",
       "      <th>39225</th>\n",
       "      <td>tGravityAcc-arCoeff()-Z,3</td>\n",
       "      <td>tGravityAcc-arCoeff()-Z,4</td>\n",
       "      <td>-0.994267</td>\n",
       "      <td>0.994267</td>\n",
       "    </tr>\n",
       "    <tr>\n",
       "      <th>38739</th>\n",
       "      <td>tGravityAcc-arCoeff()-Z,2</td>\n",
       "      <td>tGravityAcc-arCoeff()-Z,3</td>\n",
       "      <td>-0.994628</td>\n",
       "      <td>0.994628</td>\n",
       "    </tr>\n",
       "    <tr>\n",
       "      <th>23176</th>\n",
       "      <td>tGravityAcc-mean()-Z</td>\n",
       "      <td>angle(Z,gravityMean)</td>\n",
       "      <td>-0.994764</td>\n",
       "      <td>0.994764</td>\n",
       "    </tr>\n",
       "    <tr>\n",
       "      <th>38252</th>\n",
       "      <td>tGravityAcc-arCoeff()-Z,1</td>\n",
       "      <td>tGravityAcc-arCoeff()-Z,2</td>\n",
       "      <td>-0.995195</td>\n",
       "      <td>0.995195</td>\n",
       "    </tr>\n",
       "  </tbody>\n",
       "</table>\n",
       "<p>22815 rows × 4 columns</p>\n",
       "</div>"
      ],
      "text/plain": [
       "                           feature1                    feature2  correlation  \\\n",
       "156894  fBodyBodyGyroJerkMag-mean()  fBodyBodyGyroJerkMag-sma()     1.000000   \n",
       "93902             tBodyAccMag-sma()        tGravityAccMag-sma()     1.000000   \n",
       "101139       tBodyAccJerkMag-mean()       tBodyAccJerkMag-sma()     1.000000   \n",
       "96706         tGravityAccMag-mean()        tGravityAccMag-sma()     1.000000   \n",
       "94257          tBodyAccMag-energy()     tGravityAccMag-energy()     1.000000   \n",
       "...                             ...                         ...          ...   \n",
       "22657          tGravityAcc-mean()-Y        angle(Y,gravityMean)    -0.993425   \n",
       "39225     tGravityAcc-arCoeff()-Z,3   tGravityAcc-arCoeff()-Z,4    -0.994267   \n",
       "38739     tGravityAcc-arCoeff()-Z,2   tGravityAcc-arCoeff()-Z,3    -0.994628   \n",
       "23176          tGravityAcc-mean()-Z        angle(Z,gravityMean)    -0.994764   \n",
       "38252     tGravityAcc-arCoeff()-Z,1   tGravityAcc-arCoeff()-Z,2    -0.995195   \n",
       "\n",
       "        abs_correlation  \n",
       "156894         1.000000  \n",
       "93902          1.000000  \n",
       "101139         1.000000  \n",
       "96706          1.000000  \n",
       "94257          1.000000  \n",
       "...                 ...  \n",
       "22657          0.993425  \n",
       "39225          0.994267  \n",
       "38739          0.994628  \n",
       "23176          0.994764  \n",
       "38252          0.995195  \n",
       "\n",
       "[22815 rows x 4 columns]"
      ]
     },
     "execution_count": 15,
     "metadata": {},
     "output_type": "execute_result"
    }
   ],
   "source": [
    "corr_values.sort_values('correlation', ascending=False).query('abs_correlation>0.8')"
   ]
  },
  {
   "cell_type": "markdown",
   "id": "9692ab61-c791-4097-aa37-26ec64ecfe12",
   "metadata": {},
   "source": [
    "### Seguimos con el código"
   ]
  },
  {
   "cell_type": "code",
   "execution_count": 24,
   "id": "fe4d8ba3-671e-4275-a914-0d926ce19446",
   "metadata": {},
   "outputs": [
    {
     "data": {
      "text/plain": [
       "0    0.188792\n",
       "2    0.185046\n",
       "1    0.172562\n",
       "3    0.167152\n",
       "5    0.149951\n",
       "4    0.136496\n",
       "Name: Activity, dtype: float64"
      ]
     },
     "execution_count": 24,
     "metadata": {},
     "output_type": "execute_result"
    }
   ],
   "source": [
    "y_train.value_counts(normalize=True)"
   ]
  },
  {
   "cell_type": "code",
   "execution_count": 25,
   "id": "3b7bb7ee-c40b-4141-ba4e-b0ed341b040c",
   "metadata": {},
   "outputs": [
    {
     "data": {
      "text/plain": [
       "0    0.188792\n",
       "2    0.185046\n",
       "1    0.172562\n",
       "3    0.167152\n",
       "5    0.149951\n",
       "4    0.136496\n",
       "Name: Activity, dtype: float64"
      ]
     },
     "execution_count": 25,
     "metadata": {},
     "output_type": "execute_result"
    }
   ],
   "source": [
    "y_train.value_counts(normalize=True)"
   ]
  },
  {
   "cell_type": "code",
   "execution_count": 26,
   "id": "eaf1b16c-dbda-425f-bc31-72d3d76bc418",
   "metadata": {},
   "outputs": [
    {
     "name": "stdout",
     "output_type": "stream",
     "text": [
      "CPU times: total: 7.06 s\n",
      "Wall time: 7.13 s\n"
     ]
    }
   ],
   "source": [
    "# Standard logistic regression\n",
    "%time lr = LogisticRegression(solver='liblinear').fit(X_train, y_train)"
   ]
  },
  {
   "cell_type": "code",
   "execution_count": 20,
   "id": "386d8256-d544-4fc9-a349-c7ba63c6c02e",
   "metadata": {},
   "outputs": [
    {
     "name": "stderr",
     "output_type": "stream",
     "text": [
      "[Parallel(n_jobs=-1)]: Using backend LokyBackend with 12 concurrent workers.\n",
      "[Parallel(n_jobs=-1)]: Done  24 out of  24 | elapsed:  3.6min finished\n"
     ]
    },
    {
     "name": "stdout",
     "output_type": "stream",
     "text": [
      "CPU times: total: 9.77 s\n",
      "Wall time: 3min 43s\n"
     ]
    }
   ],
   "source": [
    "%time lr_l1 = LogisticRegressionCV(Cs=10, cv=4, penalty='l1', solver='liblinear', verbose=1, n_jobs=-1).fit(X_train, y_train)"
   ]
  },
  {
   "cell_type": "code",
   "execution_count": 23,
   "id": "112588bb-070a-4f74-b964-550491d89a92",
   "metadata": {},
   "outputs": [],
   "source": [
    "pickle.dump(lr_l1, open('Modelo_reg_log_Lasso.p', 'wb'))\n",
    "LASSO = pickle.load(open('Modelo_reg_log_Lasso.p', 'rb'))"
   ]
  },
  {
   "cell_type": "code",
   "execution_count": 30,
   "id": "b05edfc4-48bf-4a67-92a4-17f859926950",
   "metadata": {},
   "outputs": [
    {
     "data": {
      "text/plain": [
       "True"
      ]
     },
     "execution_count": 30,
     "metadata": {},
     "output_type": "execute_result"
    }
   ],
   "source": [
    "(lr_l1.predict(X_test)==LASSO.predict(X_test)).all()"
   ]
  },
  {
   "cell_type": "code",
   "execution_count": 31,
   "id": "75652722-0014-452b-aa33-9f1338b835a7",
   "metadata": {},
   "outputs": [
    {
     "name": "stderr",
     "output_type": "stream",
     "text": [
      "[Parallel(n_jobs=-1)]: Using backend LokyBackend with 12 concurrent workers.\n",
      "[Parallel(n_jobs=-1)]: Done  24 out of  24 | elapsed:  2.1min finished\n"
     ]
    },
    {
     "name": "stdout",
     "output_type": "stream",
     "text": [
      "CPU times: total: 8.44 s\n",
      "Wall time: 2min 16s\n"
     ]
    }
   ],
   "source": [
    "%time lr_l2 = LogisticRegressionCV(Cs=10, cv=4, penalty='l2', solver='liblinear', verbose=1, n_jobs=-1).fit(X_train, y_train)"
   ]
  },
  {
   "cell_type": "code",
   "execution_count": 32,
   "id": "000bf546-f84e-4521-9514-85f178ca5233",
   "metadata": {},
   "outputs": [
    {
     "name": "stdout",
     "output_type": "stream",
     "text": [
      "CPU times: total: 0 ns\n",
      "Wall time: 5 ms\n"
     ]
    }
   ],
   "source": [
    "%time gs = GridSearchCV(LogisticRegression(max_iter=10000, tol=0.1), param_grid = {\"C\": np.logspace(-4,4,10)}, verbose=1, n_jobs=-1)"
   ]
  },
  {
   "cell_type": "code",
   "execution_count": 33,
   "id": "a7e2b885-a9b3-41ec-8dfa-623722ccaf0c",
   "metadata": {},
   "outputs": [
    {
     "name": "stdout",
     "output_type": "stream",
     "text": [
      "Fitting 5 folds for each of 10 candidates, totalling 50 fits\n",
      "CPU times: total: 1min 18s\n",
      "Wall time: 3min 33s\n"
     ]
    },
    {
     "data": {
      "text/html": [
       "<style>#sk-container-id-1 {color: black;background-color: white;}#sk-container-id-1 pre{padding: 0;}#sk-container-id-1 div.sk-toggleable {background-color: white;}#sk-container-id-1 label.sk-toggleable__label {cursor: pointer;display: block;width: 100%;margin-bottom: 0;padding: 0.3em;box-sizing: border-box;text-align: center;}#sk-container-id-1 label.sk-toggleable__label-arrow:before {content: \"▸\";float: left;margin-right: 0.25em;color: #696969;}#sk-container-id-1 label.sk-toggleable__label-arrow:hover:before {color: black;}#sk-container-id-1 div.sk-estimator:hover label.sk-toggleable__label-arrow:before {color: black;}#sk-container-id-1 div.sk-toggleable__content {max-height: 0;max-width: 0;overflow: hidden;text-align: left;background-color: #f0f8ff;}#sk-container-id-1 div.sk-toggleable__content pre {margin: 0.2em;color: black;border-radius: 0.25em;background-color: #f0f8ff;}#sk-container-id-1 input.sk-toggleable__control:checked~div.sk-toggleable__content {max-height: 200px;max-width: 100%;overflow: auto;}#sk-container-id-1 input.sk-toggleable__control:checked~label.sk-toggleable__label-arrow:before {content: \"▾\";}#sk-container-id-1 div.sk-estimator input.sk-toggleable__control:checked~label.sk-toggleable__label {background-color: #d4ebff;}#sk-container-id-1 div.sk-label input.sk-toggleable__control:checked~label.sk-toggleable__label {background-color: #d4ebff;}#sk-container-id-1 input.sk-hidden--visually {border: 0;clip: rect(1px 1px 1px 1px);clip: rect(1px, 1px, 1px, 1px);height: 1px;margin: -1px;overflow: hidden;padding: 0;position: absolute;width: 1px;}#sk-container-id-1 div.sk-estimator {font-family: monospace;background-color: #f0f8ff;border: 1px dotted black;border-radius: 0.25em;box-sizing: border-box;margin-bottom: 0.5em;}#sk-container-id-1 div.sk-estimator:hover {background-color: #d4ebff;}#sk-container-id-1 div.sk-parallel-item::after {content: \"\";width: 100%;border-bottom: 1px solid gray;flex-grow: 1;}#sk-container-id-1 div.sk-label:hover label.sk-toggleable__label {background-color: #d4ebff;}#sk-container-id-1 div.sk-serial::before {content: \"\";position: absolute;border-left: 1px solid gray;box-sizing: border-box;top: 0;bottom: 0;left: 50%;z-index: 0;}#sk-container-id-1 div.sk-serial {display: flex;flex-direction: column;align-items: center;background-color: white;padding-right: 0.2em;padding-left: 0.2em;position: relative;}#sk-container-id-1 div.sk-item {position: relative;z-index: 1;}#sk-container-id-1 div.sk-parallel {display: flex;align-items: stretch;justify-content: center;background-color: white;position: relative;}#sk-container-id-1 div.sk-item::before, #sk-container-id-1 div.sk-parallel-item::before {content: \"\";position: absolute;border-left: 1px solid gray;box-sizing: border-box;top: 0;bottom: 0;left: 50%;z-index: -1;}#sk-container-id-1 div.sk-parallel-item {display: flex;flex-direction: column;z-index: 1;position: relative;background-color: white;}#sk-container-id-1 div.sk-parallel-item:first-child::after {align-self: flex-end;width: 50%;}#sk-container-id-1 div.sk-parallel-item:last-child::after {align-self: flex-start;width: 50%;}#sk-container-id-1 div.sk-parallel-item:only-child::after {width: 0;}#sk-container-id-1 div.sk-dashed-wrapped {border: 1px dashed gray;margin: 0 0.4em 0.5em 0.4em;box-sizing: border-box;padding-bottom: 0.4em;background-color: white;}#sk-container-id-1 div.sk-label label {font-family: monospace;font-weight: bold;display: inline-block;line-height: 1.2em;}#sk-container-id-1 div.sk-label-container {text-align: center;}#sk-container-id-1 div.sk-container {/* jupyter's `normalize.less` sets `[hidden] { display: none; }` but bootstrap.min.css set `[hidden] { display: none !important; }` so we also need the `!important` here to be able to override the default hidden behavior on the sphinx rendered scikit-learn.org. See: https://github.com/scikit-learn/scikit-learn/issues/21755 */display: inline-block !important;position: relative;}#sk-container-id-1 div.sk-text-repr-fallback {display: none;}</style><div id=\"sk-container-id-1\" class=\"sk-top-container\"><div class=\"sk-text-repr-fallback\"><pre>GridSearchCV(estimator=LogisticRegression(max_iter=10000, tol=0.1), n_jobs=-1,\n",
       "             param_grid={&#x27;C&#x27;: array([1.00000000e-04, 7.74263683e-04, 5.99484250e-03, 4.64158883e-02,\n",
       "       3.59381366e-01, 2.78255940e+00, 2.15443469e+01, 1.66810054e+02,\n",
       "       1.29154967e+03, 1.00000000e+04])},\n",
       "             verbose=1)</pre><b>In a Jupyter environment, please rerun this cell to show the HTML representation or trust the notebook. <br />On GitHub, the HTML representation is unable to render, please try loading this page with nbviewer.org.</b></div><div class=\"sk-container\" hidden><div class=\"sk-item sk-dashed-wrapped\"><div class=\"sk-label-container\"><div class=\"sk-label sk-toggleable\"><input class=\"sk-toggleable__control sk-hidden--visually\" id=\"sk-estimator-id-1\" type=\"checkbox\" ><label for=\"sk-estimator-id-1\" class=\"sk-toggleable__label sk-toggleable__label-arrow\">GridSearchCV</label><div class=\"sk-toggleable__content\"><pre>GridSearchCV(estimator=LogisticRegression(max_iter=10000, tol=0.1), n_jobs=-1,\n",
       "             param_grid={&#x27;C&#x27;: array([1.00000000e-04, 7.74263683e-04, 5.99484250e-03, 4.64158883e-02,\n",
       "       3.59381366e-01, 2.78255940e+00, 2.15443469e+01, 1.66810054e+02,\n",
       "       1.29154967e+03, 1.00000000e+04])},\n",
       "             verbose=1)</pre></div></div></div><div class=\"sk-parallel\"><div class=\"sk-parallel-item\"><div class=\"sk-item\"><div class=\"sk-label-container\"><div class=\"sk-label sk-toggleable\"><input class=\"sk-toggleable__control sk-hidden--visually\" id=\"sk-estimator-id-2\" type=\"checkbox\" ><label for=\"sk-estimator-id-2\" class=\"sk-toggleable__label sk-toggleable__label-arrow\">estimator: LogisticRegression</label><div class=\"sk-toggleable__content\"><pre>LogisticRegression(max_iter=10000, tol=0.1)</pre></div></div></div><div class=\"sk-serial\"><div class=\"sk-item\"><div class=\"sk-estimator sk-toggleable\"><input class=\"sk-toggleable__control sk-hidden--visually\" id=\"sk-estimator-id-3\" type=\"checkbox\" ><label for=\"sk-estimator-id-3\" class=\"sk-toggleable__label sk-toggleable__label-arrow\">LogisticRegression</label><div class=\"sk-toggleable__content\"><pre>LogisticRegression(max_iter=10000, tol=0.1)</pre></div></div></div></div></div></div></div></div></div></div>"
      ],
      "text/plain": [
       "GridSearchCV(estimator=LogisticRegression(max_iter=10000, tol=0.1), n_jobs=-1,\n",
       "             param_grid={'C': array([1.00000000e-04, 7.74263683e-04, 5.99484250e-03, 4.64158883e-02,\n",
       "       3.59381366e-01, 2.78255940e+00, 2.15443469e+01, 1.66810054e+02,\n",
       "       1.29154967e+03, 1.00000000e+04])},\n",
       "             verbose=1)"
      ]
     },
     "execution_count": 33,
     "metadata": {},
     "output_type": "execute_result"
    }
   ],
   "source": [
    "%time gs.fit(X_train, y_train);"
   ]
  },
  {
   "cell_type": "code",
   "execution_count": 34,
   "id": "607eddfe-0bbb-41b9-8d88-6c4f85871885",
   "metadata": {},
   "outputs": [],
   "source": [
    "pickle.dump(lr_l2, open('Modelo_reg_log_Ridge.p', 'wb'))\n",
    "pickle.dump(gs, open('Modelo_reg_log_GS.p', 'wb'))"
   ]
  },
  {
   "cell_type": "code",
   "execution_count": 27,
   "id": "02a6a370-5e5d-4f14-aa9e-072bb39b022d",
   "metadata": {},
   "outputs": [],
   "source": [
    "LASSO = pickle.load(open('Modelo_reg_log_Lasso.p', 'rb'))\n",
    "RIDGE = pickle.load(open('Modelo_reg_log_Ridge.p', 'rb'))\n",
    "GS = pickle.load(open('Modelo_reg_log_GS.p', 'rb'))"
   ]
  },
  {
   "cell_type": "code",
   "execution_count": 28,
   "id": "f3181016-ea58-486f-9252-4b64d44435c8",
   "metadata": {},
   "outputs": [
    {
     "data": {
      "text/plain": [
       "{'C': 2.782559402207126}"
      ]
     },
     "execution_count": 28,
     "metadata": {},
     "output_type": "execute_result"
    }
   ],
   "source": [
    "GS.best_params_"
   ]
  },
  {
   "cell_type": "code",
   "execution_count": 29,
   "id": "b3bafc60-3380-4c8d-9591-0125a1012888",
   "metadata": {},
   "outputs": [
    {
     "data": {
      "text/plain": [
       "array([166.81005372,   2.7825594 ,   2.7825594 ,   2.7825594 ,\n",
       "        21.5443469 ,  21.5443469 ])"
      ]
     },
     "execution_count": 29,
     "metadata": {},
     "output_type": "execute_result"
    }
   ],
   "source": [
    "LASSO.C_"
   ]
  },
  {
   "cell_type": "code",
   "execution_count": 30,
   "id": "52031b8a-9043-4475-a4f2-7404c50636f0",
   "metadata": {},
   "outputs": [
    {
     "data": {
      "text/plain": [
       "array([  166.81005372,    21.5443469 ,    21.5443469 ,   166.81005372,\n",
       "          21.5443469 , 10000.        ])"
      ]
     },
     "execution_count": 30,
     "metadata": {},
     "output_type": "execute_result"
    }
   ],
   "source": [
    "RIDGE.C_"
   ]
  },
  {
   "cell_type": "code",
   "execution_count": 31,
   "id": "59b05d9a-2c0c-42a3-862e-766d477b9dcc",
   "metadata": {},
   "outputs": [
    {
     "data": {
      "text/html": [
       "<div>\n",
       "<style scoped>\n",
       "    .dataframe tbody tr th:only-of-type {\n",
       "        vertical-align: middle;\n",
       "    }\n",
       "\n",
       "    .dataframe tbody tr th {\n",
       "        vertical-align: top;\n",
       "    }\n",
       "\n",
       "    .dataframe thead th {\n",
       "        text-align: right;\n",
       "    }\n",
       "</style>\n",
       "<table border=\"1\" class=\"dataframe\">\n",
       "  <thead>\n",
       "    <tr style=\"text-align: right;\">\n",
       "      <th></th>\n",
       "      <th>lr</th>\n",
       "      <th>l1</th>\n",
       "      <th>l2</th>\n",
       "      <th>gs</th>\n",
       "    </tr>\n",
       "  </thead>\n",
       "  <tbody>\n",
       "    <tr>\n",
       "      <th>939</th>\n",
       "      <td>4</td>\n",
       "      <td>4</td>\n",
       "      <td>4</td>\n",
       "      <td>4</td>\n",
       "    </tr>\n",
       "    <tr>\n",
       "      <th>436</th>\n",
       "      <td>3</td>\n",
       "      <td>3</td>\n",
       "      <td>3</td>\n",
       "      <td>3</td>\n",
       "    </tr>\n",
       "    <tr>\n",
       "      <th>229</th>\n",
       "      <td>1</td>\n",
       "      <td>1</td>\n",
       "      <td>1</td>\n",
       "      <td>1</td>\n",
       "    </tr>\n",
       "    <tr>\n",
       "      <th>1197</th>\n",
       "      <td>4</td>\n",
       "      <td>4</td>\n",
       "      <td>4</td>\n",
       "      <td>4</td>\n",
       "    </tr>\n",
       "    <tr>\n",
       "      <th>667</th>\n",
       "      <td>2</td>\n",
       "      <td>2</td>\n",
       "      <td>2</td>\n",
       "      <td>2</td>\n",
       "    </tr>\n",
       "    <tr>\n",
       "      <th>2663</th>\n",
       "      <td>3</td>\n",
       "      <td>3</td>\n",
       "      <td>3</td>\n",
       "      <td>3</td>\n",
       "    </tr>\n",
       "    <tr>\n",
       "      <th>2642</th>\n",
       "      <td>0</td>\n",
       "      <td>0</td>\n",
       "      <td>0</td>\n",
       "      <td>0</td>\n",
       "    </tr>\n",
       "    <tr>\n",
       "      <th>1818</th>\n",
       "      <td>5</td>\n",
       "      <td>5</td>\n",
       "      <td>5</td>\n",
       "      <td>5</td>\n",
       "    </tr>\n",
       "    <tr>\n",
       "      <th>1649</th>\n",
       "      <td>2</td>\n",
       "      <td>2</td>\n",
       "      <td>2</td>\n",
       "      <td>2</td>\n",
       "    </tr>\n",
       "    <tr>\n",
       "      <th>907</th>\n",
       "      <td>2</td>\n",
       "      <td>2</td>\n",
       "      <td>2</td>\n",
       "      <td>2</td>\n",
       "    </tr>\n",
       "  </tbody>\n",
       "</table>\n",
       "</div>"
      ],
      "text/plain": [
       "      lr  l1  l2  gs\n",
       "939    4   4   4   4\n",
       "436    3   3   3   3\n",
       "229    1   1   1   1\n",
       "1197   4   4   4   4\n",
       "667    2   2   2   2\n",
       "2663   3   3   3   3\n",
       "2642   0   0   0   0\n",
       "1818   5   5   5   5\n",
       "1649   2   2   2   2\n",
       "907    2   2   2   2"
      ]
     },
     "execution_count": 31,
     "metadata": {},
     "output_type": "execute_result"
    }
   ],
   "source": [
    "y_pred = list()\n",
    "y_prob = list()\n",
    "\n",
    "coeff_labels = ['lr', 'l1', 'l2', 'gs']\n",
    "coeff_models = [lr, LASSO, RIDGE, GS]\n",
    "\n",
    "for lab,mod in zip(coeff_labels, coeff_models):\n",
    "    y_pred.append(pd.Series(mod.predict(X_test), name=lab))\n",
    "    y_prob.append(pd.Series(mod.predict_proba(X_test).max(axis=1), name=lab))\n",
    "    \n",
    "y_pred = pd.concat(y_pred, axis=1)\n",
    "y_prob = pd.concat(y_prob, axis=1)\n",
    "\n",
    "y_pred.sample(10, random_state=12)"
   ]
  },
  {
   "cell_type": "code",
   "execution_count": 40,
   "id": "b1ada46f-e7db-4f46-8d96-d96b3a47acde",
   "metadata": {},
   "outputs": [
    {
     "data": {
      "text/html": [
       "<div>\n",
       "<style scoped>\n",
       "    .dataframe tbody tr th:only-of-type {\n",
       "        vertical-align: middle;\n",
       "    }\n",
       "\n",
       "    .dataframe tbody tr th {\n",
       "        vertical-align: top;\n",
       "    }\n",
       "\n",
       "    .dataframe thead th {\n",
       "        text-align: right;\n",
       "    }\n",
       "</style>\n",
       "<table border=\"1\" class=\"dataframe\">\n",
       "  <thead>\n",
       "    <tr style=\"text-align: right;\">\n",
       "      <th></th>\n",
       "      <th>lr</th>\n",
       "      <th>l1</th>\n",
       "      <th>l2</th>\n",
       "      <th>gs</th>\n",
       "    </tr>\n",
       "  </thead>\n",
       "  <tbody>\n",
       "    <tr>\n",
       "      <th>939</th>\n",
       "      <td>0.945177</td>\n",
       "      <td>0.987630</td>\n",
       "      <td>0.999404</td>\n",
       "      <td>0.987730</td>\n",
       "    </tr>\n",
       "    <tr>\n",
       "      <th>436</th>\n",
       "      <td>0.984570</td>\n",
       "      <td>0.997101</td>\n",
       "      <td>0.999995</td>\n",
       "      <td>0.999982</td>\n",
       "    </tr>\n",
       "    <tr>\n",
       "      <th>229</th>\n",
       "      <td>0.997852</td>\n",
       "      <td>0.999971</td>\n",
       "      <td>0.999991</td>\n",
       "      <td>0.998908</td>\n",
       "    </tr>\n",
       "    <tr>\n",
       "      <th>1197</th>\n",
       "      <td>0.999603</td>\n",
       "      <td>0.999961</td>\n",
       "      <td>1.000000</td>\n",
       "      <td>0.999992</td>\n",
       "    </tr>\n",
       "    <tr>\n",
       "      <th>667</th>\n",
       "      <td>0.993621</td>\n",
       "      <td>0.997838</td>\n",
       "      <td>0.999853</td>\n",
       "      <td>0.999958</td>\n",
       "    </tr>\n",
       "    <tr>\n",
       "      <th>2663</th>\n",
       "      <td>0.988126</td>\n",
       "      <td>0.999019</td>\n",
       "      <td>0.999982</td>\n",
       "      <td>0.999008</td>\n",
       "    </tr>\n",
       "    <tr>\n",
       "      <th>2642</th>\n",
       "      <td>0.999727</td>\n",
       "      <td>1.000000</td>\n",
       "      <td>1.000000</td>\n",
       "      <td>0.999935</td>\n",
       "    </tr>\n",
       "    <tr>\n",
       "      <th>1818</th>\n",
       "      <td>0.989670</td>\n",
       "      <td>0.999434</td>\n",
       "      <td>0.999959</td>\n",
       "      <td>0.999904</td>\n",
       "    </tr>\n",
       "    <tr>\n",
       "      <th>1649</th>\n",
       "      <td>0.983926</td>\n",
       "      <td>0.997762</td>\n",
       "      <td>0.999622</td>\n",
       "      <td>0.999168</td>\n",
       "    </tr>\n",
       "    <tr>\n",
       "      <th>907</th>\n",
       "      <td>0.990353</td>\n",
       "      <td>0.999391</td>\n",
       "      <td>0.999696</td>\n",
       "      <td>0.999144</td>\n",
       "    </tr>\n",
       "    <tr>\n",
       "      <th>2146</th>\n",
       "      <td>0.999540</td>\n",
       "      <td>0.999566</td>\n",
       "      <td>0.999999</td>\n",
       "      <td>1.000000</td>\n",
       "    </tr>\n",
       "    <tr>\n",
       "      <th>936</th>\n",
       "      <td>0.999945</td>\n",
       "      <td>1.000000</td>\n",
       "      <td>1.000000</td>\n",
       "      <td>0.999975</td>\n",
       "    </tr>\n",
       "    <tr>\n",
       "      <th>879</th>\n",
       "      <td>0.999906</td>\n",
       "      <td>0.999963</td>\n",
       "      <td>1.000000</td>\n",
       "      <td>0.999999</td>\n",
       "    </tr>\n",
       "    <tr>\n",
       "      <th>2670</th>\n",
       "      <td>0.997800</td>\n",
       "      <td>0.999886</td>\n",
       "      <td>1.000000</td>\n",
       "      <td>0.999992</td>\n",
       "    </tr>\n",
       "    <tr>\n",
       "      <th>3033</th>\n",
       "      <td>0.998646</td>\n",
       "      <td>0.999952</td>\n",
       "      <td>0.999996</td>\n",
       "      <td>0.999860</td>\n",
       "    </tr>\n",
       "  </tbody>\n",
       "</table>\n",
       "</div>"
      ],
      "text/plain": [
       "            lr        l1        l2        gs\n",
       "939   0.945177  0.987630  0.999404  0.987730\n",
       "436   0.984570  0.997101  0.999995  0.999982\n",
       "229   0.997852  0.999971  0.999991  0.998908\n",
       "1197  0.999603  0.999961  1.000000  0.999992\n",
       "667   0.993621  0.997838  0.999853  0.999958\n",
       "2663  0.988126  0.999019  0.999982  0.999008\n",
       "2642  0.999727  1.000000  1.000000  0.999935\n",
       "1818  0.989670  0.999434  0.999959  0.999904\n",
       "1649  0.983926  0.997762  0.999622  0.999168\n",
       "907   0.990353  0.999391  0.999696  0.999144\n",
       "2146  0.999540  0.999566  0.999999  1.000000\n",
       "936   0.999945  1.000000  1.000000  0.999975\n",
       "879   0.999906  0.999963  1.000000  0.999999\n",
       "2670  0.997800  0.999886  1.000000  0.999992\n",
       "3033  0.998646  0.999952  0.999996  0.999860"
      ]
     },
     "execution_count": 40,
     "metadata": {},
     "output_type": "execute_result"
    }
   ],
   "source": [
    "y_prob.sample(15, random_state=12)"
   ]
  },
  {
   "cell_type": "code",
   "execution_count": 41,
   "id": "90739a19-225f-492f-8a3f-83434179b97e",
   "metadata": {},
   "outputs": [
    {
     "data": {
      "text/html": [
       "<div>\n",
       "<style scoped>\n",
       "    .dataframe tbody tr th:only-of-type {\n",
       "        vertical-align: middle;\n",
       "    }\n",
       "\n",
       "    .dataframe tbody tr th {\n",
       "        vertical-align: top;\n",
       "    }\n",
       "\n",
       "    .dataframe thead th {\n",
       "        text-align: right;\n",
       "    }\n",
       "</style>\n",
       "<table border=\"1\" class=\"dataframe\">\n",
       "  <thead>\n",
       "    <tr style=\"text-align: right;\">\n",
       "      <th></th>\n",
       "      <th>lr</th>\n",
       "      <th>l1</th>\n",
       "      <th>l2</th>\n",
       "      <th>gs</th>\n",
       "    </tr>\n",
       "  </thead>\n",
       "  <tbody>\n",
       "    <tr>\n",
       "      <th>precision</th>\n",
       "      <td>0.984144</td>\n",
       "      <td>0.983833</td>\n",
       "      <td>0.984477</td>\n",
       "      <td>0.984148</td>\n",
       "    </tr>\n",
       "    <tr>\n",
       "      <th>recall</th>\n",
       "      <td>0.984142</td>\n",
       "      <td>0.983819</td>\n",
       "      <td>0.984466</td>\n",
       "      <td>0.984142</td>\n",
       "    </tr>\n",
       "    <tr>\n",
       "      <th>fscore</th>\n",
       "      <td>0.984143</td>\n",
       "      <td>0.983817</td>\n",
       "      <td>0.984464</td>\n",
       "      <td>0.984142</td>\n",
       "    </tr>\n",
       "    <tr>\n",
       "      <th>accuracy</th>\n",
       "      <td>0.984142</td>\n",
       "      <td>0.983819</td>\n",
       "      <td>0.984466</td>\n",
       "      <td>0.984142</td>\n",
       "    </tr>\n",
       "    <tr>\n",
       "      <th>auc</th>\n",
       "      <td>0.990384</td>\n",
       "      <td>0.990148</td>\n",
       "      <td>0.990553</td>\n",
       "      <td>0.990369</td>\n",
       "    </tr>\n",
       "  </tbody>\n",
       "</table>\n",
       "</div>"
      ],
      "text/plain": [
       "                 lr        l1        l2        gs\n",
       "precision  0.984144  0.983833  0.984477  0.984148\n",
       "recall     0.984142  0.983819  0.984466  0.984142\n",
       "fscore     0.984143  0.983817  0.984464  0.984142\n",
       "accuracy   0.984142  0.983819  0.984466  0.984142\n",
       "auc        0.990384  0.990148  0.990553  0.990369"
      ]
     },
     "execution_count": 41,
     "metadata": {},
     "output_type": "execute_result"
    }
   ],
   "source": [
    "metrics = list()\n",
    "cm = dict()\n",
    "\n",
    "for lab in coeff_labels:\n",
    "\n",
    "    # Preciision, recall, f-score from the multi-class support function\n",
    "    precision, recall, fscore, _ = score(y_test, y_pred[lab], average='weighted')\n",
    "    \n",
    "    # The usual way to calculate accuracy\n",
    "    accuracy = accuracy_score(y_test, y_pred[lab])\n",
    "    \n",
    "    # ROC-AUC scores can be calculated by binarizing the data\n",
    "    auc = roc_auc_score(label_binarize(y_test, classes=[0,1,2,3,4,5]),\n",
    "              label_binarize(y_pred[lab], classes=[0,1,2,3,4,5]), \n",
    "              average='weighted')\n",
    "    \n",
    "    # Last, the confusion matrix\n",
    "    cm[lab] = confusion_matrix(y_test, y_pred[lab])\n",
    "    \n",
    "    metrics.append(pd.Series({'precision':precision, 'recall':recall, \n",
    "                              'fscore':fscore, 'accuracy':accuracy,\n",
    "                              'auc':auc}, \n",
    "                             name=lab))\n",
    "\n",
    "metrics = pd.concat(metrics, axis=1)\n",
    "metrics"
   ]
  },
  {
   "cell_type": "code",
   "execution_count": 42,
   "id": "a01a7b36-8637-4557-8e50-09f02a5472f7",
   "metadata": {},
   "outputs": [
    {
     "data": {
      "image/png": "[encoded data removed]",
      "text/plain": [
       "<Figure size 864x720 with 8 Axes>"
      ]
     },
     "metadata": {
      "needs_background": "light"
     },
     "output_type": "display_data"
    }
   ],
   "source": [
    "fig, axList = plt.subplots(nrows=2, ncols=2)\n",
    "axList = axList.flatten()\n",
    "fig.set_size_inches(12, 10)\n",
    "\n",
    "#axList[-1].axis('off')\n",
    "\n",
    "for ax,lab in zip(axList[:], coeff_labels):\n",
    "    sns.heatmap(cm[lab], ax=ax, annot=True, fmt='d');\n",
    "    ax.set(title=lab);\n",
    "    \n",
    "plt.tight_layout()"
   ]
  },
  {
   "cell_type": "markdown",
   "id": "c4d77830-0050-413f-98e4-cbff0cd6d38b",
   "metadata": {},
   "source": [
    "## Regresión Logistica: Ejemplo 2"
   ]
  },
  {
   "cell_type": "code",
   "execution_count": 3,
   "id": "300ca5a3-a734-410d-aa32-2ecf410e4ed7",
   "metadata": {},
   "outputs": [],
   "source": [
    "# Load the dataset\n",
    "dataset_url = \"https://cf-courses-data.s3.us.cloud-object-storage.appdomain.cloud/IBM-ML241EN-SkillsNetwork/labs/datasets/food_items.csv\"\n",
    "food_df = pd.read_csv(dataset_url)"
   ]
  },
  {
   "cell_type": "code",
   "execution_count": 4,
   "id": "1f1087b4-37e6-4a82-8e02-c15b54eded79",
   "metadata": {},
   "outputs": [
    {
     "data": {
      "text/plain": [
       "Calories               float64\n",
       "Total Fat                int64\n",
       "Saturated Fat          float64\n",
       "Monounsaturated Fat    float64\n",
       "Polyunsaturated Fat    float64\n",
       "Trans Fat              float64\n",
       "Cholesterol              int64\n",
       "Sodium                 float64\n",
       "Total Carbohydrate     float64\n",
       "Dietary Fiber          float64\n",
       "Sugars                 float64\n",
       "Sugar Alcohol            int64\n",
       "Protein                float64\n",
       "Vitamin A                int64\n",
       "Vitamin C                int64\n",
       "Calcium                  int64\n",
       "Iron                     int64\n",
       "class                   object\n",
       "dtype: object"
      ]
     },
     "execution_count": 4,
     "metadata": {},
     "output_type": "execute_result"
    }
   ],
   "source": [
    "food_df.dtypes"
   ]
  },
  {
   "cell_type": "code",
   "execution_count": 6,
   "id": "3951c104-3a77-410a-9efe-4701364d18d1",
   "metadata": {},
   "outputs": [
    {
     "data": {
      "text/html": [
       "<div>\n",
       "<style scoped>\n",
       "    .dataframe tbody tr th:only-of-type {\n",
       "        vertical-align: middle;\n",
       "    }\n",
       "\n",
       "    .dataframe tbody tr th {\n",
       "        vertical-align: top;\n",
       "    }\n",
       "\n",
       "    .dataframe thead th {\n",
       "        text-align: right;\n",
       "    }\n",
       "</style>\n",
       "<table border=\"1\" class=\"dataframe\">\n",
       "  <thead>\n",
       "    <tr style=\"text-align: right;\">\n",
       "      <th></th>\n",
       "      <th>Calories</th>\n",
       "      <th>Total Fat</th>\n",
       "      <th>Saturated Fat</th>\n",
       "      <th>Monounsaturated Fat</th>\n",
       "      <th>Polyunsaturated Fat</th>\n",
       "      <th>Trans Fat</th>\n",
       "      <th>Cholesterol</th>\n",
       "      <th>Sodium</th>\n",
       "      <th>Total Carbohydrate</th>\n",
       "      <th>Dietary Fiber</th>\n",
       "      <th>Sugars</th>\n",
       "      <th>Sugar Alcohol</th>\n",
       "      <th>Protein</th>\n",
       "      <th>Vitamin A</th>\n",
       "      <th>Vitamin C</th>\n",
       "      <th>Calcium</th>\n",
       "      <th>Iron</th>\n",
       "      <th>class</th>\n",
       "    </tr>\n",
       "  </thead>\n",
       "  <tbody>\n",
       "    <tr>\n",
       "      <th>10302</th>\n",
       "      <td>15.0</td>\n",
       "      <td>0</td>\n",
       "      <td>0.0</td>\n",
       "      <td>0.0</td>\n",
       "      <td>0.0</td>\n",
       "      <td>0.0</td>\n",
       "      <td>0</td>\n",
       "      <td>360.0</td>\n",
       "      <td>4.0</td>\n",
       "      <td>0.0</td>\n",
       "      <td>0.0</td>\n",
       "      <td>0</td>\n",
       "      <td>0.0</td>\n",
       "      <td>0</td>\n",
       "      <td>0</td>\n",
       "      <td>0</td>\n",
       "      <td>2</td>\n",
       "      <td>'In Moderation'</td>\n",
       "    </tr>\n",
       "    <tr>\n",
       "      <th>5068</th>\n",
       "      <td>180.0</td>\n",
       "      <td>4</td>\n",
       "      <td>1.5</td>\n",
       "      <td>1.0</td>\n",
       "      <td>0.0</td>\n",
       "      <td>0.5</td>\n",
       "      <td>0</td>\n",
       "      <td>280.0</td>\n",
       "      <td>34.0</td>\n",
       "      <td>0.0</td>\n",
       "      <td>19.0</td>\n",
       "      <td>0</td>\n",
       "      <td>1.0</td>\n",
       "      <td>0</td>\n",
       "      <td>0</td>\n",
       "      <td>8</td>\n",
       "      <td>6</td>\n",
       "      <td>'Less Often'</td>\n",
       "    </tr>\n",
       "    <tr>\n",
       "      <th>3397</th>\n",
       "      <td>190.0</td>\n",
       "      <td>7</td>\n",
       "      <td>1.0</td>\n",
       "      <td>0.0</td>\n",
       "      <td>0.0</td>\n",
       "      <td>0.0</td>\n",
       "      <td>0</td>\n",
       "      <td>170.0</td>\n",
       "      <td>29.0</td>\n",
       "      <td>2.0</td>\n",
       "      <td>12.0</td>\n",
       "      <td>0</td>\n",
       "      <td>4.0</td>\n",
       "      <td>0</td>\n",
       "      <td>0</td>\n",
       "      <td>0</td>\n",
       "      <td>4</td>\n",
       "      <td>'In Moderation'</td>\n",
       "    </tr>\n",
       "    <tr>\n",
       "      <th>8041</th>\n",
       "      <td>360.0</td>\n",
       "      <td>12</td>\n",
       "      <td>4.0</td>\n",
       "      <td>0.0</td>\n",
       "      <td>0.0</td>\n",
       "      <td>0.0</td>\n",
       "      <td>35</td>\n",
       "      <td>800.0</td>\n",
       "      <td>44.0</td>\n",
       "      <td>0.0</td>\n",
       "      <td>7.0</td>\n",
       "      <td>0</td>\n",
       "      <td>18.0</td>\n",
       "      <td>6</td>\n",
       "      <td>0</td>\n",
       "      <td>10</td>\n",
       "      <td>6</td>\n",
       "      <td>'In Moderation'</td>\n",
       "    </tr>\n",
       "    <tr>\n",
       "      <th>6165</th>\n",
       "      <td>50.0</td>\n",
       "      <td>2</td>\n",
       "      <td>0.0</td>\n",
       "      <td>0.0</td>\n",
       "      <td>0.0</td>\n",
       "      <td>0.0</td>\n",
       "      <td>5</td>\n",
       "      <td>290.0</td>\n",
       "      <td>9.0</td>\n",
       "      <td>0.0</td>\n",
       "      <td>5.0</td>\n",
       "      <td>0</td>\n",
       "      <td>0.0</td>\n",
       "      <td>0</td>\n",
       "      <td>0</td>\n",
       "      <td>0</td>\n",
       "      <td>0</td>\n",
       "      <td>'In Moderation'</td>\n",
       "    </tr>\n",
       "    <tr>\n",
       "      <th>12406</th>\n",
       "      <td>90.0</td>\n",
       "      <td>2</td>\n",
       "      <td>0.0</td>\n",
       "      <td>1.0</td>\n",
       "      <td>1.0</td>\n",
       "      <td>0.0</td>\n",
       "      <td>0</td>\n",
       "      <td>330.0</td>\n",
       "      <td>4.0</td>\n",
       "      <td>2.0</td>\n",
       "      <td>0.0</td>\n",
       "      <td>0</td>\n",
       "      <td>14.0</td>\n",
       "      <td>4</td>\n",
       "      <td>0</td>\n",
       "      <td>8</td>\n",
       "      <td>30</td>\n",
       "      <td>'In Moderation'</td>\n",
       "    </tr>\n",
       "    <tr>\n",
       "      <th>2795</th>\n",
       "      <td>80.0</td>\n",
       "      <td>1</td>\n",
       "      <td>0.0</td>\n",
       "      <td>0.0</td>\n",
       "      <td>0.0</td>\n",
       "      <td>0.0</td>\n",
       "      <td>10</td>\n",
       "      <td>660.0</td>\n",
       "      <td>12.0</td>\n",
       "      <td>2.0</td>\n",
       "      <td>4.0</td>\n",
       "      <td>0</td>\n",
       "      <td>7.0</td>\n",
       "      <td>15</td>\n",
       "      <td>0</td>\n",
       "      <td>2</td>\n",
       "      <td>4</td>\n",
       "      <td>'In Moderation'</td>\n",
       "    </tr>\n",
       "    <tr>\n",
       "      <th>3837</th>\n",
       "      <td>60.0</td>\n",
       "      <td>0</td>\n",
       "      <td>0.0</td>\n",
       "      <td>0.0</td>\n",
       "      <td>0.0</td>\n",
       "      <td>0.0</td>\n",
       "      <td>0</td>\n",
       "      <td>0.0</td>\n",
       "      <td>11.0</td>\n",
       "      <td>1.0</td>\n",
       "      <td>0.0</td>\n",
       "      <td>0</td>\n",
       "      <td>2.0</td>\n",
       "      <td>0</td>\n",
       "      <td>0</td>\n",
       "      <td>0</td>\n",
       "      <td>25</td>\n",
       "      <td>'In Moderation'</td>\n",
       "    </tr>\n",
       "    <tr>\n",
       "      <th>8523</th>\n",
       "      <td>175.0</td>\n",
       "      <td>9</td>\n",
       "      <td>3.5</td>\n",
       "      <td>0.0</td>\n",
       "      <td>0.0</td>\n",
       "      <td>0.0</td>\n",
       "      <td>60</td>\n",
       "      <td>60.0</td>\n",
       "      <td>0.0</td>\n",
       "      <td>0.0</td>\n",
       "      <td>0.0</td>\n",
       "      <td>0</td>\n",
       "      <td>24.0</td>\n",
       "      <td>0</td>\n",
       "      <td>0</td>\n",
       "      <td>0</td>\n",
       "      <td>0</td>\n",
       "      <td>'Less Often'</td>\n",
       "    </tr>\n",
       "    <tr>\n",
       "      <th>4185</th>\n",
       "      <td>80.0</td>\n",
       "      <td>0</td>\n",
       "      <td>0.0</td>\n",
       "      <td>0.0</td>\n",
       "      <td>0.0</td>\n",
       "      <td>0.0</td>\n",
       "      <td>0</td>\n",
       "      <td>60.0</td>\n",
       "      <td>6.0</td>\n",
       "      <td>0.0</td>\n",
       "      <td>6.0</td>\n",
       "      <td>0</td>\n",
       "      <td>15.0</td>\n",
       "      <td>0</td>\n",
       "      <td>0</td>\n",
       "      <td>20</td>\n",
       "      <td>0</td>\n",
       "      <td>'In Moderation'</td>\n",
       "    </tr>\n",
       "  </tbody>\n",
       "</table>\n",
       "</div>"
      ],
      "text/plain": [
       "       Calories  Total Fat  Saturated Fat  Monounsaturated Fat  \\\n",
       "10302      15.0          0            0.0                  0.0   \n",
       "5068      180.0          4            1.5                  1.0   \n",
       "3397      190.0          7            1.0                  0.0   \n",
       "8041      360.0         12            4.0                  0.0   \n",
       "6165       50.0          2            0.0                  0.0   \n",
       "12406      90.0          2            0.0                  1.0   \n",
       "2795       80.0          1            0.0                  0.0   \n",
       "3837       60.0          0            0.0                  0.0   \n",
       "8523      175.0          9            3.5                  0.0   \n",
       "4185       80.0          0            0.0                  0.0   \n",
       "\n",
       "       Polyunsaturated Fat  Trans Fat  Cholesterol  Sodium  \\\n",
       "10302                  0.0        0.0            0   360.0   \n",
       "5068                   0.0        0.5            0   280.0   \n",
       "3397                   0.0        0.0            0   170.0   \n",
       "8041                   0.0        0.0           35   800.0   \n",
       "6165                   0.0        0.0            5   290.0   \n",
       "12406                  1.0        0.0            0   330.0   \n",
       "2795                   0.0        0.0           10   660.0   \n",
       "3837                   0.0        0.0            0     0.0   \n",
       "8523                   0.0        0.0           60    60.0   \n",
       "4185                   0.0        0.0            0    60.0   \n",
       "\n",
       "       Total Carbohydrate  Dietary Fiber  Sugars  Sugar Alcohol  Protein  \\\n",
       "10302                 4.0            0.0     0.0              0      0.0   \n",
       "5068                 34.0            0.0    19.0              0      1.0   \n",
       "3397                 29.0            2.0    12.0              0      4.0   \n",
       "8041                 44.0            0.0     7.0              0     18.0   \n",
       "6165                  9.0            0.0     5.0              0      0.0   \n",
       "12406                 4.0            2.0     0.0              0     14.0   \n",
       "2795                 12.0            2.0     4.0              0      7.0   \n",
       "3837                 11.0            1.0     0.0              0      2.0   \n",
       "8523                  0.0            0.0     0.0              0     24.0   \n",
       "4185                  6.0            0.0     6.0              0     15.0   \n",
       "\n",
       "       Vitamin A  Vitamin C  Calcium  Iron            class  \n",
       "10302          0          0        0     2  'In Moderation'  \n",
       "5068           0          0        8     6     'Less Often'  \n",
       "3397           0          0        0     4  'In Moderation'  \n",
       "8041           6          0       10     6  'In Moderation'  \n",
       "6165           0          0        0     0  'In Moderation'  \n",
       "12406          4          0        8    30  'In Moderation'  \n",
       "2795          15          0        2     4  'In Moderation'  \n",
       "3837           0          0        0    25  'In Moderation'  \n",
       "8523           0          0        0     0     'Less Often'  \n",
       "4185           0          0       20     0  'In Moderation'  "
      ]
     },
     "execution_count": 6,
     "metadata": {},
     "output_type": "execute_result"
    }
   ],
   "source": [
    "food_df.sample(10)"
   ]
  },
  {
   "cell_type": "code",
   "execution_count": 7,
   "id": "b51e2424-34b6-4abf-9a1c-a46c2f6cd2cf",
   "metadata": {},
   "outputs": [
    {
     "data": {
      "text/plain": [
       "['Calories',\n",
       " 'Total Fat',\n",
       " 'Saturated Fat',\n",
       " 'Monounsaturated Fat',\n",
       " 'Polyunsaturated Fat',\n",
       " 'Trans Fat',\n",
       " 'Cholesterol',\n",
       " 'Sodium',\n",
       " 'Total Carbohydrate',\n",
       " 'Dietary Fiber',\n",
       " 'Sugars',\n",
       " 'Sugar Alcohol',\n",
       " 'Protein',\n",
       " 'Vitamin A',\n",
       " 'Vitamin C',\n",
       " 'Calcium',\n",
       " 'Iron']"
      ]
     },
     "execution_count": 7,
     "metadata": {},
     "output_type": "execute_result"
    }
   ],
   "source": [
    "feature_cols = list(food_df.iloc[:, :-1].columns)\n",
    "feature_cols"
   ]
  },
  {
   "cell_type": "code",
   "execution_count": 8,
   "id": "a8cea567-4857-4a70-8650-bacd749aa83f",
   "metadata": {},
   "outputs": [
    {
     "data": {
      "text/html": [
       "<div>\n",
       "<style scoped>\n",
       "    .dataframe tbody tr th:only-of-type {\n",
       "        vertical-align: middle;\n",
       "    }\n",
       "\n",
       "    .dataframe tbody tr th {\n",
       "        vertical-align: top;\n",
       "    }\n",
       "\n",
       "    .dataframe thead th {\n",
       "        text-align: right;\n",
       "    }\n",
       "</style>\n",
       "<table border=\"1\" class=\"dataframe\">\n",
       "  <thead>\n",
       "    <tr style=\"text-align: right;\">\n",
       "      <th></th>\n",
       "      <th>Calories</th>\n",
       "      <th>Total Fat</th>\n",
       "      <th>Saturated Fat</th>\n",
       "      <th>Monounsaturated Fat</th>\n",
       "      <th>Polyunsaturated Fat</th>\n",
       "      <th>Trans Fat</th>\n",
       "      <th>Cholesterol</th>\n",
       "      <th>Sodium</th>\n",
       "      <th>Total Carbohydrate</th>\n",
       "      <th>Dietary Fiber</th>\n",
       "      <th>Sugars</th>\n",
       "      <th>Sugar Alcohol</th>\n",
       "      <th>Protein</th>\n",
       "      <th>Vitamin A</th>\n",
       "      <th>Vitamin C</th>\n",
       "      <th>Calcium</th>\n",
       "      <th>Iron</th>\n",
       "    </tr>\n",
       "  </thead>\n",
       "  <tbody>\n",
       "    <tr>\n",
       "      <th>count</th>\n",
       "      <td>13260.000000</td>\n",
       "      <td>13260.000000</td>\n",
       "      <td>13260.000000</td>\n",
       "      <td>13260.000000</td>\n",
       "      <td>13260.000000</td>\n",
       "      <td>13260.000000</td>\n",
       "      <td>13260.000000</td>\n",
       "      <td>13260.000000</td>\n",
       "      <td>13260.000000</td>\n",
       "      <td>13260.000000</td>\n",
       "      <td>13260.000000</td>\n",
       "      <td>13260.000000</td>\n",
       "      <td>13260.000000</td>\n",
       "      <td>13260.000000</td>\n",
       "      <td>13260.000000</td>\n",
       "      <td>13260.000000</td>\n",
       "      <td>13260.000000</td>\n",
       "    </tr>\n",
       "    <tr>\n",
       "      <th>mean</th>\n",
       "      <td>133.861086</td>\n",
       "      <td>4.475264</td>\n",
       "      <td>1.450617</td>\n",
       "      <td>0.338069</td>\n",
       "      <td>0.254660</td>\n",
       "      <td>0.047459</td>\n",
       "      <td>8.857692</td>\n",
       "      <td>241.867142</td>\n",
       "      <td>18.232020</td>\n",
       "      <td>1.602971</td>\n",
       "      <td>6.645234</td>\n",
       "      <td>0.117949</td>\n",
       "      <td>4.661333</td>\n",
       "      <td>6.287632</td>\n",
       "      <td>6.741855</td>\n",
       "      <td>5.175264</td>\n",
       "      <td>5.235671</td>\n",
       "    </tr>\n",
       "    <tr>\n",
       "      <th>std</th>\n",
       "      <td>94.227650</td>\n",
       "      <td>5.386340</td>\n",
       "      <td>2.410318</td>\n",
       "      <td>1.345852</td>\n",
       "      <td>2.230586</td>\n",
       "      <td>0.321402</td>\n",
       "      <td>20.976530</td>\n",
       "      <td>272.284363</td>\n",
       "      <td>14.786316</td>\n",
       "      <td>3.363879</td>\n",
       "      <td>8.328465</td>\n",
       "      <td>1.121529</td>\n",
       "      <td>5.611143</td>\n",
       "      <td>18.374191</td>\n",
       "      <td>23.785100</td>\n",
       "      <td>8.779637</td>\n",
       "      <td>9.119459</td>\n",
       "    </tr>\n",
       "    <tr>\n",
       "      <th>min</th>\n",
       "      <td>0.000000</td>\n",
       "      <td>0.000000</td>\n",
       "      <td>0.000000</td>\n",
       "      <td>0.000000</td>\n",
       "      <td>0.000000</td>\n",
       "      <td>0.000000</td>\n",
       "      <td>0.000000</td>\n",
       "      <td>0.000000</td>\n",
       "      <td>0.000000</td>\n",
       "      <td>0.000000</td>\n",
       "      <td>0.000000</td>\n",
       "      <td>0.000000</td>\n",
       "      <td>0.000000</td>\n",
       "      <td>0.000000</td>\n",
       "      <td>0.000000</td>\n",
       "      <td>0.000000</td>\n",
       "      <td>0.000000</td>\n",
       "    </tr>\n",
       "    <tr>\n",
       "      <th>25%</th>\n",
       "      <td>70.000000</td>\n",
       "      <td>0.000000</td>\n",
       "      <td>0.000000</td>\n",
       "      <td>0.000000</td>\n",
       "      <td>0.000000</td>\n",
       "      <td>0.000000</td>\n",
       "      <td>0.000000</td>\n",
       "      <td>40.000000</td>\n",
       "      <td>5.000000</td>\n",
       "      <td>0.000000</td>\n",
       "      <td>0.000000</td>\n",
       "      <td>0.000000</td>\n",
       "      <td>1.000000</td>\n",
       "      <td>0.000000</td>\n",
       "      <td>0.000000</td>\n",
       "      <td>0.000000</td>\n",
       "      <td>0.000000</td>\n",
       "    </tr>\n",
       "    <tr>\n",
       "      <th>50%</th>\n",
       "      <td>120.000000</td>\n",
       "      <td>3.000000</td>\n",
       "      <td>0.500000</td>\n",
       "      <td>0.000000</td>\n",
       "      <td>0.000000</td>\n",
       "      <td>0.000000</td>\n",
       "      <td>0.000000</td>\n",
       "      <td>135.000000</td>\n",
       "      <td>17.000000</td>\n",
       "      <td>1.000000</td>\n",
       "      <td>3.000000</td>\n",
       "      <td>0.000000</td>\n",
       "      <td>3.000000</td>\n",
       "      <td>0.000000</td>\n",
       "      <td>0.000000</td>\n",
       "      <td>2.000000</td>\n",
       "      <td>2.000000</td>\n",
       "    </tr>\n",
       "    <tr>\n",
       "      <th>75%</th>\n",
       "      <td>180.000000</td>\n",
       "      <td>7.000000</td>\n",
       "      <td>2.000000</td>\n",
       "      <td>0.000000</td>\n",
       "      <td>0.000000</td>\n",
       "      <td>0.000000</td>\n",
       "      <td>10.000000</td>\n",
       "      <td>370.000000</td>\n",
       "      <td>27.000000</td>\n",
       "      <td>2.000000</td>\n",
       "      <td>11.000000</td>\n",
       "      <td>0.000000</td>\n",
       "      <td>7.000000</td>\n",
       "      <td>6.000000</td>\n",
       "      <td>2.000000</td>\n",
       "      <td>6.000000</td>\n",
       "      <td>8.000000</td>\n",
       "    </tr>\n",
       "    <tr>\n",
       "      <th>max</th>\n",
       "      <td>2210.000000</td>\n",
       "      <td>43.000000</td>\n",
       "      <td>22.000000</td>\n",
       "      <td>40.000000</td>\n",
       "      <td>235.000000</td>\n",
       "      <td>11.000000</td>\n",
       "      <td>450.000000</td>\n",
       "      <td>2431.000000</td>\n",
       "      <td>270.000000</td>\n",
       "      <td>305.000000</td>\n",
       "      <td>115.000000</td>\n",
       "      <td>31.000000</td>\n",
       "      <td>70.000000</td>\n",
       "      <td>622.000000</td>\n",
       "      <td>1000.000000</td>\n",
       "      <td>110.000000</td>\n",
       "      <td>170.000000</td>\n",
       "    </tr>\n",
       "  </tbody>\n",
       "</table>\n",
       "</div>"
      ],
      "text/plain": [
       "           Calories     Total Fat  Saturated Fat  Monounsaturated Fat  \\\n",
       "count  13260.000000  13260.000000   13260.000000         13260.000000   \n",
       "mean     133.861086      4.475264       1.450617             0.338069   \n",
       "std       94.227650      5.386340       2.410318             1.345852   \n",
       "min        0.000000      0.000000       0.000000             0.000000   \n",
       "25%       70.000000      0.000000       0.000000             0.000000   \n",
       "50%      120.000000      3.000000       0.500000             0.000000   \n",
       "75%      180.000000      7.000000       2.000000             0.000000   \n",
       "max     2210.000000     43.000000      22.000000            40.000000   \n",
       "\n",
       "       Polyunsaturated Fat     Trans Fat   Cholesterol        Sodium  \\\n",
       "count         13260.000000  13260.000000  13260.000000  13260.000000   \n",
       "mean              0.254660      0.047459      8.857692    241.867142   \n",
       "std               2.230586      0.321402     20.976530    272.284363   \n",
       "min               0.000000      0.000000      0.000000      0.000000   \n",
       "25%               0.000000      0.000000      0.000000     40.000000   \n",
       "50%               0.000000      0.000000      0.000000    135.000000   \n",
       "75%               0.000000      0.000000     10.000000    370.000000   \n",
       "max             235.000000     11.000000    450.000000   2431.000000   \n",
       "\n",
       "       Total Carbohydrate  Dietary Fiber        Sugars  Sugar Alcohol  \\\n",
       "count        13260.000000   13260.000000  13260.000000   13260.000000   \n",
       "mean            18.232020       1.602971      6.645234       0.117949   \n",
       "std             14.786316       3.363879      8.328465       1.121529   \n",
       "min              0.000000       0.000000      0.000000       0.000000   \n",
       "25%              5.000000       0.000000      0.000000       0.000000   \n",
       "50%             17.000000       1.000000      3.000000       0.000000   \n",
       "75%             27.000000       2.000000     11.000000       0.000000   \n",
       "max            270.000000     305.000000    115.000000      31.000000   \n",
       "\n",
       "            Protein     Vitamin A     Vitamin C       Calcium          Iron  \n",
       "count  13260.000000  13260.000000  13260.000000  13260.000000  13260.000000  \n",
       "mean       4.661333      6.287632      6.741855      5.175264      5.235671  \n",
       "std        5.611143     18.374191     23.785100      8.779637      9.119459  \n",
       "min        0.000000      0.000000      0.000000      0.000000      0.000000  \n",
       "25%        1.000000      0.000000      0.000000      0.000000      0.000000  \n",
       "50%        3.000000      0.000000      0.000000      2.000000      2.000000  \n",
       "75%        7.000000      6.000000      2.000000      6.000000      8.000000  \n",
       "max       70.000000    622.000000   1000.000000    110.000000    170.000000  "
      ]
     },
     "execution_count": 8,
     "metadata": {},
     "output_type": "execute_result"
    }
   ],
   "source": [
    "food_df.iloc[:, :-1].describe()"
   ]
  },
  {
   "cell_type": "code",
   "execution_count": 9,
   "id": "a16406c0-abe4-470e-ac18-052673e8eb31",
   "metadata": {},
   "outputs": [
    {
     "data": {
      "text/plain": [
       "<AxesSubplot:xlabel='class'>"
      ]
     },
     "execution_count": 9,
     "metadata": {},
     "output_type": "execute_result"
    },
    {
     "data": {
      "image/png": "[encoded data removed]",
      "text/plain": [
       "<Figure size 432x288 with 1 Axes>"
      ]
     },
     "metadata": {
      "needs_background": "light"
     },
     "output_type": "display_data"
    }
   ],
   "source": [
    "food_df.iloc[:, -1:].value_counts(normalize=True)\n",
    "food_df.iloc[:, -1:].value_counts().plot.bar(color=['yellow', 'red', 'green'])"
   ]
  },
  {
   "cell_type": "markdown",
   "id": "ba3aba95-10b8-43b6-be84-5bc92c6da9f3",
   "metadata": {},
   "source": [
    "### Ingenieria de características"
   ]
  },
  {
   "cell_type": "code",
   "execution_count": 11,
   "id": "39ef50f8-09e9-44cc-a65e-f300e71cbec0",
   "metadata": {},
   "outputs": [
    {
     "data": {
      "text/html": [
       "<div>\n",
       "<style scoped>\n",
       "    .dataframe tbody tr th:only-of-type {\n",
       "        vertical-align: middle;\n",
       "    }\n",
       "\n",
       "    .dataframe tbody tr th {\n",
       "        vertical-align: top;\n",
       "    }\n",
       "\n",
       "    .dataframe thead th {\n",
       "        text-align: right;\n",
       "    }\n",
       "</style>\n",
       "<table border=\"1\" class=\"dataframe\">\n",
       "  <thead>\n",
       "    <tr style=\"text-align: right;\">\n",
       "      <th></th>\n",
       "      <th>Calories</th>\n",
       "      <th>Total Fat</th>\n",
       "      <th>Saturated Fat</th>\n",
       "      <th>Monounsaturated Fat</th>\n",
       "      <th>Polyunsaturated Fat</th>\n",
       "      <th>Trans Fat</th>\n",
       "      <th>Cholesterol</th>\n",
       "      <th>Sodium</th>\n",
       "      <th>Total Carbohydrate</th>\n",
       "      <th>Dietary Fiber</th>\n",
       "      <th>Sugars</th>\n",
       "      <th>Sugar Alcohol</th>\n",
       "      <th>Protein</th>\n",
       "      <th>Vitamin A</th>\n",
       "      <th>Vitamin C</th>\n",
       "      <th>Calcium</th>\n",
       "      <th>Iron</th>\n",
       "    </tr>\n",
       "  </thead>\n",
       "  <tbody>\n",
       "    <tr>\n",
       "      <th>count</th>\n",
       "      <td>1.326000e+04</td>\n",
       "      <td>1.326000e+04</td>\n",
       "      <td>1.326000e+04</td>\n",
       "      <td>1.326000e+04</td>\n",
       "      <td>1.326000e+04</td>\n",
       "      <td>1.326000e+04</td>\n",
       "      <td>1.326000e+04</td>\n",
       "      <td>1.326000e+04</td>\n",
       "      <td>1.326000e+04</td>\n",
       "      <td>1.326000e+04</td>\n",
       "      <td>1.326000e+04</td>\n",
       "      <td>1.326000e+04</td>\n",
       "      <td>1.326000e+04</td>\n",
       "      <td>1.326000e+04</td>\n",
       "      <td>1.326000e+04</td>\n",
       "      <td>1.326000e+04</td>\n",
       "      <td>1.326000e+04</td>\n",
       "    </tr>\n",
       "    <tr>\n",
       "      <th>mean</th>\n",
       "      <td>7.716301e-17</td>\n",
       "      <td>-1.714734e-17</td>\n",
       "      <td>-5.144201e-17</td>\n",
       "      <td>5.358543e-18</td>\n",
       "      <td>1.286050e-17</td>\n",
       "      <td>1.286050e-17</td>\n",
       "      <td>3.429467e-17</td>\n",
       "      <td>1.714734e-17</td>\n",
       "      <td>-1.050274e-16</td>\n",
       "      <td>-3.858151e-17</td>\n",
       "      <td>3.429467e-17</td>\n",
       "      <td>-4.286834e-18</td>\n",
       "      <td>-4.286834e-17</td>\n",
       "      <td>-1.714734e-17</td>\n",
       "      <td>3.429467e-17</td>\n",
       "      <td>-5.144201e-17</td>\n",
       "      <td>4.286834e-18</td>\n",
       "    </tr>\n",
       "    <tr>\n",
       "      <th>std</th>\n",
       "      <td>1.000038e+00</td>\n",
       "      <td>1.000038e+00</td>\n",
       "      <td>1.000038e+00</td>\n",
       "      <td>1.000038e+00</td>\n",
       "      <td>1.000038e+00</td>\n",
       "      <td>1.000038e+00</td>\n",
       "      <td>1.000038e+00</td>\n",
       "      <td>1.000038e+00</td>\n",
       "      <td>1.000038e+00</td>\n",
       "      <td>1.000038e+00</td>\n",
       "      <td>1.000038e+00</td>\n",
       "      <td>1.000038e+00</td>\n",
       "      <td>1.000038e+00</td>\n",
       "      <td>1.000038e+00</td>\n",
       "      <td>1.000038e+00</td>\n",
       "      <td>1.000038e+00</td>\n",
       "      <td>1.000038e+00</td>\n",
       "    </tr>\n",
       "    <tr>\n",
       "      <th>min</th>\n",
       "      <td>-1.420667e+00</td>\n",
       "      <td>-8.308856e-01</td>\n",
       "      <td>-6.018590e-01</td>\n",
       "      <td>-2.512031e-01</td>\n",
       "      <td>-1.141714e-01</td>\n",
       "      <td>-1.476665e-01</td>\n",
       "      <td>-4.222827e-01</td>\n",
       "      <td>-8.883223e-01</td>\n",
       "      <td>-1.233080e+00</td>\n",
       "      <td>-4.765426e-01</td>\n",
       "      <td>-7.979243e-01</td>\n",
       "      <td>-1.051718e-01</td>\n",
       "      <td>-8.307592e-01</td>\n",
       "      <td>-3.422120e-01</td>\n",
       "      <td>-2.834594e-01</td>\n",
       "      <td>-5.894844e-01</td>\n",
       "      <td>-5.741425e-01</td>\n",
       "    </tr>\n",
       "    <tr>\n",
       "      <th>25%</th>\n",
       "      <td>-6.777575e-01</td>\n",
       "      <td>-8.308856e-01</td>\n",
       "      <td>-6.018590e-01</td>\n",
       "      <td>-2.512031e-01</td>\n",
       "      <td>-1.141714e-01</td>\n",
       "      <td>-1.476665e-01</td>\n",
       "      <td>-4.222827e-01</td>\n",
       "      <td>-7.414115e-01</td>\n",
       "      <td>-8.949165e-01</td>\n",
       "      <td>-4.765426e-01</td>\n",
       "      <td>-7.979243e-01</td>\n",
       "      <td>-1.051718e-01</td>\n",
       "      <td>-6.525356e-01</td>\n",
       "      <td>-3.422120e-01</td>\n",
       "      <td>-2.834594e-01</td>\n",
       "      <td>-5.894844e-01</td>\n",
       "      <td>-5.741425e-01</td>\n",
       "    </tr>\n",
       "    <tr>\n",
       "      <th>50%</th>\n",
       "      <td>-1.471077e-01</td>\n",
       "      <td>-2.739002e-01</td>\n",
       "      <td>-3.944097e-01</td>\n",
       "      <td>-2.512031e-01</td>\n",
       "      <td>-1.141714e-01</td>\n",
       "      <td>-1.476665e-01</td>\n",
       "      <td>-4.222827e-01</td>\n",
       "      <td>-3.924984e-01</td>\n",
       "      <td>-8.332475e-02</td>\n",
       "      <td>-1.792556e-01</td>\n",
       "      <td>-4.377002e-01</td>\n",
       "      <td>-1.051718e-01</td>\n",
       "      <td>-2.960886e-01</td>\n",
       "      <td>-3.422120e-01</td>\n",
       "      <td>-2.834594e-01</td>\n",
       "      <td>-3.616759e-01</td>\n",
       "      <td>-3.548229e-01</td>\n",
       "    </tr>\n",
       "    <tr>\n",
       "      <th>75%</th>\n",
       "      <td>4.896721e-01</td>\n",
       "      <td>4.687471e-01</td>\n",
       "      <td>2.279383e-01</td>\n",
       "      <td>-2.512031e-01</td>\n",
       "      <td>-1.141714e-01</td>\n",
       "      <td>-1.476665e-01</td>\n",
       "      <td>5.445852e-02</td>\n",
       "      <td>4.706025e-01</td>\n",
       "      <td>5.930017e-01</td>\n",
       "      <td>1.180315e-01</td>\n",
       "      <td>5.228971e-01</td>\n",
       "      <td>-1.051718e-01</td>\n",
       "      <td>4.168056e-01</td>\n",
       "      <td>-1.565472e-02</td>\n",
       "      <td>-1.993699e-01</td>\n",
       "      <td>9.394091e-02</td>\n",
       "      <td>3.031356e-01</td>\n",
       "    </tr>\n",
       "    <tr>\n",
       "      <th>max</th>\n",
       "      <td>2.203405e+01</td>\n",
       "      <td>7.152572e+00</td>\n",
       "      <td>8.525912e+00</td>\n",
       "      <td>2.947087e+01</td>\n",
       "      <td>1.052433e+02</td>\n",
       "      <td>3.407868e+01</td>\n",
       "      <td>2.103107e+01</td>\n",
       "      <td>8.040180e+00</td>\n",
       "      <td>1.702773e+01</td>\n",
       "      <td>9.019601e+01</td>\n",
       "      <td>1.301066e+01</td>\n",
       "      <td>2.753671e+01</td>\n",
       "      <td>1.164489e+01</td>\n",
       "      <td>3.351089e+01</td>\n",
       "      <td>4.176125e+01</td>\n",
       "      <td>1.193998e+01</td>\n",
       "      <td>1.806802e+01</td>\n",
       "    </tr>\n",
       "  </tbody>\n",
       "</table>\n",
       "</div>"
      ],
      "text/plain": [
       "           Calories     Total Fat  Saturated Fat  Monounsaturated Fat  \\\n",
       "count  1.326000e+04  1.326000e+04   1.326000e+04         1.326000e+04   \n",
       "mean   7.716301e-17 -1.714734e-17  -5.144201e-17         5.358543e-18   \n",
       "std    1.000038e+00  1.000038e+00   1.000038e+00         1.000038e+00   \n",
       "min   -1.420667e+00 -8.308856e-01  -6.018590e-01        -2.512031e-01   \n",
       "25%   -6.777575e-01 -8.308856e-01  -6.018590e-01        -2.512031e-01   \n",
       "50%   -1.471077e-01 -2.739002e-01  -3.944097e-01        -2.512031e-01   \n",
       "75%    4.896721e-01  4.687471e-01   2.279383e-01        -2.512031e-01   \n",
       "max    2.203405e+01  7.152572e+00   8.525912e+00         2.947087e+01   \n",
       "\n",
       "       Polyunsaturated Fat     Trans Fat   Cholesterol        Sodium  \\\n",
       "count         1.326000e+04  1.326000e+04  1.326000e+04  1.326000e+04   \n",
       "mean          1.286050e-17  1.286050e-17  3.429467e-17  1.714734e-17   \n",
       "std           1.000038e+00  1.000038e+00  1.000038e+00  1.000038e+00   \n",
       "min          -1.141714e-01 -1.476665e-01 -4.222827e-01 -8.883223e-01   \n",
       "25%          -1.141714e-01 -1.476665e-01 -4.222827e-01 -7.414115e-01   \n",
       "50%          -1.141714e-01 -1.476665e-01 -4.222827e-01 -3.924984e-01   \n",
       "75%          -1.141714e-01 -1.476665e-01  5.445852e-02  4.706025e-01   \n",
       "max           1.052433e+02  3.407868e+01  2.103107e+01  8.040180e+00   \n",
       "\n",
       "       Total Carbohydrate  Dietary Fiber        Sugars  Sugar Alcohol  \\\n",
       "count        1.326000e+04   1.326000e+04  1.326000e+04   1.326000e+04   \n",
       "mean        -1.050274e-16  -3.858151e-17  3.429467e-17  -4.286834e-18   \n",
       "std          1.000038e+00   1.000038e+00  1.000038e+00   1.000038e+00   \n",
       "min         -1.233080e+00  -4.765426e-01 -7.979243e-01  -1.051718e-01   \n",
       "25%         -8.949165e-01  -4.765426e-01 -7.979243e-01  -1.051718e-01   \n",
       "50%         -8.332475e-02  -1.792556e-01 -4.377002e-01  -1.051718e-01   \n",
       "75%          5.930017e-01   1.180315e-01  5.228971e-01  -1.051718e-01   \n",
       "max          1.702773e+01   9.019601e+01  1.301066e+01   2.753671e+01   \n",
       "\n",
       "            Protein     Vitamin A     Vitamin C       Calcium          Iron  \n",
       "count  1.326000e+04  1.326000e+04  1.326000e+04  1.326000e+04  1.326000e+04  \n",
       "mean  -4.286834e-17 -1.714734e-17  3.429467e-17 -5.144201e-17  4.286834e-18  \n",
       "std    1.000038e+00  1.000038e+00  1.000038e+00  1.000038e+00  1.000038e+00  \n",
       "min   -8.307592e-01 -3.422120e-01 -2.834594e-01 -5.894844e-01 -5.741425e-01  \n",
       "25%   -6.525356e-01 -3.422120e-01 -2.834594e-01 -5.894844e-01 -5.741425e-01  \n",
       "50%   -2.960886e-01 -3.422120e-01 -2.834594e-01 -3.616759e-01 -3.548229e-01  \n",
       "75%    4.168056e-01 -1.565472e-02 -1.993699e-01  9.394091e-02  3.031356e-01  \n",
       "max    1.164489e+01  3.351089e+01  4.176125e+01  1.193998e+01  1.806802e+01  "
      ]
     },
     "execution_count": 11,
     "metadata": {},
     "output_type": "execute_result"
    }
   ],
   "source": [
    "X_raw = food_df.iloc[:, :-1]\n",
    "y_raw = food_df.iloc[:, -1:]\n",
    "scaler = StandardScaler()\n",
    "X = scaler.fit_transform(X_raw)\n",
    "pd.DataFrame(X,columns=feature_cols).describe()"
   ]
  },
  {
   "cell_type": "code",
   "execution_count": 13,
   "id": "972f7e5c-2662-484f-a859-09ddee5ba9a8",
   "metadata": {},
   "outputs": [
    {
     "data": {
      "text/plain": [
       "array([\"'In Moderation'\", \"'In Moderation'\", \"'In Moderation'\", ...,\n",
       "       \"'In Moderation'\", \"'In Moderation'\", \"'In Moderation'\"],\n",
       "      dtype=object)"
      ]
     },
     "execution_count": 13,
     "metadata": {},
     "output_type": "execute_result"
    }
   ],
   "source": [
    "y_raw.values.ravel()"
   ]
  },
  {
   "cell_type": "code",
   "execution_count": 15,
   "id": "c12b3fdd-b7c5-464d-a4a3-d06a37701fea",
   "metadata": {},
   "outputs": [],
   "source": [
    "label_encoder = LabelEncoder()\n",
    "y = label_encoder.fit_transform(y_raw.values.ravel())"
   ]
  },
  {
   "cell_type": "markdown",
   "id": "9203be05-ade3-41c6-917d-1ae3eb52b07f",
   "metadata": {},
   "source": [
    "`0=In Moderation`, `1=Less Often`, `2=More Often`"
   ]
  },
  {
   "cell_type": "code",
   "execution_count": 16,
   "id": "c8b93411-5461-4f3d-999c-2bfcf564f00b",
   "metadata": {},
   "outputs": [
    {
     "data": {
      "text/plain": [
       "(array([0, 1, 2]), array([6649, 5621,  990], dtype=int64))"
      ]
     },
     "execution_count": 16,
     "metadata": {},
     "output_type": "execute_result"
    }
   ],
   "source": [
    "np.unique(y, return_counts=True)"
   ]
  },
  {
   "cell_type": "code",
   "execution_count": 17,
   "id": "6606ec5b-59b2-4a9a-8189-134380c7f8c8",
   "metadata": {},
   "outputs": [
    {
     "data": {
      "text/html": [
       "<style>#sk-container-id-1 {color: black;background-color: white;}#sk-container-id-1 pre{padding: 0;}#sk-container-id-1 div.sk-toggleable {background-color: white;}#sk-container-id-1 label.sk-toggleable__label {cursor: pointer;display: block;width: 100%;margin-bottom: 0;padding: 0.3em;box-sizing: border-box;text-align: center;}#sk-container-id-1 label.sk-toggleable__label-arrow:before {content: \"▸\";float: left;margin-right: 0.25em;color: #696969;}#sk-container-id-1 label.sk-toggleable__label-arrow:hover:before {color: black;}#sk-container-id-1 div.sk-estimator:hover label.sk-toggleable__label-arrow:before {color: black;}#sk-container-id-1 div.sk-toggleable__content {max-height: 0;max-width: 0;overflow: hidden;text-align: left;background-color: #f0f8ff;}#sk-container-id-1 div.sk-toggleable__content pre {margin: 0.2em;color: black;border-radius: 0.25em;background-color: #f0f8ff;}#sk-container-id-1 input.sk-toggleable__control:checked~div.sk-toggleable__content {max-height: 200px;max-width: 100%;overflow: auto;}#sk-container-id-1 input.sk-toggleable__control:checked~label.sk-toggleable__label-arrow:before {content: \"▾\";}#sk-container-id-1 div.sk-estimator input.sk-toggleable__control:checked~label.sk-toggleable__label {background-color: #d4ebff;}#sk-container-id-1 div.sk-label input.sk-toggleable__control:checked~label.sk-toggleable__label {background-color: #d4ebff;}#sk-container-id-1 input.sk-hidden--visually {border: 0;clip: rect(1px 1px 1px 1px);clip: rect(1px, 1px, 1px, 1px);height: 1px;margin: -1px;overflow: hidden;padding: 0;position: absolute;width: 1px;}#sk-container-id-1 div.sk-estimator {font-family: monospace;background-color: #f0f8ff;border: 1px dotted black;border-radius: 0.25em;box-sizing: border-box;margin-bottom: 0.5em;}#sk-container-id-1 div.sk-estimator:hover {background-color: #d4ebff;}#sk-container-id-1 div.sk-parallel-item::after {content: \"\";width: 100%;border-bottom: 1px solid gray;flex-grow: 1;}#sk-container-id-1 div.sk-label:hover label.sk-toggleable__label {background-color: #d4ebff;}#sk-container-id-1 div.sk-serial::before {content: \"\";position: absolute;border-left: 1px solid gray;box-sizing: border-box;top: 0;bottom: 0;left: 50%;z-index: 0;}#sk-container-id-1 div.sk-serial {display: flex;flex-direction: column;align-items: center;background-color: white;padding-right: 0.2em;padding-left: 0.2em;position: relative;}#sk-container-id-1 div.sk-item {position: relative;z-index: 1;}#sk-container-id-1 div.sk-parallel {display: flex;align-items: stretch;justify-content: center;background-color: white;position: relative;}#sk-container-id-1 div.sk-item::before, #sk-container-id-1 div.sk-parallel-item::before {content: \"\";position: absolute;border-left: 1px solid gray;box-sizing: border-box;top: 0;bottom: 0;left: 50%;z-index: -1;}#sk-container-id-1 div.sk-parallel-item {display: flex;flex-direction: column;z-index: 1;position: relative;background-color: white;}#sk-container-id-1 div.sk-parallel-item:first-child::after {align-self: flex-end;width: 50%;}#sk-container-id-1 div.sk-parallel-item:last-child::after {align-self: flex-start;width: 50%;}#sk-container-id-1 div.sk-parallel-item:only-child::after {width: 0;}#sk-container-id-1 div.sk-dashed-wrapped {border: 1px dashed gray;margin: 0 0.4em 0.5em 0.4em;box-sizing: border-box;padding-bottom: 0.4em;background-color: white;}#sk-container-id-1 div.sk-label label {font-family: monospace;font-weight: bold;display: inline-block;line-height: 1.2em;}#sk-container-id-1 div.sk-label-container {text-align: center;}#sk-container-id-1 div.sk-container {/* jupyter's `normalize.less` sets `[hidden] { display: none; }` but bootstrap.min.css set `[hidden] { display: none !important; }` so we also need the `!important` here to be able to override the default hidden behavior on the sphinx rendered scikit-learn.org. See: https://github.com/scikit-learn/scikit-learn/issues/21755 */display: inline-block !important;position: relative;}#sk-container-id-1 div.sk-text-repr-fallback {display: none;}</style><div id=\"sk-container-id-1\" class=\"sk-top-container\"><div class=\"sk-text-repr-fallback\"><pre>LogisticRegression(max_iter=1000, multi_class=&#x27;multinomial&#x27;, random_state=123)</pre><b>In a Jupyter environment, please rerun this cell to show the HTML representation or trust the notebook. <br />On GitHub, the HTML representation is unable to render, please try loading this page with nbviewer.org.</b></div><div class=\"sk-container\" hidden><div class=\"sk-item\"><div class=\"sk-estimator sk-toggleable\"><input class=\"sk-toggleable__control sk-hidden--visually\" id=\"sk-estimator-id-1\" type=\"checkbox\" checked><label for=\"sk-estimator-id-1\" class=\"sk-toggleable__label sk-toggleable__label-arrow\">LogisticRegression</label><div class=\"sk-toggleable__content\"><pre>LogisticRegression(max_iter=1000, multi_class=&#x27;multinomial&#x27;, random_state=123)</pre></div></div></div></div></div>"
      ],
      "text/plain": [
       "LogisticRegression(max_iter=1000, multi_class='multinomial', random_state=123)"
      ]
     },
     "execution_count": 17,
     "metadata": {},
     "output_type": "execute_result"
    }
   ],
   "source": [
    "X_train, X_test, y_train, y_test = train_test_split(X, y, test_size=0.2, stratify=y, random_state = 123)\n",
    "\n",
    "penalty= 'l2'\n",
    "multi_class = 'multinomial'\n",
    "solver = 'lbfgs'\n",
    "max_iter = 1000\n",
    "\n",
    "l2_model = LogisticRegression(random_state=123, penalty=penalty, multi_class=multi_class, solver=solver, max_iter=max_iter)\n",
    "l2_model.fit(X_train, y_train)"
   ]
  },
  {
   "cell_type": "code",
   "execution_count": 18,
   "id": "8087f4e3-6e3d-4c2a-8a9a-a89aeb101d45",
   "metadata": {},
   "outputs": [],
   "source": [
    "l2_preds = l2_model.predict(X_test)"
   ]
  },
  {
   "cell_type": "code",
   "execution_count": 19,
   "id": "1930eba6-9f2c-48b9-8e81-c512c3bfd551",
   "metadata": {},
   "outputs": [],
   "source": [
    "def evaluate_metrics(yt, yp):\n",
    "    results_pos = {}\n",
    "    results_pos['accuracy'] = accuracy_score(yt, yp)\n",
    "    precision, recall, f_beta, _ = score(yt, yp)\n",
    "    results_pos['recall'] = recall\n",
    "    results_pos['precision'] = precision\n",
    "    results_pos['f1score'] = f_beta\n",
    "    return results_pos"
   ]
  },
  {
   "cell_type": "code",
   "execution_count": 20,
   "id": "d31686d5-0a6d-4351-b9d6-1d07cb5e9547",
   "metadata": {},
   "outputs": [
    {
     "data": {
      "text/plain": [
       "{'accuracy': 0.8125942684766214,\n",
       " 'recall': array([0.85338346, 0.75      , 0.89393939]),\n",
       " 'precision': array([0.79426172, 0.83797217, 0.8156682 ]),\n",
       " 'f1score': array([0.82276187, 0.7915493 , 0.85301205])}"
      ]
     },
     "execution_count": 20,
     "metadata": {},
     "output_type": "execute_result"
    }
   ],
   "source": [
    "evaluate_metrics(y_test, l2_preds)"
   ]
  },
  {
   "cell_type": "code",
   "execution_count": 21,
   "id": "10c5f5d4-b4d4-4b2f-90e9-e137d839703e",
   "metadata": {},
   "outputs": [
    {
     "data": {
      "text/plain": [
       "{'accuracy': 0.8141025641025641,\n",
       " 'recall': array([0.85714286, 0.74822064, 0.8989899 ]),\n",
       " 'precision': array([0.7966457 , 0.83932136, 0.81278539]),\n",
       " 'f1score': array([0.82578776, 0.7911571 , 0.85371703])}"
      ]
     },
     "execution_count": 21,
     "metadata": {},
     "output_type": "execute_result"
    }
   ],
   "source": [
    "penalty= 'l1'\n",
    "multi_class = 'multinomial'\n",
    "solver = 'saga'\n",
    "max_iter = 1000\n",
    "l1_model = LogisticRegression(random_state=123, penalty=penalty, multi_class=multi_class, solver=solver, max_iter = max_iter)\n",
    "l1_model.fit(X_train, y_train);\n",
    "l1_preds = l1_model.predict(X_test)\n",
    "evaluate_metrics(y_test, l1_preds)"
   ]
  },
  {
   "cell_type": "code",
   "execution_count": 58,
   "id": "833ed016-a76a-49ca-9d16-b0efcbb1ab17",
   "metadata": {},
   "outputs": [
    {
     "data": {
      "image/png": "[encoded data removed]",
      "text/plain": [
       "<Figure size 1152x864 with 2 Axes>"
      ]
     },
     "metadata": {
      "needs_background": "light"
     },
     "output_type": "display_data"
    }
   ],
   "source": [
    "cf = confusion_matrix(y_test, l1_preds)\n",
    "plt.figure(figsize=(16, 12))\n",
    "ax = sns.heatmap(cf, annot=True, fmt=\"d\", xticklabels=[\"In Moderation\", \"Less Often\", \"More Often\"], \n",
    "                 yticklabels=[\"In Moderation\", \"Less Often\", \"More Often\"])\n",
    "ax.set(title=\"Confusion Matrix\");"
   ]
  },
  {
   "cell_type": "code",
   "execution_count": 22,
   "id": "3b38ad5c-9465-48f0-834c-1cb9b60e8e7c",
   "metadata": {},
   "outputs": [],
   "source": [
    "def get_feature_coefs(regression_model, label_index, columns):\n",
    "    coef_dict = {}\n",
    "    for coef, feat in zip(regression_model.coef_[label_index, :], columns):\n",
    "        if abs(coef) >= 0.01:\n",
    "            coef_dict[feat] = coef\n",
    "    # Sort coefficients\n",
    "    coef_dict = {k: v for k, v in sorted(coef_dict.items(), key=lambda item: item[1])}\n",
    "    return coef_dict\n",
    "\n",
    "# Generate bar colors based on if value is negative or positive\n",
    "def get_bar_colors(values):\n",
    "    color_vals = []\n",
    "    for val in values:\n",
    "        if val <= 0:\n",
    "            color_vals.append('r')\n",
    "        else:\n",
    "            color_vals.append('g')\n",
    "    return color_vals\n",
    "\n",
    "# Visualize coefficients\n",
    "def visualize_coefs(coef_dict):\n",
    "    features = list(coef_dict.keys())\n",
    "    values = list(coef_dict.values())\n",
    "    y_pos = np.arange(len(features))\n",
    "    color_vals = get_bar_colors(values)\n",
    "    plt.rcdefaults()\n",
    "    fig, ax = plt.subplots()\n",
    "    ax.barh(y_pos, values, align='center', color=color_vals)\n",
    "    ax.set_yticks(y_pos)\n",
    "    ax.set_yticklabels(features)\n",
    "    # labels read top-to-bottom\n",
    "    ax.invert_yaxis()  \n",
    "    ax.set_xlabel('Feature Coefficients')\n",
    "    ax.set_title('')\n",
    "    plt.show()"
   ]
  },
  {
   "cell_type": "code",
   "execution_count": 26,
   "id": "f42be7de-8496-4caf-974c-71d378609fac",
   "metadata": {},
   "outputs": [
    {
     "data": {
      "image/png": "[encoded data removed]",
      "text/plain": [
       "<Figure size 640x480 with 1 Axes>"
      ]
     },
     "metadata": {},
     "output_type": "display_data"
    }
   ],
   "source": [
    "coef_dict = get_feature_coefs(l1_model, 2, feature_cols)\n",
    "visualize_coefs(coef_dict)"
   ]
  },
  {
   "cell_type": "code",
   "execution_count": 27,
   "id": "39d91008-b1f4-461d-aa3b-57972c30d9f8",
   "metadata": {},
   "outputs": [
    {
     "data": {
      "text/plain": [
       "17"
      ]
     },
     "execution_count": 27,
     "metadata": {},
     "output_type": "execute_result"
    }
   ],
   "source": [
    "len(feature_cols)"
   ]
  },
  {
   "cell_type": "code",
   "execution_count": 77,
   "id": "ad6501cc-92a9-4c94-9229-842ea66fbca1",
   "metadata": {},
   "outputs": [
    {
     "name": "stdout",
     "output_type": "stream",
     "text": [
      "CPU times: total: 59.8 s\n",
      "Wall time: 59.9 s\n"
     ]
    },
    {
     "data": {
      "text/html": [
       "<style>#sk-container-id-5 {color: black;background-color: white;}#sk-container-id-5 pre{padding: 0;}#sk-container-id-5 div.sk-toggleable {background-color: white;}#sk-container-id-5 label.sk-toggleable__label {cursor: pointer;display: block;width: 100%;margin-bottom: 0;padding: 0.3em;box-sizing: border-box;text-align: center;}#sk-container-id-5 label.sk-toggleable__label-arrow:before {content: \"▸\";float: left;margin-right: 0.25em;color: #696969;}#sk-container-id-5 label.sk-toggleable__label-arrow:hover:before {color: black;}#sk-container-id-5 div.sk-estimator:hover label.sk-toggleable__label-arrow:before {color: black;}#sk-container-id-5 div.sk-toggleable__content {max-height: 0;max-width: 0;overflow: hidden;text-align: left;background-color: #f0f8ff;}#sk-container-id-5 div.sk-toggleable__content pre {margin: 0.2em;color: black;border-radius: 0.25em;background-color: #f0f8ff;}#sk-container-id-5 input.sk-toggleable__control:checked~div.sk-toggleable__content {max-height: 200px;max-width: 100%;overflow: auto;}#sk-container-id-5 input.sk-toggleable__control:checked~label.sk-toggleable__label-arrow:before {content: \"▾\";}#sk-container-id-5 div.sk-estimator input.sk-toggleable__control:checked~label.sk-toggleable__label {background-color: #d4ebff;}#sk-container-id-5 div.sk-label input.sk-toggleable__control:checked~label.sk-toggleable__label {background-color: #d4ebff;}#sk-container-id-5 input.sk-hidden--visually {border: 0;clip: rect(1px 1px 1px 1px);clip: rect(1px, 1px, 1px, 1px);height: 1px;margin: -1px;overflow: hidden;padding: 0;position: absolute;width: 1px;}#sk-container-id-5 div.sk-estimator {font-family: monospace;background-color: #f0f8ff;border: 1px dotted black;border-radius: 0.25em;box-sizing: border-box;margin-bottom: 0.5em;}#sk-container-id-5 div.sk-estimator:hover {background-color: #d4ebff;}#sk-container-id-5 div.sk-parallel-item::after {content: \"\";width: 100%;border-bottom: 1px solid gray;flex-grow: 1;}#sk-container-id-5 div.sk-label:hover label.sk-toggleable__label {background-color: #d4ebff;}#sk-container-id-5 div.sk-serial::before {content: \"\";position: absolute;border-left: 1px solid gray;box-sizing: border-box;top: 0;bottom: 0;left: 50%;z-index: 0;}#sk-container-id-5 div.sk-serial {display: flex;flex-direction: column;align-items: center;background-color: white;padding-right: 0.2em;padding-left: 0.2em;position: relative;}#sk-container-id-5 div.sk-item {position: relative;z-index: 1;}#sk-container-id-5 div.sk-parallel {display: flex;align-items: stretch;justify-content: center;background-color: white;position: relative;}#sk-container-id-5 div.sk-item::before, #sk-container-id-5 div.sk-parallel-item::before {content: \"\";position: absolute;border-left: 1px solid gray;box-sizing: border-box;top: 0;bottom: 0;left: 50%;z-index: -1;}#sk-container-id-5 div.sk-parallel-item {display: flex;flex-direction: column;z-index: 1;position: relative;background-color: white;}#sk-container-id-5 div.sk-parallel-item:first-child::after {align-self: flex-end;width: 50%;}#sk-container-id-5 div.sk-parallel-item:last-child::after {align-self: flex-start;width: 50%;}#sk-container-id-5 div.sk-parallel-item:only-child::after {width: 0;}#sk-container-id-5 div.sk-dashed-wrapped {border: 1px dashed gray;margin: 0 0.4em 0.5em 0.4em;box-sizing: border-box;padding-bottom: 0.4em;background-color: white;}#sk-container-id-5 div.sk-label label {font-family: monospace;font-weight: bold;display: inline-block;line-height: 1.2em;}#sk-container-id-5 div.sk-label-container {text-align: center;}#sk-container-id-5 div.sk-container {/* jupyter's `normalize.less` sets `[hidden] { display: none; }` but bootstrap.min.css set `[hidden] { display: none !important; }` so we also need the `!important` here to be able to override the default hidden behavior on the sphinx rendered scikit-learn.org. See: https://github.com/scikit-learn/scikit-learn/issues/21755 */display: inline-block !important;position: relative;}#sk-container-id-5 div.sk-text-repr-fallback {display: none;}</style><div id=\"sk-container-id-5\" class=\"sk-top-container\"><div class=\"sk-text-repr-fallback\"><pre>RFE(estimator=LogisticRegression(max_iter=1000, multi_class=&#x27;multinomial&#x27;,\n",
       "                                 penalty=&#x27;l1&#x27;, random_state=123,\n",
       "                                 solver=&#x27;saga&#x27;),\n",
       "    n_features_to_select=7)</pre><b>In a Jupyter environment, please rerun this cell to show the HTML representation or trust the notebook. <br />On GitHub, the HTML representation is unable to render, please try loading this page with nbviewer.org.</b></div><div class=\"sk-container\" hidden><div class=\"sk-item sk-dashed-wrapped\"><div class=\"sk-label-container\"><div class=\"sk-label sk-toggleable\"><input class=\"sk-toggleable__control sk-hidden--visually\" id=\"sk-estimator-id-11\" type=\"checkbox\" ><label for=\"sk-estimator-id-11\" class=\"sk-toggleable__label sk-toggleable__label-arrow\">RFE</label><div class=\"sk-toggleable__content\"><pre>RFE(estimator=LogisticRegression(max_iter=1000, multi_class=&#x27;multinomial&#x27;,\n",
       "                                 penalty=&#x27;l1&#x27;, random_state=123,\n",
       "                                 solver=&#x27;saga&#x27;),\n",
       "    n_features_to_select=7)</pre></div></div></div><div class=\"sk-parallel\"><div class=\"sk-parallel-item\"><div class=\"sk-item\"><div class=\"sk-label-container\"><div class=\"sk-label sk-toggleable\"><input class=\"sk-toggleable__control sk-hidden--visually\" id=\"sk-estimator-id-12\" type=\"checkbox\" ><label for=\"sk-estimator-id-12\" class=\"sk-toggleable__label sk-toggleable__label-arrow\">estimator: LogisticRegression</label><div class=\"sk-toggleable__content\"><pre>LogisticRegression(max_iter=1000, multi_class=&#x27;multinomial&#x27;, penalty=&#x27;l1&#x27;,\n",
       "                   random_state=123, solver=&#x27;saga&#x27;)</pre></div></div></div><div class=\"sk-serial\"><div class=\"sk-item\"><div class=\"sk-estimator sk-toggleable\"><input class=\"sk-toggleable__control sk-hidden--visually\" id=\"sk-estimator-id-13\" type=\"checkbox\" ><label for=\"sk-estimator-id-13\" class=\"sk-toggleable__label sk-toggleable__label-arrow\">LogisticRegression</label><div class=\"sk-toggleable__content\"><pre>LogisticRegression(max_iter=1000, multi_class=&#x27;multinomial&#x27;, penalty=&#x27;l1&#x27;,\n",
       "                   random_state=123, solver=&#x27;saga&#x27;)</pre></div></div></div></div></div></div></div></div></div></div>"
      ],
      "text/plain": [
       "RFE(estimator=LogisticRegression(max_iter=1000, multi_class='multinomial',\n",
       "                                 penalty='l1', random_state=123,\n",
       "                                 solver='saga'),\n",
       "    n_features_to_select=7)"
      ]
     },
     "execution_count": 77,
     "metadata": {},
     "output_type": "execute_result"
    }
   ],
   "source": [
    "rfeMod = RFE(LogisticRegression(random_state=123, penalty=penalty, multi_class=multi_class, solver=solver, max_iter=max_iter),n_features_to_select=7)\n",
    "\n",
    "%time rfeMod.fit(X_train,y_train)\n"
   ]
  },
  {
   "cell_type": "code",
   "execution_count": 81,
   "id": "fe37fad6-91de-445a-bdf5-4f12fb6b0803",
   "metadata": {},
   "outputs": [
    {
     "data": {
      "text/plain": [
       "array([ True,  True,  True, False, False, False,  True, False,  True,\n",
       "        True,  True, False, False, False, False, False, False])"
      ]
     },
     "execution_count": 81,
     "metadata": {},
     "output_type": "execute_result"
    }
   ],
   "source": [
    "rfeMod.support_"
   ]
  },
  {
   "cell_type": "code",
   "execution_count": 82,
   "id": "018d0a8e-9318-49a3-85a9-30a6e38bb75b",
   "metadata": {},
   "outputs": [
    {
     "data": {
      "text/plain": [
       "array([ 1,  1,  1,  2,  9,  3,  1,  6,  1,  1,  1,  7,  4, 10, 11,  8,  5])"
      ]
     },
     "execution_count": 82,
     "metadata": {},
     "output_type": "execute_result"
    }
   ],
   "source": [
    "rfeMod.ranking_"
   ]
  },
  {
   "cell_type": "code",
   "execution_count": 93,
   "id": "a2fd35e5-a570-43a1-9809-c33e1e5d05d1",
   "metadata": {},
   "outputs": [
    {
     "data": {
      "text/plain": [
       "array(['Calories', 'Total Fat', 'Saturated Fat', 'Cholesterol',\n",
       "       'Total Carbohydrate', 'Dietary Fiber', 'Sugars'], dtype=object)"
      ]
     },
     "execution_count": 93,
     "metadata": {},
     "output_type": "execute_result"
    }
   ],
   "source": [
    "pd.Series(feature_cols)[rfeMod.support_].values"
   ]
  },
  {
   "cell_type": "code",
   "execution_count": 94,
   "id": "e296d828-646e-47b9-8943-4f6c1a828f78",
   "metadata": {},
   "outputs": [
    {
     "data": {
      "text/plain": [
       "{'accuracy': 0.8069381598793364,\n",
       " 'recall': array([0.84360902, 0.74021352, 0.93939394]),\n",
       " 'precision': array([0.79237288, 0.82376238, 0.82300885]),\n",
       " 'f1score': array([0.81718864, 0.77975633, 0.87735849])}"
      ]
     },
     "execution_count": 94,
     "metadata": {},
     "output_type": "execute_result"
    }
   ],
   "source": [
    "y_pred_rfe = rfeMod.predict(X_test)\n",
    "evaluate_metrics(y_test, y_pred_rfe)"
   ]
  },
  {
   "cell_type": "code",
   "execution_count": 95,
   "id": "e69fb988-a533-447c-b0f9-b641ba467e6e",
   "metadata": {},
   "outputs": [
    {
     "data": {
      "text/plain": [
       "{'accuracy': 0.8141025641025641,\n",
       " 'recall': array([0.85714286, 0.74822064, 0.8989899 ]),\n",
       " 'precision': array([0.7966457 , 0.83932136, 0.81278539]),\n",
       " 'f1score': array([0.82578776, 0.7911571 , 0.85371703])}"
      ]
     },
     "execution_count": 95,
     "metadata": {},
     "output_type": "execute_result"
    }
   ],
   "source": [
    "evaluate_metrics(y_test, l1_preds)"
   ]
  },
  {
   "cell_type": "code",
   "execution_count": 96,
   "id": "b68bef8b-350c-41f2-9ec9-2bd894e7ac6f",
   "metadata": {},
   "outputs": [
    {
     "data": {
      "image/png": "[encoded data removed]",
      "text/plain": [
       "<Figure size 1600x1200 with 2 Axes>"
      ]
     },
     "metadata": {},
     "output_type": "display_data"
    }
   ],
   "source": [
    "cf = confusion_matrix(y_test, l1_preds)\n",
    "plt.figure(figsize=(16, 12))\n",
    "ax = sns.heatmap(cf, annot=True, fmt=\"d\", xticklabels=[\"In Moderation\", \"Less Often\", \"More Often\"], \n",
    "                 yticklabels=[\"In Moderation\", \"Less Often\", \"More Often\"])\n",
    "ax.set(title=\"Confusion Matrix\");"
   ]
  },
  {
   "cell_type": "code",
   "execution_count": null,
   "id": "68608f91-0a0f-41db-9452-8fa412adbe77",
   "metadata": {},
   "outputs": [],
   "source": []
  }
 ],
 "metadata": {
  "kernelspec": {
   "display_name": "Python 3 (ipykernel)",
   "language": "python",
   "name": "python3"
  },
  "language_info": {
   "codemirror_mode": {
    "name": "ipython",
    "version": 3
   },
   "file_extension": ".py",
   "mimetype": "text/x-python",
   "name": "python",
   "nbconvert_exporter": "python",
   "pygments_lexer": "ipython3",
   "version": "3.10.6"
  }
 },
 "nbformat": 4,
 "nbformat_minor": 5
}
