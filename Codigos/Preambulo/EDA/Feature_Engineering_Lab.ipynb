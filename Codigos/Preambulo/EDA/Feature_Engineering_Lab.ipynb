{
 "cells": [
  {
   "cell_type": "markdown",
   "metadata": {},
   "source": [
    "<p style=\"text-align:center\">\n",
    "    <a href=\"https://skills.network/?utm_medium=Exinfluencer&utm_source=Exinfluencer&utm_content=000026UJ&utm_term=10006555&utm_id=NA-SkillsNetwork-Channel-SkillsNetworkCoursesIBMML0232ENSkillsNetwork30654641-2022-01-01\" target=\"_blank\">\n",
    "    <img src=\"https://cf-courses-data.s3.us.cloud-object-storage.appdomain.cloud/assets/logos/SN_web_lightmode.png\" width=\"200\" alt=\"Skills Network Logo\"  />\n",
    "    </a>\n",
    "</p>\n"
   ]
  },
  {
   "cell_type": "markdown",
   "metadata": {},
   "source": [
    "# **Feature Engineering**\n"
   ]
  },
  {
   "cell_type": "markdown",
   "metadata": {},
   "source": [
    "Estimated time needed: **45** minutes\n"
   ]
  },
  {
   "cell_type": "markdown",
   "metadata": {},
   "source": [
    "A critical part of the successful Machine Learning project is coming up with a good set of features to train on. This process is called feature engineering, and it involves three steps: feature transformation (transforming the original features), feature selection (selecting the most useful features to train on), and feature extraction (combining existing features to produce more useful ones). In this notebook we will explore different tools in Feature Engineering.\n"
   ]
  },
  {
   "cell_type": "markdown",
   "metadata": {},
   "source": [
    "## Objectives\n"
   ]
  },
  {
   "cell_type": "markdown",
   "metadata": {},
   "source": [
    "After completing this lab you will be able to:\n"
   ]
  },
  {
   "cell_type": "markdown",
   "metadata": {},
   "source": [
    "*   Understand the types of Feature Engineering\n",
    "    *   Feature Transformation\n",
    "        *   Dealing with Categorical Variables\n",
    "            *   One Hot Encoding\n",
    "            *   Label Encoding\n",
    "        *   Date Time Transformations\n",
    "    *   Feature Selection\n",
    "    *   Feature Extraction using Principal Component Analysis\n"
   ]
  },
  {
   "cell_type": "markdown",
   "metadata": {},
   "source": [
    "***\n"
   ]
  },
  {
   "cell_type": "markdown",
   "metadata": {},
   "source": [
    "## **Setup**\n"
   ]
  },
  {
   "cell_type": "markdown",
   "metadata": {},
   "source": [
    "For this lab, we will be using the following libraries:\n",
    "\n",
    "*   [`pandas`](https://pandas.pydata.org/?utm_medium=Exinfluencer&utm_source=Exinfluencer&utm_content=000026UJ&utm_term=10006555&utm_id=NA-SkillsNetwork-Channel-SkillsNetworkCoursesIBMML0232ENSkillsNetwork30654641-2022-01-01) for managing the data.\n",
    "*   [`numpy`](https://numpy.org/?utm_medium=Exinfluencer&utm_source=Exinfluencer&utm_content=000026UJ&utm_term=10006555&utm_id=NA-SkillsNetwork-Channel-SkillsNetworkCoursesIBMML0232ENSkillsNetwork30654641-2022-01-01) for mathematical operations.\n",
    "*   [`seaborn`](https://seaborn.pydata.org/?utm_medium=Exinfluencer&utm_source=Exinfluencer&utm_content=000026UJ&utm_term=10006555&utm_id=NA-SkillsNetwork-Channel-SkillsNetworkCoursesIBMML0232ENSkillsNetwork30654641-2022-01-01) for visualizing the data.\n",
    "*   [`matplotlib`](https://matplotlib.org/?utm_medium=Exinfluencer&utm_source=Exinfluencer&utm_content=000026UJ&utm_term=10006555&utm_id=NA-SkillsNetwork-Channel-SkillsNetworkCoursesIBMML0232ENSkillsNetwork30654641-2022-01-01) for visualizing the data.\n",
    "*   [`plotly.express`](https://plotly.com/python/plotly-express/?utm_medium=Exinfluencer&utm_source=Exinfluencer&utm_content=000026UJ&utm_term=10006555&utm_id=NA-SkillsNetwork-Channel-SkillsNetworkCoursesIBMML0232ENSkillsNetwork30654641-2022-01-01) for visualizing the data.\n",
    "*   [`sklearn`](https://scikit-learn.org/stable/?utm_medium=Exinfluencer&utm_source=Exinfluencer&utm_content=000026UJ&utm_term=10006555&utm_id=NA-SkillsNetwork-Channel-SkillsNetworkCoursesIBMML0232ENSkillsNetwork30654641-2022-01-01) for machine learning and machine-learning-pipeline related functions.\n"
   ]
  },
  {
   "cell_type": "markdown",
   "metadata": {},
   "source": [
    "## **Installing Required Libraries**\n"
   ]
  },
  {
   "cell_type": "markdown",
   "metadata": {},
   "source": [
    "The following required modules are pre-installed in the Skills Network Labs environment. However if you run this notebook commands in a different Jupyter environment (e.g. Watson Studio or Ananconda) you will need to install these libraries by removing the `#` sign before `!mamba` in the code cell below.\n"
   ]
  },
  {
   "cell_type": "code",
   "execution_count": 1,
   "metadata": {},
   "outputs": [],
   "source": [
    "# All Libraries required for this lab are listed below. The libraries pre-installed on Skills Network Labs are commented.\n",
    "# !mamba install -qy pandas==1.3.4 numpy==1.21.4 seaborn==0.9.0 matplotlib==3.5.0 scikit-learn==0.20.1\n",
    "# Note: If your environment doesn't support \"!mamba install\", use \"!pip install\""
   ]
  },
  {
   "cell_type": "code",
   "execution_count": 2,
   "metadata": {},
   "outputs": [
    {
     "name": "stderr",
     "output_type": "stream",
     "text": [
      "'mamba' is not recognized as an internal or external command,\n",
      "operable program or batch file.\n"
     ]
    }
   ],
   "source": [
    "!mamba install -qy openpyxl"
   ]
  },
  {
   "cell_type": "code",
   "execution_count": 3,
   "metadata": {},
   "outputs": [],
   "source": [
    "# Surpress warnings from using older version of sklearn:\n",
    "def warn(*args, **kwargs):\n",
    "    pass\n",
    "import warnings\n",
    "warnings.warn = warn"
   ]
  },
  {
   "cell_type": "code",
   "execution_count": 4,
   "metadata": {},
   "outputs": [],
   "source": [
    "import pandas as pd\n",
    "import numpy as np\n",
    "\n",
    "import matplotlib.pyplot as plt\n",
    "%matplotlib inline\n",
    "import seaborn as sns\n",
    "import plotly.express as px\n",
    "\n",
    "from sklearn.preprocessing import StandardScaler\n",
    "from sklearn.decomposition import PCA"
   ]
  },
  {
   "cell_type": "markdown",
   "metadata": {},
   "source": [
    "## **Reading and understanding our data**\n"
   ]
  },
  {
   "cell_type": "markdown",
   "metadata": {},
   "source": [
    "For this lab, we will be using the airlines_data.xlsx file, hosted on IBM Cloud object. This dataset contains the prices of flight tickets for various airlines between the months of March and June of 2019 and between various cities. This dataset is often used for prediction analysis of the flight prices which are influenced by various factors, such as name of the airline, date of journey, route, departure and arrival times, the source and the destination of the trip, duration and other parameters.\n",
    "\n",
    "In this notebook, we will use the airlines dataset to perform feature engineering on some of its independent variables.\n"
   ]
  },
  {
   "cell_type": "markdown",
   "metadata": {},
   "source": [
    "Let's start by reading the data into *pandas* data frame and looking at the first 5 rows using the `head()` method.\n"
   ]
  },
  {
   "cell_type": "code",
   "execution_count": 5,
   "metadata": {},
   "outputs": [
    {
     "data": {
      "text/html": [
       "<div>\n",
       "<style scoped>\n",
       "    .dataframe tbody tr th:only-of-type {\n",
       "        vertical-align: middle;\n",
       "    }\n",
       "\n",
       "    .dataframe tbody tr th {\n",
       "        vertical-align: top;\n",
       "    }\n",
       "\n",
       "    .dataframe thead th {\n",
       "        text-align: right;\n",
       "    }\n",
       "</style>\n",
       "<table border=\"1\" class=\"dataframe\">\n",
       "  <thead>\n",
       "    <tr style=\"text-align: right;\">\n",
       "      <th></th>\n",
       "      <th>Airline</th>\n",
       "      <th>Date_of_Journey</th>\n",
       "      <th>Source</th>\n",
       "      <th>Destination</th>\n",
       "      <th>Route</th>\n",
       "      <th>Dep_Time</th>\n",
       "      <th>Arrival_Time</th>\n",
       "      <th>Duration</th>\n",
       "      <th>Total_Stops</th>\n",
       "      <th>Additional_Info</th>\n",
       "      <th>Price</th>\n",
       "    </tr>\n",
       "  </thead>\n",
       "  <tbody>\n",
       "    <tr>\n",
       "      <th>0</th>\n",
       "      <td>IndiGo</td>\n",
       "      <td>24/03/2019</td>\n",
       "      <td>Banglore</td>\n",
       "      <td>New Delhi</td>\n",
       "      <td>BLR → DEL</td>\n",
       "      <td>22:20</td>\n",
       "      <td>01:10 22 Mar</td>\n",
       "      <td>2h 50m</td>\n",
       "      <td>non-stop</td>\n",
       "      <td>No info</td>\n",
       "      <td>3897</td>\n",
       "    </tr>\n",
       "    <tr>\n",
       "      <th>1</th>\n",
       "      <td>Air India</td>\n",
       "      <td>1/05/2019</td>\n",
       "      <td>Kolkata</td>\n",
       "      <td>Banglore</td>\n",
       "      <td>CCU → IXR → BBI → BLR</td>\n",
       "      <td>05:50</td>\n",
       "      <td>13:15</td>\n",
       "      <td>7h 25m</td>\n",
       "      <td>2 stops</td>\n",
       "      <td>No info</td>\n",
       "      <td>7662</td>\n",
       "    </tr>\n",
       "    <tr>\n",
       "      <th>2</th>\n",
       "      <td>Jet Airways</td>\n",
       "      <td>9/06/2019</td>\n",
       "      <td>Delhi</td>\n",
       "      <td>Cochin</td>\n",
       "      <td>DEL → LKO → BOM → COK</td>\n",
       "      <td>09:25</td>\n",
       "      <td>04:25 10 Jun</td>\n",
       "      <td>19h</td>\n",
       "      <td>2 stops</td>\n",
       "      <td>No info</td>\n",
       "      <td>13882</td>\n",
       "    </tr>\n",
       "    <tr>\n",
       "      <th>3</th>\n",
       "      <td>IndiGo</td>\n",
       "      <td>12/05/2019</td>\n",
       "      <td>Kolkata</td>\n",
       "      <td>Banglore</td>\n",
       "      <td>CCU → NAG → BLR</td>\n",
       "      <td>18:05</td>\n",
       "      <td>23:30</td>\n",
       "      <td>5h 25m</td>\n",
       "      <td>1 stop</td>\n",
       "      <td>No info</td>\n",
       "      <td>6218</td>\n",
       "    </tr>\n",
       "    <tr>\n",
       "      <th>4</th>\n",
       "      <td>IndiGo</td>\n",
       "      <td>01/03/2019</td>\n",
       "      <td>Banglore</td>\n",
       "      <td>New Delhi</td>\n",
       "      <td>BLR → NAG → DEL</td>\n",
       "      <td>16:50</td>\n",
       "      <td>21:35</td>\n",
       "      <td>4h 45m</td>\n",
       "      <td>1 stop</td>\n",
       "      <td>No info</td>\n",
       "      <td>13302</td>\n",
       "    </tr>\n",
       "  </tbody>\n",
       "</table>\n",
       "</div>"
      ],
      "text/plain": [
       "       Airline Date_of_Journey    Source Destination                  Route  \\\n",
       "0       IndiGo      24/03/2019  Banglore   New Delhi              BLR → DEL   \n",
       "1    Air India       1/05/2019   Kolkata    Banglore  CCU → IXR → BBI → BLR   \n",
       "2  Jet Airways       9/06/2019     Delhi      Cochin  DEL → LKO → BOM → COK   \n",
       "3       IndiGo      12/05/2019   Kolkata    Banglore        CCU → NAG → BLR   \n",
       "4       IndiGo      01/03/2019  Banglore   New Delhi        BLR → NAG → DEL   \n",
       "\n",
       "  Dep_Time  Arrival_Time Duration Total_Stops Additional_Info  Price  \n",
       "0    22:20  01:10 22 Mar   2h 50m    non-stop         No info   3897  \n",
       "1    05:50         13:15   7h 25m     2 stops         No info   7662  \n",
       "2    09:25  04:25 10 Jun      19h     2 stops         No info  13882  \n",
       "3    18:05         23:30   5h 25m      1 stop         No info   6218  \n",
       "4    16:50         21:35   4h 45m      1 stop         No info  13302  "
      ]
     },
     "execution_count": 5,
     "metadata": {},
     "output_type": "execute_result"
    }
   ],
   "source": [
    "data = pd.read_excel('https://cf-courses-data.s3.us.cloud-object-storage.appdomain.cloud/IBM-ML0232EN-SkillsNetwork/asset/airlines_data.xlsx')\n",
    "data.head()"
   ]
  },
  {
   "cell_type": "markdown",
   "metadata": {},
   "source": [
    "By using the `info` function, we will take a look at the types of data that our dataset contains.\n"
   ]
  },
  {
   "cell_type": "code",
   "execution_count": 6,
   "metadata": {},
   "outputs": [
    {
     "name": "stdout",
     "output_type": "stream",
     "text": [
      "<class 'pandas.core.frame.DataFrame'>\n",
      "RangeIndex: 10683 entries, 0 to 10682\n",
      "Data columns (total 11 columns):\n",
      " #   Column           Non-Null Count  Dtype \n",
      "---  ------           --------------  ----- \n",
      " 0   Airline          10683 non-null  object\n",
      " 1   Date_of_Journey  10683 non-null  object\n",
      " 2   Source           10683 non-null  object\n",
      " 3   Destination      10683 non-null  object\n",
      " 4   Route            10682 non-null  object\n",
      " 5   Dep_Time         10683 non-null  object\n",
      " 6   Arrival_Time     10683 non-null  object\n",
      " 7   Duration         10683 non-null  object\n",
      " 8   Total_Stops      10682 non-null  object\n",
      " 9   Additional_Info  10683 non-null  object\n",
      " 10  Price            10683 non-null  int64 \n",
      "dtypes: int64(1), object(10)\n",
      "memory usage: 918.2+ KB\n"
     ]
    }
   ],
   "source": [
    "data.info()"
   ]
  },
  {
   "cell_type": "markdown",
   "metadata": {},
   "source": [
    "As we see from the output above, we mostly have object data types, except for the 'price' column, which is an integer.\n"
   ]
  },
  {
   "cell_type": "markdown",
   "metadata": {},
   "source": [
    "The `describe()` function provides the statistical information about the numerical variables. In our case, it is the 'price' variable.\n"
   ]
  },
  {
   "cell_type": "code",
   "execution_count": 7,
   "metadata": {},
   "outputs": [
    {
     "data": {
      "text/html": [
       "<div>\n",
       "<style scoped>\n",
       "    .dataframe tbody tr th:only-of-type {\n",
       "        vertical-align: middle;\n",
       "    }\n",
       "\n",
       "    .dataframe tbody tr th {\n",
       "        vertical-align: top;\n",
       "    }\n",
       "\n",
       "    .dataframe thead th {\n",
       "        text-align: right;\n",
       "    }\n",
       "</style>\n",
       "<table border=\"1\" class=\"dataframe\">\n",
       "  <thead>\n",
       "    <tr style=\"text-align: right;\">\n",
       "      <th></th>\n",
       "      <th>Price</th>\n",
       "    </tr>\n",
       "  </thead>\n",
       "  <tbody>\n",
       "    <tr>\n",
       "      <th>count</th>\n",
       "      <td>10683.000000</td>\n",
       "    </tr>\n",
       "    <tr>\n",
       "      <th>mean</th>\n",
       "      <td>9087.064121</td>\n",
       "    </tr>\n",
       "    <tr>\n",
       "      <th>std</th>\n",
       "      <td>4611.359167</td>\n",
       "    </tr>\n",
       "    <tr>\n",
       "      <th>min</th>\n",
       "      <td>1759.000000</td>\n",
       "    </tr>\n",
       "    <tr>\n",
       "      <th>25%</th>\n",
       "      <td>5277.000000</td>\n",
       "    </tr>\n",
       "    <tr>\n",
       "      <th>50%</th>\n",
       "      <td>8372.000000</td>\n",
       "    </tr>\n",
       "    <tr>\n",
       "      <th>75%</th>\n",
       "      <td>12373.000000</td>\n",
       "    </tr>\n",
       "    <tr>\n",
       "      <th>max</th>\n",
       "      <td>79512.000000</td>\n",
       "    </tr>\n",
       "  </tbody>\n",
       "</table>\n",
       "</div>"
      ],
      "text/plain": [
       "              Price\n",
       "count  10683.000000\n",
       "mean    9087.064121\n",
       "std     4611.359167\n",
       "min     1759.000000\n",
       "25%     5277.000000\n",
       "50%     8372.000000\n",
       "75%    12373.000000\n",
       "max    79512.000000"
      ]
     },
     "execution_count": 7,
     "metadata": {},
     "output_type": "execute_result"
    }
   ],
   "source": [
    "data.describe()"
   ]
  },
  {
   "cell_type": "markdown",
   "metadata": {},
   "source": [
    "Next, we will check for any null values.\n"
   ]
  },
  {
   "cell_type": "code",
   "execution_count": 8,
   "metadata": {},
   "outputs": [
    {
     "data": {
      "text/plain": [
       "Airline            0\n",
       "Date_of_Journey    0\n",
       "Source             0\n",
       "Destination        0\n",
       "Route              1\n",
       "Dep_Time           0\n",
       "Arrival_Time       0\n",
       "Duration           0\n",
       "Total_Stops        1\n",
       "Additional_Info    0\n",
       "Price              0\n",
       "dtype: int64"
      ]
     },
     "execution_count": 8,
     "metadata": {},
     "output_type": "execute_result"
    }
   ],
   "source": [
    "data.isnull().sum()"
   ]
  },
  {
   "cell_type": "markdown",
   "metadata": {},
   "source": [
    "Now that we have found some null points, we need to either remove them from our dataset or fill them with something else. In this case, we will use `fillna()` and `method='ffill'`, which fills the last observed non-null value forward until another non-null value is encountered.\n"
   ]
  },
  {
   "cell_type": "code",
   "execution_count": 9,
   "metadata": {},
   "outputs": [],
   "source": [
    "data = data.fillna(method='ffill')"
   ]
  },
  {
   "cell_type": "markdown",
   "metadata": {},
   "source": [
    "## **Feature Transformation**\n"
   ]
  },
  {
   "cell_type": "markdown",
   "metadata": {},
   "source": [
    "Feature Transformation means transforming our features to the functions of the original features. For example, feature encoding, scaling, and discretization (the process of transforming continuous variables into discrete form, by creating bins or intervals) are the most common forms of data transformation.\n"
   ]
  },
  {
   "cell_type": "markdown",
   "metadata": {},
   "source": [
    "### **Dealing with Categorical Variables**\n"
   ]
  },
  {
   "cell_type": "markdown",
   "metadata": {},
   "source": [
    "Categorical variables represent qualitative data with no apparent inherent mathematical meaning. Therefore, for any machine learning analysis, all the categorical data must be transformed into the numerical data types. First, we'll start with 'Airlines' column, as it contains categorical values. We will use `unique()` method to obtain all the categories in this column.\n"
   ]
  },
  {
   "cell_type": "code",
   "execution_count": 10,
   "metadata": {},
   "outputs": [
    {
     "data": {
      "text/plain": [
       "['IndiGo',\n",
       " 'Air India',\n",
       " 'Jet Airways',\n",
       " 'SpiceJet',\n",
       " 'Multiple carriers',\n",
       " 'GoAir',\n",
       " 'Vistara',\n",
       " 'Air Asia',\n",
       " 'Vistara Premium economy',\n",
       " 'Jet Airways Business',\n",
       " 'Multiple carriers Premium economy',\n",
       " 'Trujet']"
      ]
     },
     "execution_count": 10,
     "metadata": {},
     "output_type": "execute_result"
    }
   ],
   "source": [
    "data['Airline'].unique().tolist()"
   ]
  },
  {
   "cell_type": "markdown",
   "metadata": {},
   "source": [
    "From the above list, we notice that some of the airline names are being repeated. For example, 'Jet Airways' and 'Jet Airways Business'. This means that some of the airlines are subdivided into separate parts. We will combine these 'two-parts' airlines to make our categorical features more consistent with the rest of the variables.\n",
    "\n",
    "Here, we will use the *numpy* `where()` function to locate and combine the two categories.\n"
   ]
  },
  {
   "cell_type": "code",
   "execution_count": 11,
   "metadata": {},
   "outputs": [],
   "source": [
    "data['Airline'] = np.where(data['Airline']=='Vistara Premium economy', 'Vistara', data['Airline'])\n",
    "data['Airline'] = np.where(data['Airline']=='Jet Airways Business', 'Jet Airways', data['Airline'])"
   ]
  },
  {
   "cell_type": "markdown",
   "metadata": {},
   "source": [
    "## Exercise 1\n",
    "\n",
    "In this exercise, use `np.where()` function to combine 'Multiple carriers Premium economy' and 'Multiple carriers' categories, like shown in the code above. Print the newly created list using `unique().tolist()` functions.\n"
   ]
  },
  {
   "cell_type": "code",
   "execution_count": 12,
   "metadata": {},
   "outputs": [
    {
     "data": {
      "text/plain": [
       "['IndiGo',\n",
       " 'Air India',\n",
       " 'Jet Airways',\n",
       " 'SpiceJet',\n",
       " 'Multiple carriers',\n",
       " 'GoAir',\n",
       " 'Vistara',\n",
       " 'Air Asia',\n",
       " 'Trujet']"
      ]
     },
     "execution_count": 12,
     "metadata": {},
     "output_type": "execute_result"
    }
   ],
   "source": [
    "data['Airline'] = np.where(data['Airline']=='Multiple carriers Premium economy', 'Multiple carriers', data['Airline'])\n",
    "data['Airline'].unique().tolist()"
   ]
  },
  {
   "cell_type": "markdown",
   "metadata": {},
   "source": [
    "Now, to be recognized by a machine learning algorithms, our categorical variables should be converted into numerical ones. One way to do this is through *one hot encoding*. To learn more about this process, please visit this [documentation](https://scikit-learn.org/stable/modules/generated/sklearn.preprocessing.OneHotEncoder.html?utm_medium=Exinfluencer&utm_source=Exinfluencer&utm_content=000026UJ&utm_term=10006555&utm_id=NA-SkillsNetwork-Channel-SkillsNetworkCoursesIBMML0232ENSkillsNetwork30654641-2022-01-01).\n",
    "\n",
    "We will use, `get_dummies()` method to do this transformation. In the next cell, we will transform 'Airline', 'Source', and 'Destination' into their respective numeric variables. We will put all the transformed data into a 'data1' data frame.\n"
   ]
  },
  {
   "cell_type": "code",
   "execution_count": 13,
   "metadata": {},
   "outputs": [],
   "source": [
    "data1 = pd.get_dummies(data=data, columns = ['Airline', 'Source', 'Destination'])"
   ]
  },
  {
   "cell_type": "code",
   "execution_count": 14,
   "metadata": {},
   "outputs": [
    {
     "data": {
      "text/html": [
       "<div>\n",
       "<style scoped>\n",
       "    .dataframe tbody tr th:only-of-type {\n",
       "        vertical-align: middle;\n",
       "    }\n",
       "\n",
       "    .dataframe tbody tr th {\n",
       "        vertical-align: top;\n",
       "    }\n",
       "\n",
       "    .dataframe thead th {\n",
       "        text-align: right;\n",
       "    }\n",
       "</style>\n",
       "<table border=\"1\" class=\"dataframe\">\n",
       "  <thead>\n",
       "    <tr style=\"text-align: right;\">\n",
       "      <th></th>\n",
       "      <th>Date_of_Journey</th>\n",
       "      <th>Route</th>\n",
       "      <th>Dep_Time</th>\n",
       "      <th>Arrival_Time</th>\n",
       "      <th>Duration</th>\n",
       "      <th>Total_Stops</th>\n",
       "      <th>Additional_Info</th>\n",
       "      <th>Price</th>\n",
       "      <th>Airline_Air Asia</th>\n",
       "      <th>Airline_Air India</th>\n",
       "      <th>...</th>\n",
       "      <th>Source_Chennai</th>\n",
       "      <th>Source_Delhi</th>\n",
       "      <th>Source_Kolkata</th>\n",
       "      <th>Source_Mumbai</th>\n",
       "      <th>Destination_Banglore</th>\n",
       "      <th>Destination_Cochin</th>\n",
       "      <th>Destination_Delhi</th>\n",
       "      <th>Destination_Hyderabad</th>\n",
       "      <th>Destination_Kolkata</th>\n",
       "      <th>Destination_New Delhi</th>\n",
       "    </tr>\n",
       "  </thead>\n",
       "  <tbody>\n",
       "    <tr>\n",
       "      <th>0</th>\n",
       "      <td>24/03/2019</td>\n",
       "      <td>BLR → DEL</td>\n",
       "      <td>22:20</td>\n",
       "      <td>01:10 22 Mar</td>\n",
       "      <td>2h 50m</td>\n",
       "      <td>non-stop</td>\n",
       "      <td>No info</td>\n",
       "      <td>3897</td>\n",
       "      <td>0</td>\n",
       "      <td>0</td>\n",
       "      <td>...</td>\n",
       "      <td>0</td>\n",
       "      <td>0</td>\n",
       "      <td>0</td>\n",
       "      <td>0</td>\n",
       "      <td>0</td>\n",
       "      <td>0</td>\n",
       "      <td>0</td>\n",
       "      <td>0</td>\n",
       "      <td>0</td>\n",
       "      <td>1</td>\n",
       "    </tr>\n",
       "    <tr>\n",
       "      <th>1</th>\n",
       "      <td>1/05/2019</td>\n",
       "      <td>CCU → IXR → BBI → BLR</td>\n",
       "      <td>05:50</td>\n",
       "      <td>13:15</td>\n",
       "      <td>7h 25m</td>\n",
       "      <td>2 stops</td>\n",
       "      <td>No info</td>\n",
       "      <td>7662</td>\n",
       "      <td>0</td>\n",
       "      <td>1</td>\n",
       "      <td>...</td>\n",
       "      <td>0</td>\n",
       "      <td>0</td>\n",
       "      <td>1</td>\n",
       "      <td>0</td>\n",
       "      <td>1</td>\n",
       "      <td>0</td>\n",
       "      <td>0</td>\n",
       "      <td>0</td>\n",
       "      <td>0</td>\n",
       "      <td>0</td>\n",
       "    </tr>\n",
       "    <tr>\n",
       "      <th>2</th>\n",
       "      <td>9/06/2019</td>\n",
       "      <td>DEL → LKO → BOM → COK</td>\n",
       "      <td>09:25</td>\n",
       "      <td>04:25 10 Jun</td>\n",
       "      <td>19h</td>\n",
       "      <td>2 stops</td>\n",
       "      <td>No info</td>\n",
       "      <td>13882</td>\n",
       "      <td>0</td>\n",
       "      <td>0</td>\n",
       "      <td>...</td>\n",
       "      <td>0</td>\n",
       "      <td>1</td>\n",
       "      <td>0</td>\n",
       "      <td>0</td>\n",
       "      <td>0</td>\n",
       "      <td>1</td>\n",
       "      <td>0</td>\n",
       "      <td>0</td>\n",
       "      <td>0</td>\n",
       "      <td>0</td>\n",
       "    </tr>\n",
       "    <tr>\n",
       "      <th>3</th>\n",
       "      <td>12/05/2019</td>\n",
       "      <td>CCU → NAG → BLR</td>\n",
       "      <td>18:05</td>\n",
       "      <td>23:30</td>\n",
       "      <td>5h 25m</td>\n",
       "      <td>1 stop</td>\n",
       "      <td>No info</td>\n",
       "      <td>6218</td>\n",
       "      <td>0</td>\n",
       "      <td>0</td>\n",
       "      <td>...</td>\n",
       "      <td>0</td>\n",
       "      <td>0</td>\n",
       "      <td>1</td>\n",
       "      <td>0</td>\n",
       "      <td>1</td>\n",
       "      <td>0</td>\n",
       "      <td>0</td>\n",
       "      <td>0</td>\n",
       "      <td>0</td>\n",
       "      <td>0</td>\n",
       "    </tr>\n",
       "    <tr>\n",
       "      <th>4</th>\n",
       "      <td>01/03/2019</td>\n",
       "      <td>BLR → NAG → DEL</td>\n",
       "      <td>16:50</td>\n",
       "      <td>21:35</td>\n",
       "      <td>4h 45m</td>\n",
       "      <td>1 stop</td>\n",
       "      <td>No info</td>\n",
       "      <td>13302</td>\n",
       "      <td>0</td>\n",
       "      <td>0</td>\n",
       "      <td>...</td>\n",
       "      <td>0</td>\n",
       "      <td>0</td>\n",
       "      <td>0</td>\n",
       "      <td>0</td>\n",
       "      <td>0</td>\n",
       "      <td>0</td>\n",
       "      <td>0</td>\n",
       "      <td>0</td>\n",
       "      <td>0</td>\n",
       "      <td>1</td>\n",
       "    </tr>\n",
       "  </tbody>\n",
       "</table>\n",
       "<p>5 rows × 28 columns</p>\n",
       "</div>"
      ],
      "text/plain": [
       "  Date_of_Journey                  Route Dep_Time  Arrival_Time Duration  \\\n",
       "0      24/03/2019              BLR → DEL    22:20  01:10 22 Mar   2h 50m   \n",
       "1       1/05/2019  CCU → IXR → BBI → BLR    05:50         13:15   7h 25m   \n",
       "2       9/06/2019  DEL → LKO → BOM → COK    09:25  04:25 10 Jun      19h   \n",
       "3      12/05/2019        CCU → NAG → BLR    18:05         23:30   5h 25m   \n",
       "4      01/03/2019        BLR → NAG → DEL    16:50         21:35   4h 45m   \n",
       "\n",
       "  Total_Stops Additional_Info  Price  Airline_Air Asia  Airline_Air India  \\\n",
       "0    non-stop         No info   3897                 0                  0   \n",
       "1     2 stops         No info   7662                 0                  1   \n",
       "2     2 stops         No info  13882                 0                  0   \n",
       "3      1 stop         No info   6218                 0                  0   \n",
       "4      1 stop         No info  13302                 0                  0   \n",
       "\n",
       "   ...  Source_Chennai  Source_Delhi  Source_Kolkata  Source_Mumbai  \\\n",
       "0  ...               0             0               0              0   \n",
       "1  ...               0             0               1              0   \n",
       "2  ...               0             1               0              0   \n",
       "3  ...               0             0               1              0   \n",
       "4  ...               0             0               0              0   \n",
       "\n",
       "   Destination_Banglore  Destination_Cochin  Destination_Delhi  \\\n",
       "0                     0                   0                  0   \n",
       "1                     1                   0                  0   \n",
       "2                     0                   1                  0   \n",
       "3                     1                   0                  0   \n",
       "4                     0                   0                  0   \n",
       "\n",
       "   Destination_Hyderabad  Destination_Kolkata  Destination_New Delhi  \n",
       "0                      0                    0                      1  \n",
       "1                      0                    0                      0  \n",
       "2                      0                    0                      0  \n",
       "3                      0                    0                      0  \n",
       "4                      0                    0                      1  \n",
       "\n",
       "[5 rows x 28 columns]"
      ]
     },
     "execution_count": 14,
     "metadata": {},
     "output_type": "execute_result"
    }
   ],
   "source": [
    "data1.head()"
   ]
  },
  {
   "cell_type": "markdown",
   "metadata": {},
   "source": [
    "Below, we will compare our original data frame with the transformed one.\n"
   ]
  },
  {
   "cell_type": "code",
   "execution_count": 15,
   "metadata": {},
   "outputs": [
    {
     "data": {
      "text/plain": [
       "(10683, 11)"
      ]
     },
     "execution_count": 15,
     "metadata": {},
     "output_type": "execute_result"
    }
   ],
   "source": [
    "data.shape"
   ]
  },
  {
   "cell_type": "code",
   "execution_count": 16,
   "metadata": {},
   "outputs": [
    {
     "data": {
      "text/plain": [
       "(10683, 28)"
      ]
     },
     "execution_count": 16,
     "metadata": {},
     "output_type": "execute_result"
    }
   ],
   "source": [
    "data1.shape"
   ]
  },
  {
   "cell_type": "markdown",
   "metadata": {},
   "source": [
    "As we can see, we went from 11 original features in our dataset to 38. This is because *Pandas* `get_dummies()` approach when applied to a column with different categories (e.g. different airlines) will produce a new column (variable) for each unique categorical value (for each unique airline). It will place a one in the column corresponding to the categorical value present for that observation.\n"
   ]
  },
  {
   "cell_type": "markdown",
   "metadata": {},
   "source": [
    "## Exercise 2\n",
    "\n",
    "In this exercise, use `value_counts()` to determine the values distribution of the 'Total_Stops' parameter.\n"
   ]
  },
  {
   "cell_type": "code",
   "execution_count": 17,
   "metadata": {},
   "outputs": [
    {
     "data": {
      "text/plain": [
       "1 stop      5625\n",
       "non-stop    3492\n",
       "2 stops     1520\n",
       "3 stops       45\n",
       "4 stops        1\n",
       "Name: Total_Stops, dtype: int64"
      ]
     },
     "execution_count": 17,
     "metadata": {},
     "output_type": "execute_result"
    }
   ],
   "source": [
    "data[\"Total_Stops\"].value_counts()\n"
   ]
  },
  {
   "cell_type": "markdown",
   "metadata": {},
   "source": [
    "#### **Label Encoding**\n"
   ]
  },
  {
   "cell_type": "markdown",
   "metadata": {},
   "source": [
    "Since 'Total_Stops' is originally a categorical data type, we also need to convert it into numerical one. For this, we can perform a label encoding, where values are manually assigned to the corresponding keys, like \"0\" to a \"non-stop\", using the `replace()` function.\n"
   ]
  },
  {
   "cell_type": "code",
   "execution_count": 18,
   "metadata": {},
   "outputs": [
    {
     "data": {
      "text/html": [
       "<div>\n",
       "<style scoped>\n",
       "    .dataframe tbody tr th:only-of-type {\n",
       "        vertical-align: middle;\n",
       "    }\n",
       "\n",
       "    .dataframe tbody tr th {\n",
       "        vertical-align: top;\n",
       "    }\n",
       "\n",
       "    .dataframe thead th {\n",
       "        text-align: right;\n",
       "    }\n",
       "</style>\n",
       "<table border=\"1\" class=\"dataframe\">\n",
       "  <thead>\n",
       "    <tr style=\"text-align: right;\">\n",
       "      <th></th>\n",
       "      <th>Date_of_Journey</th>\n",
       "      <th>Route</th>\n",
       "      <th>Dep_Time</th>\n",
       "      <th>Arrival_Time</th>\n",
       "      <th>Duration</th>\n",
       "      <th>Total_Stops</th>\n",
       "      <th>Additional_Info</th>\n",
       "      <th>Price</th>\n",
       "      <th>Airline_Air Asia</th>\n",
       "      <th>Airline_Air India</th>\n",
       "      <th>...</th>\n",
       "      <th>Source_Chennai</th>\n",
       "      <th>Source_Delhi</th>\n",
       "      <th>Source_Kolkata</th>\n",
       "      <th>Source_Mumbai</th>\n",
       "      <th>Destination_Banglore</th>\n",
       "      <th>Destination_Cochin</th>\n",
       "      <th>Destination_Delhi</th>\n",
       "      <th>Destination_Hyderabad</th>\n",
       "      <th>Destination_Kolkata</th>\n",
       "      <th>Destination_New Delhi</th>\n",
       "    </tr>\n",
       "  </thead>\n",
       "  <tbody>\n",
       "    <tr>\n",
       "      <th>0</th>\n",
       "      <td>24/03/2019</td>\n",
       "      <td>BLR → DEL</td>\n",
       "      <td>22:20</td>\n",
       "      <td>01:10 22 Mar</td>\n",
       "      <td>2h 50m</td>\n",
       "      <td>0</td>\n",
       "      <td>No info</td>\n",
       "      <td>3897</td>\n",
       "      <td>0</td>\n",
       "      <td>0</td>\n",
       "      <td>...</td>\n",
       "      <td>0</td>\n",
       "      <td>0</td>\n",
       "      <td>0</td>\n",
       "      <td>0</td>\n",
       "      <td>0</td>\n",
       "      <td>0</td>\n",
       "      <td>0</td>\n",
       "      <td>0</td>\n",
       "      <td>0</td>\n",
       "      <td>1</td>\n",
       "    </tr>\n",
       "    <tr>\n",
       "      <th>1</th>\n",
       "      <td>1/05/2019</td>\n",
       "      <td>CCU → IXR → BBI → BLR</td>\n",
       "      <td>05:50</td>\n",
       "      <td>13:15</td>\n",
       "      <td>7h 25m</td>\n",
       "      <td>2</td>\n",
       "      <td>No info</td>\n",
       "      <td>7662</td>\n",
       "      <td>0</td>\n",
       "      <td>1</td>\n",
       "      <td>...</td>\n",
       "      <td>0</td>\n",
       "      <td>0</td>\n",
       "      <td>1</td>\n",
       "      <td>0</td>\n",
       "      <td>1</td>\n",
       "      <td>0</td>\n",
       "      <td>0</td>\n",
       "      <td>0</td>\n",
       "      <td>0</td>\n",
       "      <td>0</td>\n",
       "    </tr>\n",
       "    <tr>\n",
       "      <th>2</th>\n",
       "      <td>9/06/2019</td>\n",
       "      <td>DEL → LKO → BOM → COK</td>\n",
       "      <td>09:25</td>\n",
       "      <td>04:25 10 Jun</td>\n",
       "      <td>19h</td>\n",
       "      <td>2</td>\n",
       "      <td>No info</td>\n",
       "      <td>13882</td>\n",
       "      <td>0</td>\n",
       "      <td>0</td>\n",
       "      <td>...</td>\n",
       "      <td>0</td>\n",
       "      <td>1</td>\n",
       "      <td>0</td>\n",
       "      <td>0</td>\n",
       "      <td>0</td>\n",
       "      <td>1</td>\n",
       "      <td>0</td>\n",
       "      <td>0</td>\n",
       "      <td>0</td>\n",
       "      <td>0</td>\n",
       "    </tr>\n",
       "    <tr>\n",
       "      <th>3</th>\n",
       "      <td>12/05/2019</td>\n",
       "      <td>CCU → NAG → BLR</td>\n",
       "      <td>18:05</td>\n",
       "      <td>23:30</td>\n",
       "      <td>5h 25m</td>\n",
       "      <td>1</td>\n",
       "      <td>No info</td>\n",
       "      <td>6218</td>\n",
       "      <td>0</td>\n",
       "      <td>0</td>\n",
       "      <td>...</td>\n",
       "      <td>0</td>\n",
       "      <td>0</td>\n",
       "      <td>1</td>\n",
       "      <td>0</td>\n",
       "      <td>1</td>\n",
       "      <td>0</td>\n",
       "      <td>0</td>\n",
       "      <td>0</td>\n",
       "      <td>0</td>\n",
       "      <td>0</td>\n",
       "    </tr>\n",
       "    <tr>\n",
       "      <th>4</th>\n",
       "      <td>01/03/2019</td>\n",
       "      <td>BLR → NAG → DEL</td>\n",
       "      <td>16:50</td>\n",
       "      <td>21:35</td>\n",
       "      <td>4h 45m</td>\n",
       "      <td>1</td>\n",
       "      <td>No info</td>\n",
       "      <td>13302</td>\n",
       "      <td>0</td>\n",
       "      <td>0</td>\n",
       "      <td>...</td>\n",
       "      <td>0</td>\n",
       "      <td>0</td>\n",
       "      <td>0</td>\n",
       "      <td>0</td>\n",
       "      <td>0</td>\n",
       "      <td>0</td>\n",
       "      <td>0</td>\n",
       "      <td>0</td>\n",
       "      <td>0</td>\n",
       "      <td>1</td>\n",
       "    </tr>\n",
       "  </tbody>\n",
       "</table>\n",
       "<p>5 rows × 28 columns</p>\n",
       "</div>"
      ],
      "text/plain": [
       "  Date_of_Journey                  Route Dep_Time  Arrival_Time Duration  \\\n",
       "0      24/03/2019              BLR → DEL    22:20  01:10 22 Mar   2h 50m   \n",
       "1       1/05/2019  CCU → IXR → BBI → BLR    05:50         13:15   7h 25m   \n",
       "2       9/06/2019  DEL → LKO → BOM → COK    09:25  04:25 10 Jun      19h   \n",
       "3      12/05/2019        CCU → NAG → BLR    18:05         23:30   5h 25m   \n",
       "4      01/03/2019        BLR → NAG → DEL    16:50         21:35   4h 45m   \n",
       "\n",
       "   Total_Stops Additional_Info  Price  Airline_Air Asia  Airline_Air India  \\\n",
       "0            0         No info   3897                 0                  0   \n",
       "1            2         No info   7662                 0                  1   \n",
       "2            2         No info  13882                 0                  0   \n",
       "3            1         No info   6218                 0                  0   \n",
       "4            1         No info  13302                 0                  0   \n",
       "\n",
       "   ...  Source_Chennai  Source_Delhi  Source_Kolkata  Source_Mumbai  \\\n",
       "0  ...               0             0               0              0   \n",
       "1  ...               0             0               1              0   \n",
       "2  ...               0             1               0              0   \n",
       "3  ...               0             0               1              0   \n",
       "4  ...               0             0               0              0   \n",
       "\n",
       "   Destination_Banglore  Destination_Cochin  Destination_Delhi  \\\n",
       "0                     0                   0                  0   \n",
       "1                     1                   0                  0   \n",
       "2                     0                   1                  0   \n",
       "3                     1                   0                  0   \n",
       "4                     0                   0                  0   \n",
       "\n",
       "   Destination_Hyderabad  Destination_Kolkata  Destination_New Delhi  \n",
       "0                      0                    0                      1  \n",
       "1                      0                    0                      0  \n",
       "2                      0                    0                      0  \n",
       "3                      0                    0                      0  \n",
       "4                      0                    0                      1  \n",
       "\n",
       "[5 rows x 28 columns]"
      ]
     },
     "execution_count": 18,
     "metadata": {},
     "output_type": "execute_result"
    }
   ],
   "source": [
    "data1.replace({\"non-stop\":0,\"1 stop\":1,\"2 stops\":2,\"3 stops\":3,\"4 stops\":4},inplace=True)\n",
    "data1.head()"
   ]
  },
  {
   "cell_type": "markdown",
   "metadata": {},
   "source": [
    "### **Date Time Transformations**\n"
   ]
  },
  {
   "cell_type": "markdown",
   "metadata": {},
   "source": [
    "#### **Transforming the 'Duration' time column**\n"
   ]
  },
  {
   "cell_type": "markdown",
   "metadata": {},
   "source": [
    "Here, we will take a closer look at the 'Duration' variable. Duration is the time taken by a plane to reach its destination. It is the difference between the 'Dep_Time' and 'Arrival_Time'. In our dataset, the 'Duration' is expressed as a string, in hours and minutes. To be recognized by machine learning algorithms, we also need to transform it into numerical type.\n",
    "\n",
    "The code below will iterate through each record in 'Duration' column and split it into hours and minutes, as two additional separate columns. Also, we want to add the 'Duration_hours' (in minutes) to the 'Duration_minutes' column to obtain a 'Duration_Total_mins' time, in minutes. The total duration time column will be useful feature for any regression type of analysis.\n"
   ]
  },
  {
   "cell_type": "code",
   "execution_count": 19,
   "metadata": {},
   "outputs": [],
   "source": [
    "duration = list(data1['Duration'])\n",
    "for i in range(len(duration)) :\n",
    "    if len(duration[i].split()) != 2:\n",
    "        if 'h' in duration[i] :\n",
    "            duration[i] = duration[i].strip() + ' 0m'\n",
    "        elif 'm' in duration[i] :\n",
    "            duration[i] = '0h {}'.format(duration[i].strip())\n",
    "dur_hours = []\n",
    "dur_minutes = []  \n",
    " \n",
    "for i in range(len(duration)) :\n",
    "    dur_hours.append(int(duration[i].split()[0][:-1]))\n",
    "    dur_minutes.append(int(duration[i].split()[1][:-1]))\n",
    "     \n",
    " \n",
    "data1['Duration_hours'] = dur_hours\n",
    "data1['Duration_minutes'] =dur_minutes\n",
    "data1.loc[:,'Duration_hours'] *= 60\n",
    "data1['Duration_Total_mins']= data1['Duration_hours']+data1['Duration_minutes']"
   ]
  },
  {
   "cell_type": "markdown",
   "metadata": {},
   "source": [
    "Print 'data1' data frame to see the newly created columns.\n"
   ]
  },
  {
   "cell_type": "code",
   "execution_count": 20,
   "metadata": {},
   "outputs": [
    {
     "data": {
      "text/html": [
       "<div>\n",
       "<style scoped>\n",
       "    .dataframe tbody tr th:only-of-type {\n",
       "        vertical-align: middle;\n",
       "    }\n",
       "\n",
       "    .dataframe tbody tr th {\n",
       "        vertical-align: top;\n",
       "    }\n",
       "\n",
       "    .dataframe thead th {\n",
       "        text-align: right;\n",
       "    }\n",
       "</style>\n",
       "<table border=\"1\" class=\"dataframe\">\n",
       "  <thead>\n",
       "    <tr style=\"text-align: right;\">\n",
       "      <th></th>\n",
       "      <th>Date_of_Journey</th>\n",
       "      <th>Route</th>\n",
       "      <th>Dep_Time</th>\n",
       "      <th>Arrival_Time</th>\n",
       "      <th>Duration</th>\n",
       "      <th>Total_Stops</th>\n",
       "      <th>Additional_Info</th>\n",
       "      <th>Price</th>\n",
       "      <th>Airline_Air Asia</th>\n",
       "      <th>Airline_Air India</th>\n",
       "      <th>...</th>\n",
       "      <th>Source_Mumbai</th>\n",
       "      <th>Destination_Banglore</th>\n",
       "      <th>Destination_Cochin</th>\n",
       "      <th>Destination_Delhi</th>\n",
       "      <th>Destination_Hyderabad</th>\n",
       "      <th>Destination_Kolkata</th>\n",
       "      <th>Destination_New Delhi</th>\n",
       "      <th>Duration_hours</th>\n",
       "      <th>Duration_minutes</th>\n",
       "      <th>Duration_Total_mins</th>\n",
       "    </tr>\n",
       "  </thead>\n",
       "  <tbody>\n",
       "    <tr>\n",
       "      <th>0</th>\n",
       "      <td>24/03/2019</td>\n",
       "      <td>BLR → DEL</td>\n",
       "      <td>22:20</td>\n",
       "      <td>01:10 22 Mar</td>\n",
       "      <td>2h 50m</td>\n",
       "      <td>0</td>\n",
       "      <td>No info</td>\n",
       "      <td>3897</td>\n",
       "      <td>0</td>\n",
       "      <td>0</td>\n",
       "      <td>...</td>\n",
       "      <td>0</td>\n",
       "      <td>0</td>\n",
       "      <td>0</td>\n",
       "      <td>0</td>\n",
       "      <td>0</td>\n",
       "      <td>0</td>\n",
       "      <td>1</td>\n",
       "      <td>120</td>\n",
       "      <td>50</td>\n",
       "      <td>170</td>\n",
       "    </tr>\n",
       "    <tr>\n",
       "      <th>1</th>\n",
       "      <td>1/05/2019</td>\n",
       "      <td>CCU → IXR → BBI → BLR</td>\n",
       "      <td>05:50</td>\n",
       "      <td>13:15</td>\n",
       "      <td>7h 25m</td>\n",
       "      <td>2</td>\n",
       "      <td>No info</td>\n",
       "      <td>7662</td>\n",
       "      <td>0</td>\n",
       "      <td>1</td>\n",
       "      <td>...</td>\n",
       "      <td>0</td>\n",
       "      <td>1</td>\n",
       "      <td>0</td>\n",
       "      <td>0</td>\n",
       "      <td>0</td>\n",
       "      <td>0</td>\n",
       "      <td>0</td>\n",
       "      <td>420</td>\n",
       "      <td>25</td>\n",
       "      <td>445</td>\n",
       "    </tr>\n",
       "    <tr>\n",
       "      <th>2</th>\n",
       "      <td>9/06/2019</td>\n",
       "      <td>DEL → LKO → BOM → COK</td>\n",
       "      <td>09:25</td>\n",
       "      <td>04:25 10 Jun</td>\n",
       "      <td>19h</td>\n",
       "      <td>2</td>\n",
       "      <td>No info</td>\n",
       "      <td>13882</td>\n",
       "      <td>0</td>\n",
       "      <td>0</td>\n",
       "      <td>...</td>\n",
       "      <td>0</td>\n",
       "      <td>0</td>\n",
       "      <td>1</td>\n",
       "      <td>0</td>\n",
       "      <td>0</td>\n",
       "      <td>0</td>\n",
       "      <td>0</td>\n",
       "      <td>1140</td>\n",
       "      <td>0</td>\n",
       "      <td>1140</td>\n",
       "    </tr>\n",
       "    <tr>\n",
       "      <th>3</th>\n",
       "      <td>12/05/2019</td>\n",
       "      <td>CCU → NAG → BLR</td>\n",
       "      <td>18:05</td>\n",
       "      <td>23:30</td>\n",
       "      <td>5h 25m</td>\n",
       "      <td>1</td>\n",
       "      <td>No info</td>\n",
       "      <td>6218</td>\n",
       "      <td>0</td>\n",
       "      <td>0</td>\n",
       "      <td>...</td>\n",
       "      <td>0</td>\n",
       "      <td>1</td>\n",
       "      <td>0</td>\n",
       "      <td>0</td>\n",
       "      <td>0</td>\n",
       "      <td>0</td>\n",
       "      <td>0</td>\n",
       "      <td>300</td>\n",
       "      <td>25</td>\n",
       "      <td>325</td>\n",
       "    </tr>\n",
       "    <tr>\n",
       "      <th>4</th>\n",
       "      <td>01/03/2019</td>\n",
       "      <td>BLR → NAG → DEL</td>\n",
       "      <td>16:50</td>\n",
       "      <td>21:35</td>\n",
       "      <td>4h 45m</td>\n",
       "      <td>1</td>\n",
       "      <td>No info</td>\n",
       "      <td>13302</td>\n",
       "      <td>0</td>\n",
       "      <td>0</td>\n",
       "      <td>...</td>\n",
       "      <td>0</td>\n",
       "      <td>0</td>\n",
       "      <td>0</td>\n",
       "      <td>0</td>\n",
       "      <td>0</td>\n",
       "      <td>0</td>\n",
       "      <td>1</td>\n",
       "      <td>240</td>\n",
       "      <td>45</td>\n",
       "      <td>285</td>\n",
       "    </tr>\n",
       "  </tbody>\n",
       "</table>\n",
       "<p>5 rows × 31 columns</p>\n",
       "</div>"
      ],
      "text/plain": [
       "  Date_of_Journey                  Route Dep_Time  Arrival_Time Duration  \\\n",
       "0      24/03/2019              BLR → DEL    22:20  01:10 22 Mar   2h 50m   \n",
       "1       1/05/2019  CCU → IXR → BBI → BLR    05:50         13:15   7h 25m   \n",
       "2       9/06/2019  DEL → LKO → BOM → COK    09:25  04:25 10 Jun      19h   \n",
       "3      12/05/2019        CCU → NAG → BLR    18:05         23:30   5h 25m   \n",
       "4      01/03/2019        BLR → NAG → DEL    16:50         21:35   4h 45m   \n",
       "\n",
       "   Total_Stops Additional_Info  Price  Airline_Air Asia  Airline_Air India  \\\n",
       "0            0         No info   3897                 0                  0   \n",
       "1            2         No info   7662                 0                  1   \n",
       "2            2         No info  13882                 0                  0   \n",
       "3            1         No info   6218                 0                  0   \n",
       "4            1         No info  13302                 0                  0   \n",
       "\n",
       "   ...  Source_Mumbai  Destination_Banglore  Destination_Cochin  \\\n",
       "0  ...              0                     0                   0   \n",
       "1  ...              0                     1                   0   \n",
       "2  ...              0                     0                   1   \n",
       "3  ...              0                     1                   0   \n",
       "4  ...              0                     0                   0   \n",
       "\n",
       "   Destination_Delhi  Destination_Hyderabad  Destination_Kolkata  \\\n",
       "0                  0                      0                    0   \n",
       "1                  0                      0                    0   \n",
       "2                  0                      0                    0   \n",
       "3                  0                      0                    0   \n",
       "4                  0                      0                    0   \n",
       "\n",
       "   Destination_New Delhi  Duration_hours  Duration_minutes  \\\n",
       "0                      1             120                50   \n",
       "1                      0             420                25   \n",
       "2                      0            1140                 0   \n",
       "3                      0             300                25   \n",
       "4                      1             240                45   \n",
       "\n",
       "   Duration_Total_mins  \n",
       "0                  170  \n",
       "1                  445  \n",
       "2                 1140  \n",
       "3                  325  \n",
       "4                  285  \n",
       "\n",
       "[5 rows x 31 columns]"
      ]
     },
     "execution_count": 20,
     "metadata": {},
     "output_type": "execute_result"
    }
   ],
   "source": [
    "data1.head()"
   ]
  },
  {
   "cell_type": "markdown",
   "metadata": {},
   "source": [
    "As you have noticed, three new columns were created: 'Duration_hours', 'Duration_minutes', and 'Duration_Total_mins' - all numerical values.\n"
   ]
  },
  {
   "cell_type": "markdown",
   "metadata": {},
   "source": [
    "#### **Transforming the 'Departure' and 'Arrival' Time Columns**\n"
   ]
  },
  {
   "cell_type": "markdown",
   "metadata": {},
   "source": [
    "Now, we will transform the 'Dep_Time' and 'Arrival_Time' columns to the appropriate date and time format. We will use *pandas* `to_datetime()` function for this.\n",
    "\n",
    "We will split the 'Dep_Time' and 'Arrival_Time' columns into their corresponding hours and minutes columns.\n"
   ]
  },
  {
   "cell_type": "code",
   "execution_count": 21,
   "metadata": {},
   "outputs": [],
   "source": [
    "data1[\"Dep_Hour\"]= pd.to_datetime(data1['Dep_Time']).dt.hour\n",
    "data1[\"Dep_Min\"]= pd.to_datetime(data1['Dep_Time']).dt.minute"
   ]
  },
  {
   "cell_type": "markdown",
   "metadata": {},
   "source": [
    "## Exercise 3\n",
    "\n",
    "Now, let's transform the 'Arrival_Time' column.\n"
   ]
  },
  {
   "cell_type": "code",
   "execution_count": 22,
   "metadata": {},
   "outputs": [],
   "source": [
    "data1[\"Arrival_Hour\"]= pd.to_datetime(data1['Arrival_Time']).dt.hour\n",
    "data1[\"Arrival_Min\"]= pd.to_datetime(data1['Arrival_Time']).dt.minute"
   ]
  },
  {
   "cell_type": "markdown",
   "metadata": {},
   "source": [
    "#### **Splitting 'Departure/Arrival_Time' into Time Zones**\n"
   ]
  },
  {
   "cell_type": "markdown",
   "metadata": {},
   "source": [
    "To further transform our 'Departure/Arrival_Time' column, we can break down the 24 hours format for the departure and arrival time into 4 different time zones: night, morning, afternoon, and evening. This might be an interesting feature engineering technique to see what time of a day has the most arrivals/departures.\n",
    "\n",
    "One way to do this is transformation is by using *pandas* `cut()` function.\n"
   ]
  },
  {
   "cell_type": "code",
   "execution_count": 23,
   "metadata": {},
   "outputs": [
    {
     "data": {
      "text/plain": [
       "0          Evening\n",
       "1            Night\n",
       "2          Morning\n",
       "3        Afternoon\n",
       "4        Afternoon\n",
       "           ...    \n",
       "10678      Evening\n",
       "10679      Evening\n",
       "10680      Morning\n",
       "10681      Morning\n",
       "10682      Morning\n",
       "Name: dep_timezone, Length: 10683, dtype: category\n",
       "Categories (4, object): ['Night' < 'Morning' < 'Afternoon' < 'Evening']"
      ]
     },
     "execution_count": 23,
     "metadata": {},
     "output_type": "execute_result"
    }
   ],
   "source": [
    "data1['dep_timezone'] = pd.cut(data1.Dep_Hour, [0,6,12,18,24], labels=['Night','Morning','Afternoon','Evening'])\n",
    "data1['dep_timezone'] "
   ]
  },
  {
   "cell_type": "markdown",
   "metadata": {},
   "source": [
    "## Exercise 4\n",
    "\n",
    "Now, let's transform the 'Arrival_Time' column into its corresponding time zones, as shown in the example above.\n"
   ]
  },
  {
   "cell_type": "code",
   "execution_count": 24,
   "metadata": {},
   "outputs": [],
   "source": [
    "data1[\"Arrival_Hour\"]= pd.to_datetime(data1['Arrival_Time']).dt.hour\n",
    "data1['arr_timezone'] = pd.cut(data1.Arrival_Hour, [0,6,12,18,24], labels=['Night','Morning','Afternoon','Evening'])"
   ]
  },
  {
   "cell_type": "markdown",
   "metadata": {},
   "source": [
    "#### **Transforming the 'Date_of_Journey' Column**\n"
   ]
  },
  {
   "cell_type": "markdown",
   "metadata": {},
   "source": [
    "Similar to the departure/arrival time, we will now extract some information from the 'date_of_journey' column, which is also an object type and can not be used for any machine learning algorithm yet.\n",
    "\n",
    "So, we will extract the month information first and store it under the 'Month' column name.\n"
   ]
  },
  {
   "cell_type": "code",
   "execution_count": 25,
   "metadata": {},
   "outputs": [],
   "source": [
    "data1['Month']= pd.to_datetime(data1[\"Date_of_Journey\"], format=\"%d/%m/%Y\").dt.month"
   ]
  },
  {
   "cell_type": "markdown",
   "metadata": {},
   "source": [
    "## Exercise 5\n",
    "\n",
    "Now, let's create 'Day' and 'Year' columns in a similar way.\n"
   ]
  },
  {
   "cell_type": "code",
   "execution_count": 26,
   "metadata": {},
   "outputs": [],
   "source": [
    "data1['Day']= pd.to_datetime(data1[\"Date_of_Journey\"], format=\"%d/%m/%Y\").dt.day\n",
    "data1['Year']= pd.to_datetime(data1[\"Date_of_Journey\"], format=\"%d/%m/%Y\").dt.year"
   ]
  },
  {
   "cell_type": "code",
   "execution_count": 27,
   "metadata": {},
   "outputs": [],
   "source": [
    "data1['day_of_week'] = pd.to_datetime(data1['Date_of_Journey']).dt.day_name()"
   ]
  },
  {
   "cell_type": "markdown",
   "metadata": {},
   "source": [
    "## **Feature Selection**\n"
   ]
  },
  {
   "cell_type": "markdown",
   "metadata": {},
   "source": [
    "Here, we will select only those attributes which best explain the relationship of the independent variables with respect to the target variable, 'price'. There are many methods for feature selection, building the heatmap and calculating the correlation coefficients scores are the most commonly used ones.\n",
    "\n",
    "First, we will select only the relevant and newly transformed variables (and exclude variables such as 'Route', 'Additional_Info', and all the original categorical variables), and place them into a 'new_data' data frame.\n"
   ]
  },
  {
   "cell_type": "markdown",
   "metadata": {},
   "source": [
    "We will print all of our data1 columns.\n"
   ]
  },
  {
   "cell_type": "code",
   "execution_count": 28,
   "metadata": {},
   "outputs": [
    {
     "data": {
      "text/plain": [
       "Index(['Date_of_Journey', 'Route', 'Dep_Time', 'Arrival_Time', 'Duration',\n",
       "       'Total_Stops', 'Additional_Info', 'Price', 'Airline_Air Asia',\n",
       "       'Airline_Air India', 'Airline_GoAir', 'Airline_IndiGo',\n",
       "       'Airline_Jet Airways', 'Airline_Multiple carriers', 'Airline_SpiceJet',\n",
       "       'Airline_Trujet', 'Airline_Vistara', 'Source_Banglore',\n",
       "       'Source_Chennai', 'Source_Delhi', 'Source_Kolkata', 'Source_Mumbai',\n",
       "       'Destination_Banglore', 'Destination_Cochin', 'Destination_Delhi',\n",
       "       'Destination_Hyderabad', 'Destination_Kolkata', 'Destination_New Delhi',\n",
       "       'Duration_hours', 'Duration_minutes', 'Duration_Total_mins', 'Dep_Hour',\n",
       "       'Dep_Min', 'Arrival_Hour', 'Arrival_Min', 'dep_timezone',\n",
       "       'arr_timezone', 'Month', 'Day', 'Year', 'day_of_week'],\n",
       "      dtype='object')"
      ]
     },
     "execution_count": 28,
     "metadata": {},
     "output_type": "execute_result"
    }
   ],
   "source": [
    "data1.columns"
   ]
  },
  {
   "cell_type": "code",
   "execution_count": 29,
   "metadata": {},
   "outputs": [],
   "source": [
    "new_data = data1.loc[:,['Total_Stops', 'Airline_Air Asia',\n",
    "       'Airline_Air India', 'Airline_GoAir', 'Airline_IndiGo',\n",
    "       'Airline_Jet Airways', 'Airline_Multiple carriers', 'Airline_SpiceJet',\n",
    "       'Airline_Trujet', 'Airline_Vistara', 'Source_Banglore',\n",
    "       'Source_Chennai', 'Source_Delhi', 'Source_Kolkata', 'Source_Mumbai',\n",
    "       'Destination_Banglore', 'Destination_Cochin', 'Destination_Delhi',\n",
    "       'Destination_Hyderabad', 'Destination_Kolkata', 'Destination_New Delhi',\n",
    "       'Duration_hours', 'Duration_minutes', 'Duration_Total_mins', 'Dep_Hour',\n",
    "       'Dep_Min', 'dep_timezone', 'Price']]"
   ]
  },
  {
   "cell_type": "markdown",
   "metadata": {},
   "source": [
    "Now we will construct a `heatmap()`, using the *seaborn* library with a newly formed data frame, 'new_data'.\n"
   ]
  },
  {
   "cell_type": "code",
   "execution_count": 38,
   "metadata": {},
   "outputs": [
    {
     "data": {
      "text/html": [
       "<div>\n",
       "<style scoped>\n",
       "    .dataframe tbody tr th:only-of-type {\n",
       "        vertical-align: middle;\n",
       "    }\n",
       "\n",
       "    .dataframe tbody tr th {\n",
       "        vertical-align: top;\n",
       "    }\n",
       "\n",
       "    .dataframe thead th {\n",
       "        text-align: right;\n",
       "    }\n",
       "</style>\n",
       "<table border=\"1\" class=\"dataframe\">\n",
       "  <thead>\n",
       "    <tr style=\"text-align: right;\">\n",
       "      <th></th>\n",
       "      <th>Total_Stops</th>\n",
       "      <th>Airline_Air Asia</th>\n",
       "      <th>Airline_Air India</th>\n",
       "      <th>Airline_GoAir</th>\n",
       "      <th>Airline_IndiGo</th>\n",
       "      <th>Airline_Jet Airways</th>\n",
       "      <th>Airline_Multiple carriers</th>\n",
       "      <th>Airline_SpiceJet</th>\n",
       "      <th>Airline_Trujet</th>\n",
       "      <th>Airline_Vistara</th>\n",
       "      <th>...</th>\n",
       "      <th>Destination_Delhi</th>\n",
       "      <th>Destination_Hyderabad</th>\n",
       "      <th>Destination_Kolkata</th>\n",
       "      <th>Destination_New Delhi</th>\n",
       "      <th>Duration_hours</th>\n",
       "      <th>Duration_minutes</th>\n",
       "      <th>Duration_Total_mins</th>\n",
       "      <th>Dep_Hour</th>\n",
       "      <th>Dep_Min</th>\n",
       "      <th>Price</th>\n",
       "    </tr>\n",
       "  </thead>\n",
       "  <tbody>\n",
       "    <tr>\n",
       "      <th>Total_Stops</th>\n",
       "      <td>1.000000</td>\n",
       "      <td>-0.094396</td>\n",
       "      <td>0.270753</td>\n",
       "      <td>-0.060090</td>\n",
       "      <td>-0.302911</td>\n",
       "      <td>0.215937</td>\n",
       "      <td>0.118873</td>\n",
       "      <td>-0.274298</td>\n",
       "      <td>0.002520</td>\n",
       "      <td>-0.121707</td>\n",
       "      <td>...</td>\n",
       "      <td>-0.447314</td>\n",
       "      <td>-0.260703</td>\n",
       "      <td>-0.234719</td>\n",
       "      <td>-0.015266</td>\n",
       "      <td>0.739614</td>\n",
       "      <td>-0.136773</td>\n",
       "      <td>0.737764</td>\n",
       "      <td>-0.061402</td>\n",
       "      <td>-0.002743</td>\n",
       "      <td>0.603891</td>\n",
       "    </tr>\n",
       "    <tr>\n",
       "      <th>Airline_Air Asia</th>\n",
       "      <td>-0.094396</td>\n",
       "      <td>1.000000</td>\n",
       "      <td>-0.077705</td>\n",
       "      <td>-0.023860</td>\n",
       "      <td>-0.085570</td>\n",
       "      <td>-0.131825</td>\n",
       "      <td>-0.062673</td>\n",
       "      <td>-0.050520</td>\n",
       "      <td>-0.001697</td>\n",
       "      <td>-0.038136</td>\n",
       "      <td>...</td>\n",
       "      <td>0.056558</td>\n",
       "      <td>-0.046350</td>\n",
       "      <td>-0.033739</td>\n",
       "      <td>-0.019158</td>\n",
       "      <td>-0.104330</td>\n",
       "      <td>0.085799</td>\n",
       "      <td>-0.101850</td>\n",
       "      <td>0.045969</td>\n",
       "      <td>0.158184</td>\n",
       "      <td>-0.133044</td>\n",
       "    </tr>\n",
       "    <tr>\n",
       "      <th>Airline_Air India</th>\n",
       "      <td>0.270753</td>\n",
       "      <td>-0.077705</td>\n",
       "      <td>1.000000</td>\n",
       "      <td>-0.060235</td>\n",
       "      <td>-0.216026</td>\n",
       "      <td>-0.332799</td>\n",
       "      <td>-0.158221</td>\n",
       "      <td>-0.127540</td>\n",
       "      <td>-0.004285</td>\n",
       "      <td>-0.096276</td>\n",
       "      <td>...</td>\n",
       "      <td>-0.068431</td>\n",
       "      <td>0.022206</td>\n",
       "      <td>-0.051097</td>\n",
       "      <td>0.052993</td>\n",
       "      <td>0.261934</td>\n",
       "      <td>-0.033273</td>\n",
       "      <td>0.261785</td>\n",
       "      <td>-0.013004</td>\n",
       "      <td>-0.045442</td>\n",
       "      <td>0.050346</td>\n",
       "    </tr>\n",
       "    <tr>\n",
       "      <th>Airline_GoAir</th>\n",
       "      <td>-0.060090</td>\n",
       "      <td>-0.023860</td>\n",
       "      <td>-0.060235</td>\n",
       "      <td>1.000000</td>\n",
       "      <td>-0.066332</td>\n",
       "      <td>-0.102188</td>\n",
       "      <td>-0.048583</td>\n",
       "      <td>-0.039162</td>\n",
       "      <td>-0.001316</td>\n",
       "      <td>-0.029562</td>\n",
       "      <td>...</td>\n",
       "      <td>0.099867</td>\n",
       "      <td>-0.035930</td>\n",
       "      <td>-0.026154</td>\n",
       "      <td>0.017576</td>\n",
       "      <td>-0.094053</td>\n",
       "      <td>0.067205</td>\n",
       "      <td>-0.092156</td>\n",
       "      <td>-0.016365</td>\n",
       "      <td>0.076733</td>\n",
       "      <td>-0.095146</td>\n",
       "    </tr>\n",
       "    <tr>\n",
       "      <th>Airline_IndiGo</th>\n",
       "      <td>-0.302911</td>\n",
       "      <td>-0.085570</td>\n",
       "      <td>-0.216026</td>\n",
       "      <td>-0.066332</td>\n",
       "      <td>1.000000</td>\n",
       "      <td>-0.366484</td>\n",
       "      <td>-0.174235</td>\n",
       "      <td>-0.140449</td>\n",
       "      <td>-0.004719</td>\n",
       "      <td>-0.106021</td>\n",
       "      <td>...</td>\n",
       "      <td>0.090369</td>\n",
       "      <td>0.059697</td>\n",
       "      <td>0.141918</td>\n",
       "      <td>-0.018612</td>\n",
       "      <td>-0.346258</td>\n",
       "      <td>0.119781</td>\n",
       "      <td>-0.343531</td>\n",
       "      <td>-0.023367</td>\n",
       "      <td>-0.014763</td>\n",
       "      <td>-0.361048</td>\n",
       "    </tr>\n",
       "    <tr>\n",
       "      <th>Airline_Jet Airways</th>\n",
       "      <td>0.215937</td>\n",
       "      <td>-0.131825</td>\n",
       "      <td>-0.332799</td>\n",
       "      <td>-0.102188</td>\n",
       "      <td>-0.366484</td>\n",
       "      <td>1.000000</td>\n",
       "      <td>-0.268418</td>\n",
       "      <td>-0.216368</td>\n",
       "      <td>-0.007270</td>\n",
       "      <td>-0.163331</td>\n",
       "      <td>...</td>\n",
       "      <td>-0.052170</td>\n",
       "      <td>-0.025663</td>\n",
       "      <td>-0.144500</td>\n",
       "      <td>0.059184</td>\n",
       "      <td>0.306361</td>\n",
       "      <td>-0.084183</td>\n",
       "      <td>0.304676</td>\n",
       "      <td>0.113570</td>\n",
       "      <td>0.024820</td>\n",
       "      <td>0.428490</td>\n",
       "    </tr>\n",
       "    <tr>\n",
       "      <th>Airline_Multiple carriers</th>\n",
       "      <td>0.118873</td>\n",
       "      <td>-0.062673</td>\n",
       "      <td>-0.158221</td>\n",
       "      <td>-0.048583</td>\n",
       "      <td>-0.174235</td>\n",
       "      <td>-0.268418</td>\n",
       "      <td>1.000000</td>\n",
       "      <td>-0.102867</td>\n",
       "      <td>-0.003456</td>\n",
       "      <td>-0.077651</td>\n",
       "      <td>...</td>\n",
       "      <td>-0.130922</td>\n",
       "      <td>-0.094377</td>\n",
       "      <td>-0.068699</td>\n",
       "      <td>-0.110441</td>\n",
       "      <td>-0.008331</td>\n",
       "      <td>-0.118981</td>\n",
       "      <td>-0.012332</td>\n",
       "      <td>-0.152417</td>\n",
       "      <td>-0.109394</td>\n",
       "      <td>0.141087</td>\n",
       "    </tr>\n",
       "    <tr>\n",
       "      <th>Airline_SpiceJet</th>\n",
       "      <td>-0.274298</td>\n",
       "      <td>-0.050520</td>\n",
       "      <td>-0.127540</td>\n",
       "      <td>-0.039162</td>\n",
       "      <td>-0.140449</td>\n",
       "      <td>-0.216368</td>\n",
       "      <td>-0.102867</td>\n",
       "      <td>1.000000</td>\n",
       "      <td>-0.002786</td>\n",
       "      <td>-0.062594</td>\n",
       "      <td>...</td>\n",
       "      <td>0.043733</td>\n",
       "      <td>0.097830</td>\n",
       "      <td>0.187594</td>\n",
       "      <td>-0.034136</td>\n",
       "      <td>-0.263855</td>\n",
       "      <td>0.041299</td>\n",
       "      <td>-0.263445</td>\n",
       "      <td>-0.010434</td>\n",
       "      <td>0.092599</td>\n",
       "      <td>-0.296552</td>\n",
       "    </tr>\n",
       "    <tr>\n",
       "      <th>Airline_Trujet</th>\n",
       "      <td>0.002520</td>\n",
       "      <td>-0.001697</td>\n",
       "      <td>-0.004285</td>\n",
       "      <td>-0.001316</td>\n",
       "      <td>-0.004719</td>\n",
       "      <td>-0.007270</td>\n",
       "      <td>-0.003456</td>\n",
       "      <td>-0.002786</td>\n",
       "      <td>1.000000</td>\n",
       "      <td>-0.002103</td>\n",
       "      <td>...</td>\n",
       "      <td>-0.003546</td>\n",
       "      <td>0.036623</td>\n",
       "      <td>-0.001861</td>\n",
       "      <td>-0.002991</td>\n",
       "      <td>-0.008253</td>\n",
       "      <td>-0.007610</td>\n",
       "      <td>-0.008537</td>\n",
       "      <td>0.000857</td>\n",
       "      <td>-0.010008</td>\n",
       "      <td>-0.010380</td>\n",
       "    </tr>\n",
       "    <tr>\n",
       "      <th>Airline_Vistara</th>\n",
       "      <td>-0.121707</td>\n",
       "      <td>-0.038136</td>\n",
       "      <td>-0.096276</td>\n",
       "      <td>-0.029562</td>\n",
       "      <td>-0.106021</td>\n",
       "      <td>-0.163331</td>\n",
       "      <td>-0.077651</td>\n",
       "      <td>-0.062594</td>\n",
       "      <td>-0.002103</td>\n",
       "      <td>1.000000</td>\n",
       "      <td>...</td>\n",
       "      <td>0.104581</td>\n",
       "      <td>-0.015426</td>\n",
       "      <td>0.065196</td>\n",
       "      <td>0.020695</td>\n",
       "      <td>-0.021639</td>\n",
       "      <td>0.042212</td>\n",
       "      <td>-0.020310</td>\n",
       "      <td>0.023574</td>\n",
       "      <td>-0.078608</td>\n",
       "      <td>-0.060503</td>\n",
       "    </tr>\n",
       "    <tr>\n",
       "      <th>Source_Banglore</th>\n",
       "      <td>-0.368236</td>\n",
       "      <td>0.031836</td>\n",
       "      <td>-0.017704</td>\n",
       "      <td>0.092104</td>\n",
       "      <td>0.059246</td>\n",
       "      <td>-0.000384</td>\n",
       "      <td>-0.181765</td>\n",
       "      <td>0.011127</td>\n",
       "      <td>-0.004923</td>\n",
       "      <td>0.098050</td>\n",
       "      <td>...</td>\n",
       "      <td>0.720282</td>\n",
       "      <td>-0.134426</td>\n",
       "      <td>-0.097851</td>\n",
       "      <td>0.607603</td>\n",
       "      <td>-0.273954</td>\n",
       "      <td>0.230154</td>\n",
       "      <td>-0.267279</td>\n",
       "      <td>-0.007858</td>\n",
       "      <td>0.077296</td>\n",
       "      <td>-0.118026</td>\n",
       "    </tr>\n",
       "    <tr>\n",
       "      <th>Source_Chennai</th>\n",
       "      <td>-0.234719</td>\n",
       "      <td>-0.033739</td>\n",
       "      <td>-0.051097</td>\n",
       "      <td>-0.026154</td>\n",
       "      <td>0.141918</td>\n",
       "      <td>-0.144500</td>\n",
       "      <td>-0.068699</td>\n",
       "      <td>0.187594</td>\n",
       "      <td>-0.001861</td>\n",
       "      <td>0.065196</td>\n",
       "      <td>...</td>\n",
       "      <td>-0.070480</td>\n",
       "      <td>-0.050807</td>\n",
       "      <td>1.000000</td>\n",
       "      <td>-0.059455</td>\n",
       "      <td>-0.186675</td>\n",
       "      <td>-0.098833</td>\n",
       "      <td>-0.190657</td>\n",
       "      <td>-0.014835</td>\n",
       "      <td>0.067086</td>\n",
       "      <td>-0.179216</td>\n",
       "    </tr>\n",
       "    <tr>\n",
       "      <th>Source_Delhi</th>\n",
       "      <td>0.489972</td>\n",
       "      <td>-0.061726</td>\n",
       "      <td>0.001502</td>\n",
       "      <td>-0.009063</td>\n",
       "      <td>-0.080215</td>\n",
       "      <td>-0.019398</td>\n",
       "      <td>0.415775</td>\n",
       "      <td>-0.185450</td>\n",
       "      <td>-0.008313</td>\n",
       "      <td>-0.145706</td>\n",
       "      <td>...</td>\n",
       "      <td>-0.314886</td>\n",
       "      <td>-0.226991</td>\n",
       "      <td>-0.165230</td>\n",
       "      <td>-0.265627</td>\n",
       "      <td>0.299931</td>\n",
       "      <td>-0.154038</td>\n",
       "      <td>0.295892</td>\n",
       "      <td>-0.118836</td>\n",
       "      <td>-0.085405</td>\n",
       "      <td>0.270619</td>\n",
       "    </tr>\n",
       "    <tr>\n",
       "      <th>Source_Kolkata</th>\n",
       "      <td>0.032827</td>\n",
       "      <td>0.079735</td>\n",
       "      <td>0.023472</td>\n",
       "      <td>-0.042912</td>\n",
       "      <td>-0.057200</td>\n",
       "      <td>0.096725</td>\n",
       "      <td>-0.216562</td>\n",
       "      <td>0.063660</td>\n",
       "      <td>-0.005866</td>\n",
       "      <td>0.054390</td>\n",
       "      <td>...</td>\n",
       "      <td>-0.222178</td>\n",
       "      <td>-0.160161</td>\n",
       "      <td>-0.116584</td>\n",
       "      <td>-0.187421</td>\n",
       "      <td>0.123424</td>\n",
       "      <td>0.013722</td>\n",
       "      <td>0.124334</td>\n",
       "      <td>0.155500</td>\n",
       "      <td>-0.024298</td>\n",
       "      <td>0.009377</td>\n",
       "    </tr>\n",
       "    <tr>\n",
       "      <th>Source_Mumbai</th>\n",
       "      <td>-0.260703</td>\n",
       "      <td>-0.046350</td>\n",
       "      <td>0.022206</td>\n",
       "      <td>-0.035930</td>\n",
       "      <td>0.059697</td>\n",
       "      <td>-0.025663</td>\n",
       "      <td>-0.094377</td>\n",
       "      <td>0.097830</td>\n",
       "      <td>0.036623</td>\n",
       "      <td>-0.015426</td>\n",
       "      <td>...</td>\n",
       "      <td>-0.096825</td>\n",
       "      <td>1.000000</td>\n",
       "      <td>-0.050807</td>\n",
       "      <td>-0.081678</td>\n",
       "      <td>-0.233338</td>\n",
       "      <td>-0.018777</td>\n",
       "      <td>-0.234821</td>\n",
       "      <td>-0.017277</td>\n",
       "      <td>0.037675</td>\n",
       "      <td>-0.230745</td>\n",
       "    </tr>\n",
       "    <tr>\n",
       "      <th>Destination_Banglore</th>\n",
       "      <td>0.032827</td>\n",
       "      <td>0.079735</td>\n",
       "      <td>0.023472</td>\n",
       "      <td>-0.042912</td>\n",
       "      <td>-0.057200</td>\n",
       "      <td>0.096725</td>\n",
       "      <td>-0.216562</td>\n",
       "      <td>0.063660</td>\n",
       "      <td>-0.005866</td>\n",
       "      <td>0.054390</td>\n",
       "      <td>...</td>\n",
       "      <td>-0.222178</td>\n",
       "      <td>-0.160161</td>\n",
       "      <td>-0.116584</td>\n",
       "      <td>-0.187421</td>\n",
       "      <td>0.123424</td>\n",
       "      <td>0.013722</td>\n",
       "      <td>0.124334</td>\n",
       "      <td>0.155500</td>\n",
       "      <td>-0.024298</td>\n",
       "      <td>0.009377</td>\n",
       "    </tr>\n",
       "    <tr>\n",
       "      <th>Destination_Cochin</th>\n",
       "      <td>0.489972</td>\n",
       "      <td>-0.061726</td>\n",
       "      <td>0.001502</td>\n",
       "      <td>-0.009063</td>\n",
       "      <td>-0.080215</td>\n",
       "      <td>-0.019398</td>\n",
       "      <td>0.415775</td>\n",
       "      <td>-0.185450</td>\n",
       "      <td>-0.008313</td>\n",
       "      <td>-0.145706</td>\n",
       "      <td>...</td>\n",
       "      <td>-0.314886</td>\n",
       "      <td>-0.226991</td>\n",
       "      <td>-0.165230</td>\n",
       "      <td>-0.265627</td>\n",
       "      <td>0.299931</td>\n",
       "      <td>-0.154038</td>\n",
       "      <td>0.295892</td>\n",
       "      <td>-0.118836</td>\n",
       "      <td>-0.085405</td>\n",
       "      <td>0.270619</td>\n",
       "    </tr>\n",
       "    <tr>\n",
       "      <th>Destination_Delhi</th>\n",
       "      <td>-0.447314</td>\n",
       "      <td>0.056558</td>\n",
       "      <td>-0.068431</td>\n",
       "      <td>0.099867</td>\n",
       "      <td>0.090369</td>\n",
       "      <td>-0.052170</td>\n",
       "      <td>-0.130922</td>\n",
       "      <td>0.043733</td>\n",
       "      <td>-0.003546</td>\n",
       "      <td>0.104581</td>\n",
       "      <td>...</td>\n",
       "      <td>1.000000</td>\n",
       "      <td>-0.096825</td>\n",
       "      <td>-0.070480</td>\n",
       "      <td>-0.113305</td>\n",
       "      <td>-0.346205</td>\n",
       "      <td>0.218177</td>\n",
       "      <td>-0.340195</td>\n",
       "      <td>0.009489</td>\n",
       "      <td>0.003162</td>\n",
       "      <td>-0.313401</td>\n",
       "    </tr>\n",
       "    <tr>\n",
       "      <th>Destination_Hyderabad</th>\n",
       "      <td>-0.260703</td>\n",
       "      <td>-0.046350</td>\n",
       "      <td>0.022206</td>\n",
       "      <td>-0.035930</td>\n",
       "      <td>0.059697</td>\n",
       "      <td>-0.025663</td>\n",
       "      <td>-0.094377</td>\n",
       "      <td>0.097830</td>\n",
       "      <td>0.036623</td>\n",
       "      <td>-0.015426</td>\n",
       "      <td>...</td>\n",
       "      <td>-0.096825</td>\n",
       "      <td>1.000000</td>\n",
       "      <td>-0.050807</td>\n",
       "      <td>-0.081678</td>\n",
       "      <td>-0.233338</td>\n",
       "      <td>-0.018777</td>\n",
       "      <td>-0.234821</td>\n",
       "      <td>-0.017277</td>\n",
       "      <td>0.037675</td>\n",
       "      <td>-0.230745</td>\n",
       "    </tr>\n",
       "    <tr>\n",
       "      <th>Destination_Kolkata</th>\n",
       "      <td>-0.234719</td>\n",
       "      <td>-0.033739</td>\n",
       "      <td>-0.051097</td>\n",
       "      <td>-0.026154</td>\n",
       "      <td>0.141918</td>\n",
       "      <td>-0.144500</td>\n",
       "      <td>-0.068699</td>\n",
       "      <td>0.187594</td>\n",
       "      <td>-0.001861</td>\n",
       "      <td>0.065196</td>\n",
       "      <td>...</td>\n",
       "      <td>-0.070480</td>\n",
       "      <td>-0.050807</td>\n",
       "      <td>1.000000</td>\n",
       "      <td>-0.059455</td>\n",
       "      <td>-0.186675</td>\n",
       "      <td>-0.098833</td>\n",
       "      <td>-0.190657</td>\n",
       "      <td>-0.014835</td>\n",
       "      <td>0.067086</td>\n",
       "      <td>-0.179216</td>\n",
       "    </tr>\n",
       "    <tr>\n",
       "      <th>Destination_New Delhi</th>\n",
       "      <td>-0.015266</td>\n",
       "      <td>-0.019158</td>\n",
       "      <td>0.052993</td>\n",
       "      <td>0.017576</td>\n",
       "      <td>-0.018612</td>\n",
       "      <td>0.059184</td>\n",
       "      <td>-0.110441</td>\n",
       "      <td>-0.034136</td>\n",
       "      <td>-0.002991</td>\n",
       "      <td>0.020695</td>\n",
       "      <td>...</td>\n",
       "      <td>-0.113305</td>\n",
       "      <td>-0.081678</td>\n",
       "      <td>-0.059455</td>\n",
       "      <td>1.000000</td>\n",
       "      <td>0.004008</td>\n",
       "      <td>0.079844</td>\n",
       "      <td>0.006687</td>\n",
       "      <td>-0.022120</td>\n",
       "      <td>0.107091</td>\n",
       "      <td>0.189785</td>\n",
       "    </tr>\n",
       "    <tr>\n",
       "      <th>Duration_hours</th>\n",
       "      <td>0.739614</td>\n",
       "      <td>-0.104330</td>\n",
       "      <td>0.261934</td>\n",
       "      <td>-0.094053</td>\n",
       "      <td>-0.346258</td>\n",
       "      <td>0.306361</td>\n",
       "      <td>-0.008331</td>\n",
       "      <td>-0.263855</td>\n",
       "      <td>-0.008253</td>\n",
       "      <td>-0.021639</td>\n",
       "      <td>...</td>\n",
       "      <td>-0.346205</td>\n",
       "      <td>-0.233338</td>\n",
       "      <td>-0.186675</td>\n",
       "      <td>0.004008</td>\n",
       "      <td>1.000000</td>\n",
       "      <td>-0.126355</td>\n",
       "      <td>0.999452</td>\n",
       "      <td>0.002783</td>\n",
       "      <td>-0.021946</td>\n",
       "      <td>0.508672</td>\n",
       "    </tr>\n",
       "    <tr>\n",
       "      <th>Duration_minutes</th>\n",
       "      <td>-0.136773</td>\n",
       "      <td>0.085799</td>\n",
       "      <td>-0.033273</td>\n",
       "      <td>0.067205</td>\n",
       "      <td>0.119781</td>\n",
       "      <td>-0.084183</td>\n",
       "      <td>-0.118981</td>\n",
       "      <td>0.041299</td>\n",
       "      <td>-0.007610</td>\n",
       "      <td>0.042212</td>\n",
       "      <td>...</td>\n",
       "      <td>0.218177</td>\n",
       "      <td>-0.018777</td>\n",
       "      <td>-0.098833</td>\n",
       "      <td>0.079844</td>\n",
       "      <td>-0.126355</td>\n",
       "      <td>1.000000</td>\n",
       "      <td>-0.093452</td>\n",
       "      <td>-0.023746</td>\n",
       "      <td>0.092548</td>\n",
       "      <td>-0.124874</td>\n",
       "    </tr>\n",
       "    <tr>\n",
       "      <th>Duration_Total_mins</th>\n",
       "      <td>0.737764</td>\n",
       "      <td>-0.101850</td>\n",
       "      <td>0.261785</td>\n",
       "      <td>-0.092156</td>\n",
       "      <td>-0.343531</td>\n",
       "      <td>0.304676</td>\n",
       "      <td>-0.012332</td>\n",
       "      <td>-0.263445</td>\n",
       "      <td>-0.008537</td>\n",
       "      <td>-0.020310</td>\n",
       "      <td>...</td>\n",
       "      <td>-0.340195</td>\n",
       "      <td>-0.234821</td>\n",
       "      <td>-0.190657</td>\n",
       "      <td>0.006687</td>\n",
       "      <td>0.999452</td>\n",
       "      <td>-0.093452</td>\n",
       "      <td>1.000000</td>\n",
       "      <td>0.002001</td>\n",
       "      <td>-0.018938</td>\n",
       "      <td>0.506371</td>\n",
       "    </tr>\n",
       "    <tr>\n",
       "      <th>Dep_Hour</th>\n",
       "      <td>-0.061402</td>\n",
       "      <td>0.045969</td>\n",
       "      <td>-0.013004</td>\n",
       "      <td>-0.016365</td>\n",
       "      <td>-0.023367</td>\n",
       "      <td>0.113570</td>\n",
       "      <td>-0.152417</td>\n",
       "      <td>-0.010434</td>\n",
       "      <td>0.000857</td>\n",
       "      <td>0.023574</td>\n",
       "      <td>...</td>\n",
       "      <td>0.009489</td>\n",
       "      <td>-0.017277</td>\n",
       "      <td>-0.014835</td>\n",
       "      <td>-0.022120</td>\n",
       "      <td>0.002783</td>\n",
       "      <td>-0.023746</td>\n",
       "      <td>0.002001</td>\n",
       "      <td>1.000000</td>\n",
       "      <td>-0.024806</td>\n",
       "      <td>0.006819</td>\n",
       "    </tr>\n",
       "    <tr>\n",
       "      <th>Dep_Min</th>\n",
       "      <td>-0.002743</td>\n",
       "      <td>0.158184</td>\n",
       "      <td>-0.045442</td>\n",
       "      <td>0.076733</td>\n",
       "      <td>-0.014763</td>\n",
       "      <td>0.024820</td>\n",
       "      <td>-0.109394</td>\n",
       "      <td>0.092599</td>\n",
       "      <td>-0.010008</td>\n",
       "      <td>-0.078608</td>\n",
       "      <td>...</td>\n",
       "      <td>0.003162</td>\n",
       "      <td>0.037675</td>\n",
       "      <td>0.067086</td>\n",
       "      <td>0.107091</td>\n",
       "      <td>-0.021946</td>\n",
       "      <td>0.092548</td>\n",
       "      <td>-0.018938</td>\n",
       "      <td>-0.024806</td>\n",
       "      <td>1.000000</td>\n",
       "      <td>-0.024492</td>\n",
       "    </tr>\n",
       "    <tr>\n",
       "      <th>Price</th>\n",
       "      <td>0.603891</td>\n",
       "      <td>-0.133044</td>\n",
       "      <td>0.050346</td>\n",
       "      <td>-0.095146</td>\n",
       "      <td>-0.361048</td>\n",
       "      <td>0.428490</td>\n",
       "      <td>0.141087</td>\n",
       "      <td>-0.296552</td>\n",
       "      <td>-0.010380</td>\n",
       "      <td>-0.060503</td>\n",
       "      <td>...</td>\n",
       "      <td>-0.313401</td>\n",
       "      <td>-0.230745</td>\n",
       "      <td>-0.179216</td>\n",
       "      <td>0.189785</td>\n",
       "      <td>0.508672</td>\n",
       "      <td>-0.124874</td>\n",
       "      <td>0.506371</td>\n",
       "      <td>0.006819</td>\n",
       "      <td>-0.024492</td>\n",
       "      <td>1.000000</td>\n",
       "    </tr>\n",
       "  </tbody>\n",
       "</table>\n",
       "<p>27 rows × 27 columns</p>\n",
       "</div>"
      ],
      "text/plain": [
       "                           Total_Stops  Airline_Air Asia  Airline_Air India  \\\n",
       "Total_Stops                   1.000000         -0.094396           0.270753   \n",
       "Airline_Air Asia             -0.094396          1.000000          -0.077705   \n",
       "Airline_Air India             0.270753         -0.077705           1.000000   \n",
       "Airline_GoAir                -0.060090         -0.023860          -0.060235   \n",
       "Airline_IndiGo               -0.302911         -0.085570          -0.216026   \n",
       "Airline_Jet Airways           0.215937         -0.131825          -0.332799   \n",
       "Airline_Multiple carriers     0.118873         -0.062673          -0.158221   \n",
       "Airline_SpiceJet             -0.274298         -0.050520          -0.127540   \n",
       "Airline_Trujet                0.002520         -0.001697          -0.004285   \n",
       "Airline_Vistara              -0.121707         -0.038136          -0.096276   \n",
       "Source_Banglore              -0.368236          0.031836          -0.017704   \n",
       "Source_Chennai               -0.234719         -0.033739          -0.051097   \n",
       "Source_Delhi                  0.489972         -0.061726           0.001502   \n",
       "Source_Kolkata                0.032827          0.079735           0.023472   \n",
       "Source_Mumbai                -0.260703         -0.046350           0.022206   \n",
       "Destination_Banglore          0.032827          0.079735           0.023472   \n",
       "Destination_Cochin            0.489972         -0.061726           0.001502   \n",
       "Destination_Delhi            -0.447314          0.056558          -0.068431   \n",
       "Destination_Hyderabad        -0.260703         -0.046350           0.022206   \n",
       "Destination_Kolkata          -0.234719         -0.033739          -0.051097   \n",
       "Destination_New Delhi        -0.015266         -0.019158           0.052993   \n",
       "Duration_hours                0.739614         -0.104330           0.261934   \n",
       "Duration_minutes             -0.136773          0.085799          -0.033273   \n",
       "Duration_Total_mins           0.737764         -0.101850           0.261785   \n",
       "Dep_Hour                     -0.061402          0.045969          -0.013004   \n",
       "Dep_Min                      -0.002743          0.158184          -0.045442   \n",
       "Price                         0.603891         -0.133044           0.050346   \n",
       "\n",
       "                           Airline_GoAir  Airline_IndiGo  Airline_Jet Airways  \\\n",
       "Total_Stops                    -0.060090       -0.302911             0.215937   \n",
       "Airline_Air Asia               -0.023860       -0.085570            -0.131825   \n",
       "Airline_Air India              -0.060235       -0.216026            -0.332799   \n",
       "Airline_GoAir                   1.000000       -0.066332            -0.102188   \n",
       "Airline_IndiGo                 -0.066332        1.000000            -0.366484   \n",
       "Airline_Jet Airways            -0.102188       -0.366484             1.000000   \n",
       "Airline_Multiple carriers      -0.048583       -0.174235            -0.268418   \n",
       "Airline_SpiceJet               -0.039162       -0.140449            -0.216368   \n",
       "Airline_Trujet                 -0.001316       -0.004719            -0.007270   \n",
       "Airline_Vistara                -0.029562       -0.106021            -0.163331   \n",
       "Source_Banglore                 0.092104        0.059246            -0.000384   \n",
       "Source_Chennai                 -0.026154        0.141918            -0.144500   \n",
       "Source_Delhi                   -0.009063       -0.080215            -0.019398   \n",
       "Source_Kolkata                 -0.042912       -0.057200             0.096725   \n",
       "Source_Mumbai                  -0.035930        0.059697            -0.025663   \n",
       "Destination_Banglore           -0.042912       -0.057200             0.096725   \n",
       "Destination_Cochin             -0.009063       -0.080215            -0.019398   \n",
       "Destination_Delhi               0.099867        0.090369            -0.052170   \n",
       "Destination_Hyderabad          -0.035930        0.059697            -0.025663   \n",
       "Destination_Kolkata            -0.026154        0.141918            -0.144500   \n",
       "Destination_New Delhi           0.017576       -0.018612             0.059184   \n",
       "Duration_hours                 -0.094053       -0.346258             0.306361   \n",
       "Duration_minutes                0.067205        0.119781            -0.084183   \n",
       "Duration_Total_mins            -0.092156       -0.343531             0.304676   \n",
       "Dep_Hour                       -0.016365       -0.023367             0.113570   \n",
       "Dep_Min                         0.076733       -0.014763             0.024820   \n",
       "Price                          -0.095146       -0.361048             0.428490   \n",
       "\n",
       "                           Airline_Multiple carriers  Airline_SpiceJet  \\\n",
       "Total_Stops                                 0.118873         -0.274298   \n",
       "Airline_Air Asia                           -0.062673         -0.050520   \n",
       "Airline_Air India                          -0.158221         -0.127540   \n",
       "Airline_GoAir                              -0.048583         -0.039162   \n",
       "Airline_IndiGo                             -0.174235         -0.140449   \n",
       "Airline_Jet Airways                        -0.268418         -0.216368   \n",
       "Airline_Multiple carriers                   1.000000         -0.102867   \n",
       "Airline_SpiceJet                           -0.102867          1.000000   \n",
       "Airline_Trujet                             -0.003456         -0.002786   \n",
       "Airline_Vistara                            -0.077651         -0.062594   \n",
       "Source_Banglore                            -0.181765          0.011127   \n",
       "Source_Chennai                             -0.068699          0.187594   \n",
       "Source_Delhi                                0.415775         -0.185450   \n",
       "Source_Kolkata                             -0.216562          0.063660   \n",
       "Source_Mumbai                              -0.094377          0.097830   \n",
       "Destination_Banglore                       -0.216562          0.063660   \n",
       "Destination_Cochin                          0.415775         -0.185450   \n",
       "Destination_Delhi                          -0.130922          0.043733   \n",
       "Destination_Hyderabad                      -0.094377          0.097830   \n",
       "Destination_Kolkata                        -0.068699          0.187594   \n",
       "Destination_New Delhi                      -0.110441         -0.034136   \n",
       "Duration_hours                             -0.008331         -0.263855   \n",
       "Duration_minutes                           -0.118981          0.041299   \n",
       "Duration_Total_mins                        -0.012332         -0.263445   \n",
       "Dep_Hour                                   -0.152417         -0.010434   \n",
       "Dep_Min                                    -0.109394          0.092599   \n",
       "Price                                       0.141087         -0.296552   \n",
       "\n",
       "                           Airline_Trujet  Airline_Vistara  ...  \\\n",
       "Total_Stops                      0.002520        -0.121707  ...   \n",
       "Airline_Air Asia                -0.001697        -0.038136  ...   \n",
       "Airline_Air India               -0.004285        -0.096276  ...   \n",
       "Airline_GoAir                   -0.001316        -0.029562  ...   \n",
       "Airline_IndiGo                  -0.004719        -0.106021  ...   \n",
       "Airline_Jet Airways             -0.007270        -0.163331  ...   \n",
       "Airline_Multiple carriers       -0.003456        -0.077651  ...   \n",
       "Airline_SpiceJet                -0.002786        -0.062594  ...   \n",
       "Airline_Trujet                   1.000000        -0.002103  ...   \n",
       "Airline_Vistara                 -0.002103         1.000000  ...   \n",
       "Source_Banglore                 -0.004923         0.098050  ...   \n",
       "Source_Chennai                  -0.001861         0.065196  ...   \n",
       "Source_Delhi                    -0.008313        -0.145706  ...   \n",
       "Source_Kolkata                  -0.005866         0.054390  ...   \n",
       "Source_Mumbai                    0.036623        -0.015426  ...   \n",
       "Destination_Banglore            -0.005866         0.054390  ...   \n",
       "Destination_Cochin              -0.008313        -0.145706  ...   \n",
       "Destination_Delhi               -0.003546         0.104581  ...   \n",
       "Destination_Hyderabad            0.036623        -0.015426  ...   \n",
       "Destination_Kolkata             -0.001861         0.065196  ...   \n",
       "Destination_New Delhi           -0.002991         0.020695  ...   \n",
       "Duration_hours                  -0.008253        -0.021639  ...   \n",
       "Duration_minutes                -0.007610         0.042212  ...   \n",
       "Duration_Total_mins             -0.008537        -0.020310  ...   \n",
       "Dep_Hour                         0.000857         0.023574  ...   \n",
       "Dep_Min                         -0.010008        -0.078608  ...   \n",
       "Price                           -0.010380        -0.060503  ...   \n",
       "\n",
       "                           Destination_Delhi  Destination_Hyderabad  \\\n",
       "Total_Stops                        -0.447314              -0.260703   \n",
       "Airline_Air Asia                    0.056558              -0.046350   \n",
       "Airline_Air India                  -0.068431               0.022206   \n",
       "Airline_GoAir                       0.099867              -0.035930   \n",
       "Airline_IndiGo                      0.090369               0.059697   \n",
       "Airline_Jet Airways                -0.052170              -0.025663   \n",
       "Airline_Multiple carriers          -0.130922              -0.094377   \n",
       "Airline_SpiceJet                    0.043733               0.097830   \n",
       "Airline_Trujet                     -0.003546               0.036623   \n",
       "Airline_Vistara                     0.104581              -0.015426   \n",
       "Source_Banglore                     0.720282              -0.134426   \n",
       "Source_Chennai                     -0.070480              -0.050807   \n",
       "Source_Delhi                       -0.314886              -0.226991   \n",
       "Source_Kolkata                     -0.222178              -0.160161   \n",
       "Source_Mumbai                      -0.096825               1.000000   \n",
       "Destination_Banglore               -0.222178              -0.160161   \n",
       "Destination_Cochin                 -0.314886              -0.226991   \n",
       "Destination_Delhi                   1.000000              -0.096825   \n",
       "Destination_Hyderabad              -0.096825               1.000000   \n",
       "Destination_Kolkata                -0.070480              -0.050807   \n",
       "Destination_New Delhi              -0.113305              -0.081678   \n",
       "Duration_hours                     -0.346205              -0.233338   \n",
       "Duration_minutes                    0.218177              -0.018777   \n",
       "Duration_Total_mins                -0.340195              -0.234821   \n",
       "Dep_Hour                            0.009489              -0.017277   \n",
       "Dep_Min                             0.003162               0.037675   \n",
       "Price                              -0.313401              -0.230745   \n",
       "\n",
       "                           Destination_Kolkata  Destination_New Delhi  \\\n",
       "Total_Stops                          -0.234719              -0.015266   \n",
       "Airline_Air Asia                     -0.033739              -0.019158   \n",
       "Airline_Air India                    -0.051097               0.052993   \n",
       "Airline_GoAir                        -0.026154               0.017576   \n",
       "Airline_IndiGo                        0.141918              -0.018612   \n",
       "Airline_Jet Airways                  -0.144500               0.059184   \n",
       "Airline_Multiple carriers            -0.068699              -0.110441   \n",
       "Airline_SpiceJet                      0.187594              -0.034136   \n",
       "Airline_Trujet                       -0.001861              -0.002991   \n",
       "Airline_Vistara                       0.065196               0.020695   \n",
       "Source_Banglore                      -0.097851               0.607603   \n",
       "Source_Chennai                        1.000000              -0.059455   \n",
       "Source_Delhi                         -0.165230              -0.265627   \n",
       "Source_Kolkata                       -0.116584              -0.187421   \n",
       "Source_Mumbai                        -0.050807              -0.081678   \n",
       "Destination_Banglore                 -0.116584              -0.187421   \n",
       "Destination_Cochin                   -0.165230              -0.265627   \n",
       "Destination_Delhi                    -0.070480              -0.113305   \n",
       "Destination_Hyderabad                -0.050807              -0.081678   \n",
       "Destination_Kolkata                   1.000000              -0.059455   \n",
       "Destination_New Delhi                -0.059455               1.000000   \n",
       "Duration_hours                       -0.186675               0.004008   \n",
       "Duration_minutes                     -0.098833               0.079844   \n",
       "Duration_Total_mins                  -0.190657               0.006687   \n",
       "Dep_Hour                             -0.014835              -0.022120   \n",
       "Dep_Min                               0.067086               0.107091   \n",
       "Price                                -0.179216               0.189785   \n",
       "\n",
       "                           Duration_hours  Duration_minutes  \\\n",
       "Total_Stops                      0.739614         -0.136773   \n",
       "Airline_Air Asia                -0.104330          0.085799   \n",
       "Airline_Air India                0.261934         -0.033273   \n",
       "Airline_GoAir                   -0.094053          0.067205   \n",
       "Airline_IndiGo                  -0.346258          0.119781   \n",
       "Airline_Jet Airways              0.306361         -0.084183   \n",
       "Airline_Multiple carriers       -0.008331         -0.118981   \n",
       "Airline_SpiceJet                -0.263855          0.041299   \n",
       "Airline_Trujet                  -0.008253         -0.007610   \n",
       "Airline_Vistara                 -0.021639          0.042212   \n",
       "Source_Banglore                 -0.273954          0.230154   \n",
       "Source_Chennai                  -0.186675         -0.098833   \n",
       "Source_Delhi                     0.299931         -0.154038   \n",
       "Source_Kolkata                   0.123424          0.013722   \n",
       "Source_Mumbai                   -0.233338         -0.018777   \n",
       "Destination_Banglore             0.123424          0.013722   \n",
       "Destination_Cochin               0.299931         -0.154038   \n",
       "Destination_Delhi               -0.346205          0.218177   \n",
       "Destination_Hyderabad           -0.233338         -0.018777   \n",
       "Destination_Kolkata             -0.186675         -0.098833   \n",
       "Destination_New Delhi            0.004008          0.079844   \n",
       "Duration_hours                   1.000000         -0.126355   \n",
       "Duration_minutes                -0.126355          1.000000   \n",
       "Duration_Total_mins              0.999452         -0.093452   \n",
       "Dep_Hour                         0.002783         -0.023746   \n",
       "Dep_Min                         -0.021946          0.092548   \n",
       "Price                            0.508672         -0.124874   \n",
       "\n",
       "                           Duration_Total_mins  Dep_Hour   Dep_Min     Price  \n",
       "Total_Stops                           0.737764 -0.061402 -0.002743  0.603891  \n",
       "Airline_Air Asia                     -0.101850  0.045969  0.158184 -0.133044  \n",
       "Airline_Air India                     0.261785 -0.013004 -0.045442  0.050346  \n",
       "Airline_GoAir                        -0.092156 -0.016365  0.076733 -0.095146  \n",
       "Airline_IndiGo                       -0.343531 -0.023367 -0.014763 -0.361048  \n",
       "Airline_Jet Airways                   0.304676  0.113570  0.024820  0.428490  \n",
       "Airline_Multiple carriers            -0.012332 -0.152417 -0.109394  0.141087  \n",
       "Airline_SpiceJet                     -0.263445 -0.010434  0.092599 -0.296552  \n",
       "Airline_Trujet                       -0.008537  0.000857 -0.010008 -0.010380  \n",
       "Airline_Vistara                      -0.020310  0.023574 -0.078608 -0.060503  \n",
       "Source_Banglore                      -0.267279 -0.007858  0.077296 -0.118026  \n",
       "Source_Chennai                       -0.190657 -0.014835  0.067086 -0.179216  \n",
       "Source_Delhi                          0.295892 -0.118836 -0.085405  0.270619  \n",
       "Source_Kolkata                        0.124334  0.155500 -0.024298  0.009377  \n",
       "Source_Mumbai                        -0.234821 -0.017277  0.037675 -0.230745  \n",
       "Destination_Banglore                  0.124334  0.155500 -0.024298  0.009377  \n",
       "Destination_Cochin                    0.295892 -0.118836 -0.085405  0.270619  \n",
       "Destination_Delhi                    -0.340195  0.009489  0.003162 -0.313401  \n",
       "Destination_Hyderabad                -0.234821 -0.017277  0.037675 -0.230745  \n",
       "Destination_Kolkata                  -0.190657 -0.014835  0.067086 -0.179216  \n",
       "Destination_New Delhi                 0.006687 -0.022120  0.107091  0.189785  \n",
       "Duration_hours                        0.999452  0.002783 -0.021946  0.508672  \n",
       "Duration_minutes                     -0.093452 -0.023746  0.092548 -0.124874  \n",
       "Duration_Total_mins                   1.000000  0.002001 -0.018938  0.506371  \n",
       "Dep_Hour                              0.002001  1.000000 -0.024806  0.006819  \n",
       "Dep_Min                              -0.018938 -0.024806  1.000000 -0.024492  \n",
       "Price                                 0.506371  0.006819 -0.024492  1.000000  \n",
       "\n",
       "[27 rows x 27 columns]"
      ]
     },
     "execution_count": 38,
     "metadata": {},
     "output_type": "execute_result"
    }
   ],
   "source": [
    "new_data.corr()"
   ]
  },
  {
   "cell_type": "code",
   "execution_count": 30,
   "metadata": {},
   "outputs": [
    {
     "data": {
      "image/png": "[encoded data removed]",
      "text/plain": [
       "<Figure size 1296x1296 with 2 Axes>"
      ]
     },
     "metadata": {
      "needs_background": "light"
     },
     "output_type": "display_data"
    }
   ],
   "source": [
    "plt.figure(figsize=(18,18))\n",
    "sns.heatmap(new_data.corr(),annot=True,cmap='RdYlGn')\n",
    "\n",
    "plt.show()"
   ]
  },
  {
   "cell_type": "markdown",
   "metadata": {},
   "source": [
    "From the heatmap above, extreme green means highly positively correlated features (relationship between two variables in which both variables move in the same direction), extreme red means negatively correlated features (relationship between two variables in which an increase in one variable is associated with a decrease in the other).\n"
   ]
  },
  {
   "cell_type": "markdown",
   "metadata": {},
   "source": [
    "Now, we can use the `corr()` function to calculate and list the correlation between all independent variables and the 'price'.\n"
   ]
  },
  {
   "cell_type": "code",
   "execution_count": 31,
   "metadata": {},
   "outputs": [
    {
     "data": {
      "text/plain": [
       "Airline_IndiGo              -0.361048\n",
       "Destination_Delhi           -0.313401\n",
       "Airline_SpiceJet            -0.296552\n",
       "Destination_Hyderabad       -0.230745\n",
       "Source_Mumbai               -0.230745\n",
       "Destination_Kolkata         -0.179216\n",
       "Source_Chennai              -0.179216\n",
       "Airline_Air Asia            -0.133044\n",
       "Duration_minutes            -0.124874\n",
       "Source_Banglore             -0.118026\n",
       "Airline_GoAir               -0.095146\n",
       "Airline_Vistara             -0.060503\n",
       "Dep_Min                     -0.024492\n",
       "Airline_Trujet              -0.010380\n",
       "Dep_Hour                     0.006819\n",
       "Source_Kolkata               0.009377\n",
       "Destination_Banglore         0.009377\n",
       "Airline_Air India            0.050346\n",
       "Airline_Multiple carriers    0.141087\n",
       "Destination_New Delhi        0.189785\n",
       "Destination_Cochin           0.270619\n",
       "Source_Delhi                 0.270619\n",
       "Airline_Jet Airways          0.428490\n",
       "Duration_Total_mins          0.506371\n",
       "Duration_hours               0.508672\n",
       "Total_Stops                  0.603891\n",
       "Price                        1.000000\n",
       "Name: Price, dtype: float64"
      ]
     },
     "execution_count": 31,
     "metadata": {},
     "output_type": "execute_result"
    }
   ],
   "source": [
    "features = new_data.corr()['Price'].sort_values()\n",
    "features"
   ]
  },
  {
   "cell_type": "markdown",
   "metadata": {},
   "source": [
    "We can also plot these correlation coefficients for easier visualization.\n"
   ]
  },
  {
   "cell_type": "code",
   "execution_count": 32,
   "metadata": {},
   "outputs": [
    {
     "data": {
      "text/plain": [
       "<AxesSubplot:>"
      ]
     },
     "execution_count": 32,
     "metadata": {},
     "output_type": "execute_result"
    },
    {
     "data": {
      "image/png": "[encoded data removed]",
      "text/plain": [
       "<Figure size 720x576 with 1 Axes>"
      ]
     },
     "metadata": {
      "needs_background": "light"
     },
     "output_type": "display_data"
    }
   ],
   "source": [
    "features.plot(kind='bar',figsize=(10,8))"
   ]
  },
  {
   "cell_type": "markdown",
   "metadata": {},
   "source": [
    "From the graph above, we can deduct some of the highly correlated features and select only those ones for any future analysis.\n"
   ]
  },
  {
   "cell_type": "markdown",
   "metadata": {},
   "source": [
    "### **PCA with Scikit-Learn**\n"
   ]
  },
  {
   "cell_type": "markdown",
   "metadata": {},
   "source": [
    "Dimentionality reduction is part of the feature extraction process that combines the existing features to produce more useful ones. The goal of dimensionality reduction is to simplify the data without loosing too much information. Principal Component Analysis (PCA) is one of the most popular dimensionality reduction algorithms. First, it identifies the hyperplane that lies closest to the data, and then it projects the data onto it. In this way, a few multidimensional features are merged into one.\n",
    "\n",
    "In the following portion of the lab, we will use `scikit-learn` library to perform some PCA on our data.\n",
    "To learn more about `scikit-learn` PCA, please visit this [documentation](https://scikit-learn.org/stable/modules/generated/sklearn.decomposition.PCA.html?utm_medium=Exinfluencer&utm_source=Exinfluencer&utm_content=000026UJ&utm_term=10006555&utm_id=NA-SkillsNetwork-Channel-SkillsNetworkCoursesIBMML0232ENSkillsNetwork30654641-2022-01-01#sklearn.decomposition.PCA).\n"
   ]
  },
  {
   "cell_type": "markdown",
   "metadata": {},
   "source": [
    "First, we must scale our data using the `StandardScaler()` function.\n",
    "We will assign all the independent variables to x, and the dependent variable, 'price', to y.\n"
   ]
  },
  {
   "cell_type": "code",
   "execution_count": 33,
   "metadata": {},
   "outputs": [],
   "source": [
    "x = data1.loc[:,['Total_Stops', 'Airline_Air Asia',\n",
    "       'Airline_Air India', 'Airline_GoAir', 'Airline_IndiGo',\n",
    "       'Airline_Jet Airways', 'Airline_Multiple carriers', 'Airline_SpiceJet',\n",
    "       'Airline_Trujet', 'Airline_Vistara', 'Source_Banglore',\n",
    "       'Source_Chennai', 'Source_Delhi', 'Source_Kolkata', 'Source_Mumbai',\n",
    "       'Destination_Banglore', 'Destination_Cochin', 'Destination_Delhi',\n",
    "       'Destination_Hyderabad', 'Destination_Kolkata', 'Destination_New Delhi',\n",
    "       'Duration_hours', 'Duration_minutes', 'Duration_Total_mins', 'Dep_Hour',\n",
    "       'Dep_Min']]"
   ]
  },
  {
   "cell_type": "code",
   "execution_count": 34,
   "metadata": {},
   "outputs": [],
   "source": [
    "y= data1.Price"
   ]
  },
  {
   "cell_type": "code",
   "execution_count": 35,
   "metadata": {},
   "outputs": [
    {
     "data": {
      "text/plain": [
       "array([[-1.22052384, -0.17544122, -0.44291155, ..., -0.93158255,\n",
       "         1.65425948, -0.23505036],\n",
       "       [ 1.74150619, -0.17544122,  2.25778713, ..., -0.39007152,\n",
       "        -1.30309491,  1.36349161],\n",
       "       [ 1.74150619, -0.17544122, -0.44291155, ...,  0.97847452,\n",
       "        -0.60724682,  0.0313733 ],\n",
       "       ...,\n",
       "       [-1.22052384, -0.17544122, -0.44291155, ..., -0.91189124,\n",
       "        -0.78120884, -0.23505036],\n",
       "       [-1.22052384, -0.17544122, -0.44291155, ..., -0.95127386,\n",
       "        -0.25932278,  0.29779696],\n",
       "       [ 1.74150619, -0.17544122,  2.25778713, ..., -0.28176932,\n",
       "        -0.4332848 ,  1.62991527]])"
      ]
     },
     "execution_count": 35,
     "metadata": {},
     "output_type": "execute_result"
    }
   ],
   "source": [
    "scaler = StandardScaler()\n",
    "x=scaler.fit_transform(x.astype(np.float64))\n",
    "x"
   ]
  },
  {
   "cell_type": "markdown",
   "metadata": {},
   "source": [
    "Once the data is scaled, we can apply the `fit_transform()` function to reduce the dimensionality of the dataset down to two dimensions.\n"
   ]
  },
  {
   "cell_type": "code",
   "execution_count": 36,
   "metadata": {},
   "outputs": [
    {
     "data": {
      "text/plain": [
       "array([[-2.87558481, -0.55521529],\n",
       "       [ 0.31882248,  2.39234633],\n",
       "       [ 3.05931352, -0.52679749],\n",
       "       ...,\n",
       "       [-2.24754249, -0.58850104],\n",
       "       [-2.69894686, -0.28851666],\n",
       "       [ 1.92548258, -1.10426289]])"
      ]
     },
     "execution_count": 36,
     "metadata": {},
     "output_type": "execute_result"
    }
   ],
   "source": [
    "pca = PCA(n_components = 2)\n",
    "pca.fit_transform(x)"
   ]
  },
  {
   "cell_type": "markdown",
   "metadata": {},
   "source": [
    "### **Explained Variance Ratio**\n"
   ]
  },
  {
   "cell_type": "markdown",
   "metadata": {},
   "source": [
    "Another useful piece of information in PCA is the explained variance ratio of each principal component, available via the `explained_variance_ratio_` function. The ratio indicates the proportion of the dataset's variance that lies along each principal component. Let's look at the explained variance ratio of each of our two components.\n"
   ]
  },
  {
   "cell_type": "code",
   "execution_count": 37,
   "metadata": {},
   "outputs": [
    {
     "data": {
      "text/plain": [
       "array([0.17545521, 0.12110719])"
      ]
     },
     "execution_count": 37,
     "metadata": {},
     "output_type": "execute_result"
    }
   ],
   "source": [
    "explained_variance=pca.explained_variance_ratio_\n",
    "explained_variance"
   ]
  },
  {
   "cell_type": "markdown",
   "metadata": {},
   "source": [
    "The first component constitutes 17.54% of the variance and second component constitutes 12.11% of the variance between the features.\n"
   ]
  },
  {
   "cell_type": "markdown",
   "metadata": {},
   "source": [
    "## Author\n"
   ]
  },
  {
   "cell_type": "markdown",
   "metadata": {},
   "source": [
    "[Svitlana Kramar](https://www.linkedin.com/in/svitlana-kramar/?utm_medium=Exinfluencer&utm_source=Exinfluencer&utm_content=000026UJ&utm_term=10006555&utm_id=NA-SkillsNetwork-Channel-SkillsNetworkCoursesIBMML0232ENSkillsNetwork30654641-2022-01-01)\n"
   ]
  },
  {
   "cell_type": "markdown",
   "metadata": {},
   "source": [
    "## Change Log\n"
   ]
  },
  {
   "cell_type": "markdown",
   "metadata": {},
   "source": [
    "| Date (YYYY-MM-DD) | Version | Changed By | Change Description      |\n",
    "| ----------------- | ------- | ---------- | ----------------------- |\n",
    "| 2022-01-17        | 0.1     | Svitlana   | Modified multiple areas |\n"
   ]
  },
  {
   "cell_type": "markdown",
   "metadata": {},
   "source": [
    "Copyright © 2020 IBM Corporation. All rights reserved.\n"
   ]
  }
 ],
 "metadata": {
  "kernelspec": {
   "display_name": "Python 3 (ipykernel)",
   "language": "python",
   "name": "python3"
  },
  "language_info": {
   "codemirror_mode": {
    "name": "ipython",
    "version": 3
   },
   "file_extension": ".py",
   "mimetype": "text/x-python",
   "name": "python",
   "nbconvert_exporter": "python",
   "pygments_lexer": "ipython3",
   "version": "3.10.6"
  }
 },
 "nbformat": 4,
 "nbformat_minor": 4
}
