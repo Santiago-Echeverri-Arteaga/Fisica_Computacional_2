{
 "cells": [
  {
   "cell_type": "markdown",
   "id": "c35fc2aa-79ba-4e4b-9d78-3880ed7d5fa5",
   "metadata": {},
   "source": [
    "# Física Computacional I: Generalidades de Scipy\n",
    "\n",
    "## Elabordo por: Ph.D. Santiago Echeverri Arteaga"
   ]
  },
  {
   "cell_type": "code",
   "execution_count": 4,
   "id": "27a08ffb-c4b8-473c-a2e2-39d1f6fb79c9",
   "metadata": {},
   "outputs": [
    {
     "data": {
      "text/plain": [
       "['ConstantInputWarning',\n",
       " 'DegenerateDataWarning',\n",
       " 'FitError',\n",
       " 'NearConstantInputWarning',\n",
       " 'NumericalInverseHermite',\n",
       " '__all__',\n",
       " '__builtins__',\n",
       " '__cached__',\n",
       " '__doc__',\n",
       " '__file__',\n",
       " '__loader__',\n",
       " '__name__',\n",
       " '__package__',\n",
       " '__path__',\n",
       " '__spec__',\n",
       " '_axis_nan_policy',\n",
       " '_biasedurn',\n",
       " '_binned_statistic',\n",
       " '_binomtest',\n",
       " '_boost',\n",
       " '_common',\n",
       " '_constants',\n",
       " '_continuous_distns',\n",
       " '_crosstab',\n",
       " '_discrete_distns',\n",
       " '_distn_infrastructure',\n",
       " '_distr_params',\n",
       " '_entropy',\n",
       " '_fit',\n",
       " '_hypotests',\n",
       " '_hypotests_pythran',\n",
       " '_kde',\n",
       " '_ksstats',\n",
       " '_levy_stable',\n",
       " '_mannwhitneyu',\n",
       " '_morestats',\n",
       " '_mstats_basic',\n",
       " '_mstats_extras',\n",
       " '_multivariate',\n",
       " '_mvn',\n",
       " '_page_trend_test',\n",
       " '_qmc',\n",
       " '_qmc_cy',\n",
       " '_relative_risk',\n",
       " '_resampling',\n",
       " '_rvs_sampling',\n",
       " '_sobol',\n",
       " '_statlib',\n",
       " '_stats',\n",
       " '_stats_mstats_common',\n",
       " '_stats_py',\n",
       " '_tukeylambda_stats',\n",
       " '_unuran',\n",
       " '_variation',\n",
       " '_warnings_errors',\n",
       " 'alexandergovern',\n",
       " 'alpha',\n",
       " 'anderson',\n",
       " 'anderson_ksamp',\n",
       " 'anglit',\n",
       " 'ansari',\n",
       " 'arcsine',\n",
       " 'argus',\n",
       " 'barnard_exact',\n",
       " 'bartlett',\n",
       " 'bayes_mvs',\n",
       " 'bernoulli',\n",
       " 'beta',\n",
       " 'betabinom',\n",
       " 'betaprime',\n",
       " 'biasedurn',\n",
       " 'binned_statistic',\n",
       " 'binned_statistic_2d',\n",
       " 'binned_statistic_dd',\n",
       " 'binom',\n",
       " 'binom_test',\n",
       " 'binomtest',\n",
       " 'boltzmann',\n",
       " 'bootstrap',\n",
       " 'boschloo_exact',\n",
       " 'boxcox',\n",
       " 'boxcox_llf',\n",
       " 'boxcox_normmax',\n",
       " 'boxcox_normplot',\n",
       " 'bradford',\n",
       " 'brunnermunzel',\n",
       " 'burr',\n",
       " 'burr12',\n",
       " 'cauchy',\n",
       " 'chi',\n",
       " 'chi2',\n",
       " 'chi2_contingency',\n",
       " 'chisquare',\n",
       " 'circmean',\n",
       " 'circstd',\n",
       " 'circvar',\n",
       " 'combine_pvalues',\n",
       " 'contingency',\n",
       " 'cosine',\n",
       " 'cramervonmises',\n",
       " 'cramervonmises_2samp',\n",
       " 'crystalball',\n",
       " 'cumfreq',\n",
       " 'describe',\n",
       " 'dgamma',\n",
       " 'differential_entropy',\n",
       " 'dirichlet',\n",
       " 'distributions',\n",
       " 'dlaplace',\n",
       " 'dweibull',\n",
       " 'energy_distance',\n",
       " 'entropy',\n",
       " 'epps_singleton_2samp',\n",
       " 'erlang',\n",
       " 'expon',\n",
       " 'exponnorm',\n",
       " 'exponpow',\n",
       " 'exponweib',\n",
       " 'f',\n",
       " 'f_oneway',\n",
       " 'fatiguelife',\n",
       " 'find_repeats',\n",
       " 'fisher_exact',\n",
       " 'fisk',\n",
       " 'fit',\n",
       " 'fligner',\n",
       " 'foldcauchy',\n",
       " 'foldnorm',\n",
       " 'friedmanchisquare',\n",
       " 'gamma',\n",
       " 'gausshyper',\n",
       " 'gaussian_kde',\n",
       " 'genexpon',\n",
       " 'genextreme',\n",
       " 'gengamma',\n",
       " 'genhalflogistic',\n",
       " 'genhyperbolic',\n",
       " 'geninvgauss',\n",
       " 'genlogistic',\n",
       " 'gennorm',\n",
       " 'genpareto',\n",
       " 'geom',\n",
       " 'gibrat',\n",
       " 'gilbrat',\n",
       " 'gmean',\n",
       " 'gompertz',\n",
       " 'gstd',\n",
       " 'gumbel_l',\n",
       " 'gumbel_r',\n",
       " 'gzscore',\n",
       " 'halfcauchy',\n",
       " 'halfgennorm',\n",
       " 'halflogistic',\n",
       " 'halfnorm',\n",
       " 'hmean',\n",
       " 'hypergeom',\n",
       " 'hypsecant',\n",
       " 'invgamma',\n",
       " 'invgauss',\n",
       " 'invweibull',\n",
       " 'invwishart',\n",
       " 'iqr',\n",
       " 'jarque_bera',\n",
       " 'johnsonsb',\n",
       " 'johnsonsu',\n",
       " 'kappa3',\n",
       " 'kappa4',\n",
       " 'kde',\n",
       " 'kendalltau',\n",
       " 'kruskal',\n",
       " 'ks_1samp',\n",
       " 'ks_2samp',\n",
       " 'ksone',\n",
       " 'kstat',\n",
       " 'kstatvar',\n",
       " 'kstest',\n",
       " 'kstwo',\n",
       " 'kstwobign',\n",
       " 'kurtosis',\n",
       " 'kurtosistest',\n",
       " 'laplace',\n",
       " 'laplace_asymmetric',\n",
       " 'levene',\n",
       " 'levy',\n",
       " 'levy_l',\n",
       " 'levy_stable',\n",
       " 'linregress',\n",
       " 'loggamma',\n",
       " 'logistic',\n",
       " 'loglaplace',\n",
       " 'lognorm',\n",
       " 'logser',\n",
       " 'loguniform',\n",
       " 'lomax',\n",
       " 'mannwhitneyu',\n",
       " 'matrix_normal',\n",
       " 'maxwell',\n",
       " 'median_abs_deviation',\n",
       " 'median_test',\n",
       " 'mielke',\n",
       " 'mode',\n",
       " 'moment',\n",
       " 'monte_carlo_test',\n",
       " 'mood',\n",
       " 'morestats',\n",
       " 'moyal',\n",
       " 'mstats',\n",
       " 'mstats_basic',\n",
       " 'mstats_extras',\n",
       " 'multinomial',\n",
       " 'multiscale_graphcorr',\n",
       " 'multivariate_hypergeom',\n",
       " 'multivariate_normal',\n",
       " 'multivariate_t',\n",
       " 'mvn',\n",
       " 'mvsdist',\n",
       " 'nakagami',\n",
       " 'nbinom',\n",
       " 'ncf',\n",
       " 'nchypergeom_fisher',\n",
       " 'nchypergeom_wallenius',\n",
       " 'nct',\n",
       " 'ncx2',\n",
       " 'nhypergeom',\n",
       " 'norm',\n",
       " 'normaltest',\n",
       " 'norminvgauss',\n",
       " 'obrientransform',\n",
       " 'ortho_group',\n",
       " 'page_trend_test',\n",
       " 'pareto',\n",
       " 'pearson3',\n",
       " 'pearsonr',\n",
       " 'percentileofscore',\n",
       " 'permutation_test',\n",
       " 'planck',\n",
       " 'pmean',\n",
       " 'pointbiserialr',\n",
       " 'poisson',\n",
       " 'power_divergence',\n",
       " 'powerlaw',\n",
       " 'powerlognorm',\n",
       " 'powernorm',\n",
       " 'ppcc_max',\n",
       " 'ppcc_plot',\n",
       " 'probplot',\n",
       " 'qmc',\n",
       " 'randint',\n",
       " 'random_correlation',\n",
       " 'rankdata',\n",
       " 'ranksums',\n",
       " 'rayleigh',\n",
       " 'rdist',\n",
       " 'recipinvgauss',\n",
       " 'reciprocal',\n",
       " 'relfreq',\n",
       " 'rice',\n",
       " 'rv_continuous',\n",
       " 'rv_discrete',\n",
       " 'rv_histogram',\n",
       " 'rvs_ratio_uniforms',\n",
       " 'scoreatpercentile',\n",
       " 'sem',\n",
       " 'semicircular',\n",
       " 'shapiro',\n",
       " 'siegelslopes',\n",
       " 'sigmaclip',\n",
       " 'skellam',\n",
       " 'skew',\n",
       " 'skewcauchy',\n",
       " 'skewnorm',\n",
       " 'skewtest',\n",
       " 'somersd',\n",
       " 'spearmanr',\n",
       " 'special_ortho_group',\n",
       " 'statlib',\n",
       " 'stats',\n",
       " 'studentized_range',\n",
       " 't',\n",
       " 'test',\n",
       " 'theilslopes',\n",
       " 'tiecorrect',\n",
       " 'tmax',\n",
       " 'tmean',\n",
       " 'tmin',\n",
       " 'trapezoid',\n",
       " 'trapz',\n",
       " 'triang',\n",
       " 'trim1',\n",
       " 'trim_mean',\n",
       " 'trimboth',\n",
       " 'truncexpon',\n",
       " 'truncnorm',\n",
       " 'truncweibull_min',\n",
       " 'tsem',\n",
       " 'tstd',\n",
       " 'ttest_1samp',\n",
       " 'ttest_ind',\n",
       " 'ttest_ind_from_stats',\n",
       " 'ttest_rel',\n",
       " 'tukey_hsd',\n",
       " 'tukeylambda',\n",
       " 'tvar',\n",
       " 'uniform',\n",
       " 'unitary_group',\n",
       " 'variation',\n",
       " 'vonmises',\n",
       " 'vonmises_line',\n",
       " 'wald',\n",
       " 'wasserstein_distance',\n",
       " 'weibull_max',\n",
       " 'weibull_min',\n",
       " 'weightedtau',\n",
       " 'wilcoxon',\n",
       " 'wishart',\n",
       " 'wrapcauchy',\n",
       " 'yeojohnson',\n",
       " 'yeojohnson_llf',\n",
       " 'yeojohnson_normmax',\n",
       " 'yeojohnson_normplot',\n",
       " 'yulesimon',\n",
       " 'zipf',\n",
       " 'zipfian',\n",
       " 'zmap',\n",
       " 'zscore']"
      ]
     },
     "execution_count": 4,
     "metadata": {},
     "output_type": "execute_result"
    }
   ],
   "source": [
    "dir(stats)"
   ]
  },
  {
   "cell_type": "code",
   "execution_count": 1,
   "id": "75b2a66e-e24c-4bb7-bf56-b00903435761",
   "metadata": {},
   "outputs": [],
   "source": [
    "import pandas as pd\n",
    "from scipy import stats, optimize\n",
    "import numpy as np\n",
    "import matplotlib.pyplot as plt\n",
    "import seaborn as sns"
   ]
  },
  {
   "cell_type": "code",
   "execution_count": 2,
   "id": "19ecdac6-c3cd-40eb-91cf-67dab549e77f",
   "metadata": {},
   "outputs": [],
   "source": [
    "import warnings\n",
    "warnings.filterwarnings(\"ignore\")"
   ]
  },
  {
   "cell_type": "markdown",
   "id": "11a27cae-0762-43a0-b1df-df0c32e11483",
   "metadata": {},
   "source": [
    "### Variables aleatorias"
   ]
  },
  {
   "cell_type": "code",
   "execution_count": 155,
   "id": "93b779fc-1d50-4bcc-a944-95ae64c0ee32",
   "metadata": {},
   "outputs": [
    {
     "name": "stdout",
     "output_type": "stream",
     "text": [
      "DIST\n",
      "Mean: 0.0 Variance: 1.0 Skew: 0.0 Kurt: 0.0\n",
      "DIST2\n",
      "Mean: 5.0 Variance: 10.0 Skew: 1.265 Kurt: 2.4\n"
     ]
    },
    {
     "data": {
      "image/png": "[encoded data removed]",
      "text/plain": [
       "<Figure size 864x144 with 2 Axes>"
      ]
     },
     "metadata": {
      "needs_background": "light"
     },
     "output_type": "display_data"
    }
   ],
   "source": [
    "import numpy as np\n",
    "\n",
    "fig, axes = plt.subplots(1, 2, figsize=(12, 2))\n",
    "x = np.linspace(-5,20,1000)\n",
    "\n",
    "dist = stats.norm(loc=0, scale=1)\n",
    "dist2 = stats.chi2(df=5)\n",
    "\n",
    "pdf = dist.pdf(x)\n",
    "cdf = dist.cdf(x)\n",
    "\n",
    "pdf2 = dist2.pdf(x)\n",
    "cdf2 = dist2.cdf(x)\n",
    "\n",
    "sample = dist.rvs(500)\n",
    "sample2 = dist2.rvs(500)\n",
    "\n",
    "axes[0].plot(x,cdf)\n",
    "axes[0].plot(x,cdf2,color='r')\n",
    "\n",
    "axes[1].plot(x,pdf)\n",
    "axes[1].plot(x,pdf2,color='r')\n",
    "\n",
    "m,v,s,k = dist.stats(moments='mvsk')\n",
    "m2,v2,s2,k2 = dist2.stats(moments='mvsk')\n",
    "print('DIST\\nMean: {0} Variance: {1} Skew: {2} Kurt: {3}'.format(m,v,s,k))\n",
    "print('DIST2\\nMean: {0} Variance: {1} Skew: {2:.3f} Kurt: {3}'.format(m2,v2,s2,k2))"
   ]
  },
  {
   "cell_type": "code",
   "execution_count": 180,
   "id": "4197a33c-55b2-4dde-aba5-d728c5788869",
   "metadata": {},
   "outputs": [
    {
     "name": "stdout",
     "output_type": "stream",
     "text": [
      "0.4772498680518209 0.4772498680518208\n"
     ]
    }
   ],
   "source": [
    "print(dist.expect(lambda x: 1, lb=0.0, ub=2.0), dist.cdf(2.0) - dist.cdf(0.0))"
   ]
  },
  {
   "cell_type": "markdown",
   "id": "5baf36c9-1c90-4b43-80c3-76389b6b6473",
   "metadata": {},
   "source": [
    "#### Crear distribuciones y encontrar los mejores parámetros que ajustan los datos a una distribución (Maximum likelihood estimation)"
   ]
  },
  {
   "cell_type": "code",
   "execution_count": 186,
   "id": "5a085f55-eba4-4363-85a3-607d71d58657",
   "metadata": {},
   "outputs": [
    {
     "name": "stdout",
     "output_type": "stream",
     "text": [
      "Fit Gaussiano de la distribución\n",
      "Los parámetros serían (-0.03350816428862874, 0.9853398415359033)\n",
      "Fit Chi cuadrado de la distribución\n",
      "Los parámetros serían (1.156354420629563, -3.3384326516721576, 1.0286789567783274)\n",
      "Fit Normal de la distribución\n",
      "Los parámetros serían (-0.03350816428862933, 0.9853398411944276)\n"
     ]
    }
   ],
   "source": [
    "data = dist.rvs(1000)\n",
    "from scipy.stats import rv_continuous\n",
    "class gaussian_gen(rv_continuous):\n",
    "    '''Gaussian distribution'''\n",
    "    def _pdf(self, x):\n",
    "        return np.exp(-x**2 / 2.) / np.sqrt(2.0 * np.pi)\n",
    "gaussian = gaussian_gen(name='gaussian')\n",
    "\n",
    "print('Fit Gaussiano de la distribución\\nLos parámetros serían',gaussian.fit(data))\n",
    "print('Fit Chi cuadrado de la distribución\\nLos parámetros serían',stats.chi2.fit(data))\n",
    "print('Fit Normal de la distribución\\nLos parámetros serían',stats.norm.fit(data))"
   ]
  },
  {
   "cell_type": "markdown",
   "id": "c0510434-e6a3-460b-8571-17a049dbb4ee",
   "metadata": {},
   "source": [
    "### Distribución no paramétrica"
   ]
  },
  {
   "cell_type": "markdown",
   "id": "b26dea6a-a572-41db-a4e1-92a2f38d4836",
   "metadata": {},
   "source": [
    "#### Estimador Kernel"
   ]
  },
  {
   "cell_type": "code",
   "execution_count": 6,
   "id": "17488fb5-64bd-48be-888a-294150d1c620",
   "metadata": {},
   "outputs": [
    {
     "data": {
      "text/plain": [
       "<AxesSubplot:ylabel='Density'>"
      ]
     },
     "execution_count": 6,
     "metadata": {},
     "output_type": "execute_result"
    },
    {
     "data": {
      "image/png": "[encoded data removed]",
      "text/plain": [
       "<Figure size 864x216 with 3 Axes>"
      ]
     },
     "metadata": {
      "needs_background": "light"
     },
     "output_type": "display_data"
    }
   ],
   "source": [
    "# Se genera un array de 0 a 200 para la graficación (Datos eje X)\n",
    "x = np.linspace(0, 20, 10000)\n",
    "# Se generan los valores de la variable aleatoria en términos de una distribución chi cuadrado (Datos frecuencias eje y)\n",
    "X = stats.chi2(df=5)\n",
    "X_samples = X.rvs(100)\n",
    "\n",
    "# Crea estancias de graficación en Matplotlib\n",
    "fig, axes = plt.subplots(1, 3, figsize=(12, 3))\n",
    "\n",
    "# \n",
    "kde = stats.kde.gaussian_kde(X_samples)\n",
    "kde_low_bw = stats.kde.gaussian_kde(X_samples, bw_method=0.5)\n",
    "\n",
    "# Realiza graficas en Seaborn y Matplotlib\n",
    "axes[0].hist(X_samples, alpha=0.5, bins=25)\n",
    "axes[1].plot(x, kde(x), label=\"KDE\")\n",
    "axes[1].plot(x, kde_low_bw(x), label=\"KDE (low bw)\")\n",
    "\n",
    "# PDF a partir de la distribución chi cuadrado\n",
    "\n",
    "axes[1].plot(x, X.pdf(x), label=\"True PDF\")\n",
    "axes[1].legend()\n",
    "\n",
    "# Grafico de seaborn\n",
    "sns.distplot(X_samples, bins=25, ax=axes[2])"
   ]
  },
  {
   "cell_type": "code",
   "execution_count": 7,
   "id": "07d72c87-9ac7-4f36-aee6-62c0be5e20e4",
   "metadata": {},
   "outputs": [],
   "source": [
    "def _kde_cdf(x):\n",
    "    return kde.integrate_box_1d(-np.inf, x)\n",
    "kde_cdf = np.vectorize(_kde_cdf)"
   ]
  },
  {
   "cell_type": "code",
   "execution_count": 19,
   "id": "c6396ee6-c328-4eb6-b2f7-7ed5e097f772",
   "metadata": {},
   "outputs": [
    {
     "data": {
      "text/plain": [
       "array(0.67765973)"
      ]
     },
     "execution_count": 19,
     "metadata": {},
     "output_type": "execute_result"
    }
   ],
   "source": [
    "kde_ppf(0.05)"
   ]
  },
  {
   "cell_type": "code",
   "execution_count": 11,
   "id": "8df226ab-b8c4-454e-884b-c292c8a04e59",
   "metadata": {},
   "outputs": [],
   "source": [
    "def _kde_ppf(q):\n",
    "    return optimize.fsolve(lambda x, q: kde_cdf(x) - q, kde.dataset.mean(), args=(q,))[0]\n",
    "kde_ppf = np.vectorize(_kde_ppf) # Para que la salida sea un array"
   ]
  },
  {
   "cell_type": "code",
   "execution_count": 20,
   "id": "0e7100cf-4595-45b0-a294-4478b608e52f",
   "metadata": {},
   "outputs": [
    {
     "data": {
      "text/plain": [
       "array([ 0.67765973, 11.27544725])"
      ]
     },
     "execution_count": 20,
     "metadata": {},
     "output_type": "execute_result"
    }
   ],
   "source": [
    "#kde_ppf([0.05, 0.95])\n",
    "np.array([_kde_ppf(i) for i in [0.05,0.95]])"
   ]
  },
  {
   "cell_type": "code",
   "execution_count": 23,
   "id": "c86f11bb-dbcd-4807-8f49-d7d10dd75c15",
   "metadata": {},
   "outputs": [
    {
     "data": {
      "text/plain": [
       "array(0.05)"
      ]
     },
     "execution_count": 23,
     "metadata": {},
     "output_type": "execute_result"
    }
   ],
   "source": [
    "kde_cdf(0.67765973)"
   ]
  },
  {
   "cell_type": "code",
   "execution_count": 24,
   "id": "97e08d79-f2c4-40e5-a8fa-a7784fe3df58",
   "metadata": {},
   "outputs": [],
   "source": [
    "X2 = stats.norm(3, 4)\n",
    "X2_sample = X2.rvs(100)"
   ]
  },
  {
   "cell_type": "markdown",
   "id": "37d1f39d-9ba2-4580-a231-98720f750cb6",
   "metadata": {},
   "source": [
    "### QQ-Plot y transformación BoxCox"
   ]
  },
  {
   "cell_type": "code",
   "execution_count": 26,
   "id": "05d07d31-5471-43db-9c51-c03dd013efe2",
   "metadata": {},
   "outputs": [
    {
     "name": "stdout",
     "output_type": "stream",
     "text": [
      "                Valor usado de Lambda: 2.569                \n"
     ]
    },
    {
     "data": {
      "image/png": "[encoded data removed]",
      "text/plain": [
       "<Figure size 432x288 with 2 Axes>"
      ]
     },
     "metadata": {
      "needs_background": "light"
     },
     "output_type": "display_data"
    }
   ],
   "source": [
    "fig = plt.figure()\n",
    "ax1 = fig.add_subplot(121)\n",
    "x = stats.loggamma.rvs(5, size=500) + 5\n",
    "stats.probplot(x, dist=stats.norm, plot=ax1)\n",
    "ax1.set_xlabel('')\n",
    "ax1.set_title('Antes de Box-Cox')\n",
    "ax2 = fig.add_subplot(122)\n",
    "xt, lmbda = stats.boxcox(x)\n",
    "stats.probplot(xt, dist=stats.norm, plot=ax2)\n",
    "ax2.set_title('Después de Box-Cox')\n",
    "print('Valor usado de Lambda: {0:.3f}'.format(lmbda).center(60))"
   ]
  },
  {
   "cell_type": "code",
   "execution_count": 27,
   "id": "e103ef0e-5637-4464-b9fd-4b1f337fcebc",
   "metadata": {},
   "outputs": [
    {
     "name": "stdout",
     "output_type": "stream",
     "text": [
      "El sesgo de los datos iniciales fue de -0.394 y de los datos transformados fue 0.005\n"
     ]
    },
    {
     "data": {
      "image/png": "[encoded data removed]",
      "text/plain": [
       "<Figure size 864x216 with 2 Axes>"
      ]
     },
     "metadata": {
      "needs_background": "light"
     },
     "output_type": "display_data"
    }
   ],
   "source": [
    "fig, axes = plt.subplots(1, 2, figsize=(12, 3))\n",
    "sns.distplot(x,ax=axes[0])\n",
    "sns.distplot(xt,ax=axes[1])\n",
    "print('El sesgo de los datos iniciales fue de {0:.3f} y de los datos transformados fue {1:.3f}'.format(stats.skew(x),stats.skew(xt)))"
   ]
  },
  {
   "cell_type": "code",
   "execution_count": 28,
   "id": "d62b7935-9451-47d1-81b4-2cf3901f32ad",
   "metadata": {},
   "outputs": [
    {
     "name": "stdout",
     "output_type": "stream",
     "text": [
      "El sesgo de los datos iniciales fue de -0.394 y de los datos con inv_boxcox -0.394\n",
      "¿Son iguales? Respuesta: True\n"
     ]
    },
    {
     "data": {
      "image/png": "[encoded data removed]",
      "text/plain": [
       "<Figure size 864x216 with 2 Axes>"
      ]
     },
     "metadata": {
      "needs_background": "light"
     },
     "output_type": "display_data"
    }
   ],
   "source": [
    "from scipy.special import inv_boxcox\n",
    "fig, axes = plt.subplots(1, 2, figsize=(12, 3))\n",
    "sns.distplot(x,ax=axes[0])\n",
    "sns.distplot(inv_boxcox(xt,lmbda),ax=axes[1])\n",
    "print('El sesgo de los datos iniciales fue de {0:.3f} y de los datos con inv_boxcox {1:.3f}'.format(stats.skew(x),stats.skew(inv_boxcox(xt,lmbda))))\n",
    "print('¿Son iguales? Respuesta: {}'.format(np.allclose(x,inv_boxcox(xt,lmbda))))"
   ]
  },
  {
   "cell_type": "code",
   "execution_count": 29,
   "id": "b14b5d64-db64-4786-891b-84a268d97f94",
   "metadata": {},
   "outputs": [
    {
     "data": {
      "text/plain": [
       "array([False, False, False, False, False, False, False, False, False,\n",
       "        True,  True,  True,  True, False,  True,  True,  True,  True,\n",
       "       False, False, False, False,  True, False,  True,  True, False,\n",
       "       False, False, False,  True, False,  True, False, False,  True,\n",
       "        True, False,  True, False, False, False, False, False, False,\n",
       "       False,  True,  True, False,  True,  True, False,  True, False,\n",
       "       False,  True,  True, False, False, False,  True,  True,  True,\n",
       "        True, False, False,  True,  True, False,  True, False, False,\n",
       "        True,  True, False,  True, False,  True, False, False, False,\n",
       "        True, False, False, False,  True, False, False,  True, False,\n",
       "       False,  True, False, False,  True, False, False, False,  True,\n",
       "       False, False, False, False, False,  True,  True, False, False,\n",
       "        True, False, False,  True, False, False, False, False, False,\n",
       "        True,  True,  True, False,  True, False,  True, False, False,\n",
       "        True, False,  True,  True, False, False, False,  True,  True,\n",
       "       False,  True,  True,  True, False, False, False, False, False,\n",
       "       False, False, False, False, False, False,  True,  True, False,\n",
       "       False, False, False,  True,  True,  True, False,  True, False,\n",
       "       False,  True, False,  True, False, False,  True,  True,  True,\n",
       "        True,  True, False, False,  True,  True, False,  True, False,\n",
       "        True, False,  True,  True, False, False,  True, False,  True,\n",
       "       False, False, False, False, False,  True, False, False, False,\n",
       "       False, False, False,  True,  True,  True, False, False, False,\n",
       "        True, False, False,  True, False,  True,  True, False, False,\n",
       "       False,  True, False,  True,  True, False, False,  True,  True,\n",
       "       False,  True, False,  True,  True,  True, False,  True, False,\n",
       "        True, False,  True,  True, False,  True, False, False, False,\n",
       "       False,  True, False, False, False, False, False, False, False,\n",
       "        True,  True, False, False, False, False, False,  True, False,\n",
       "        True, False,  True,  True,  True,  True, False, False,  True,\n",
       "       False, False, False, False,  True, False, False,  True,  True,\n",
       "       False, False, False, False,  True,  True,  True,  True,  True,\n",
       "        True, False, False,  True,  True,  True, False, False, False,\n",
       "       False, False, False,  True, False, False, False,  True, False,\n",
       "        True, False,  True, False, False,  True, False,  True, False,\n",
       "       False, False,  True, False, False,  True,  True, False, False,\n",
       "       False, False, False,  True, False, False, False, False, False,\n",
       "       False, False,  True,  True, False, False, False,  True, False,\n",
       "       False, False,  True, False,  True, False, False,  True,  True,\n",
       "        True, False, False, False,  True, False,  True, False, False,\n",
       "       False, False,  True,  True,  True,  True,  True, False, False,\n",
       "       False, False,  True,  True, False,  True, False,  True,  True,\n",
       "        True, False,  True, False, False,  True, False, False,  True,\n",
       "        True, False, False,  True, False, False, False, False,  True,\n",
       "       False, False, False,  True, False,  True,  True, False,  True,\n",
       "       False,  True, False,  True,  True, False,  True,  True, False,\n",
       "       False, False,  True,  True, False, False, False,  True,  True,\n",
       "        True,  True,  True, False,  True,  True,  True, False, False,\n",
       "       False,  True,  True,  True,  True,  True, False, False,  True,\n",
       "       False, False, False,  True,  True,  True, False,  True,  True,\n",
       "       False,  True, False, False,  True,  True, False,  True, False,\n",
       "       False,  True,  True, False,  True, False, False,  True,  True,\n",
       "        True,  True, False, False, False,  True, False, False, False,\n",
       "       False, False, False, False, False, False, False, False, False,\n",
       "        True,  True,  True, False, False,  True, False,  True,  True,\n",
       "        True,  True, False, False, False])"
      ]
     },
     "execution_count": 29,
     "metadata": {},
     "output_type": "execute_result"
    }
   ],
   "source": [
    "x==inv_boxcox(xt,lmbda)"
   ]
  },
  {
   "cell_type": "code",
   "execution_count": null,
   "id": "9bf69ba2-de2e-43af-8c64-a4295cef85f5",
   "metadata": {},
   "outputs": [],
   "source": []
  }
 ],
 "metadata": {
  "kernelspec": {
   "display_name": "Python 3 (ipykernel)",
   "language": "python",
   "name": "python3"
  },
  "language_info": {
   "codemirror_mode": {
    "name": "ipython",
    "version": 3
   },
   "file_extension": ".py",
   "mimetype": "text/x-python",
   "name": "python",
   "nbconvert_exporter": "python",
   "pygments_lexer": "ipython3",
   "version": "3.10.6"
  }
 },
 "nbformat": 4,
 "nbformat_minor": 5
}
